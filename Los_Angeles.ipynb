{
 "cells": [
  {
   "cell_type": "markdown",
   "metadata": {},
   "source": [
    "## Loading and Merging Data from CSV files"
   ]
  },
  {
   "cell_type": "code",
   "execution_count": 241,
   "metadata": {},
   "outputs": [],
   "source": [
    "import pandas as pd\n",
    "\n",
    "# List of file names for March, April, and May across four years\n",
    "file_names = [\n",
    "    'Los_Angeles_January_2024.csv','Los_Angeles_February_2024.csv','Los_Angeles_March_2024.csv',\n",
    "    'Los_Angeles_April_2024.csv','Los_Angeles_May_2024.csv','Los_Angeles_June_2024.csv'\n",
    "]\n",
    "# List to store dataframes\n",
    "dataframes = []\n",
    "\n",
    "# Read each CSV file and append to the list\n",
    "for file_name in file_names:\n",
    "    df = pd.read_csv(file_name)\n",
    "    dataframes.append(df)\n",
    "\n",
    "# Check if dataframes list is not empty\n",
    "if dataframes:\n",
    "    # Concatenate all dataframes into a single dataframe\n",
    "    merged_LA_df = pd.concat(dataframes, ignore_index=True)"
   ]
  },
  {
   "cell_type": "markdown",
   "metadata": {},
   "source": [
    "## Data Inspection"
   ]
  },
  {
   "cell_type": "code",
   "execution_count": 242,
   "metadata": {},
   "outputs": [
    {
     "name": "stdout",
     "output_type": "stream",
     "text": [
      "   location_id         location_name parameter  value unit  \\\n",
      "0         7936  Los Angeles - N. Mai        co    0.3  ppm   \n",
      "1         7936  Los Angeles - N. Mai        co    0.3  ppm   \n",
      "2         7936  Los Angeles - N. Mai        co    0.5  ppm   \n",
      "3         7936  Los Angeles - N. Mai        co    0.6  ppm   \n",
      "4         7936  Los Angeles - N. Mai        co    0.8  ppm   \n",
      "\n",
      "                 datetimeUtc              datetimeLocal             timezone  \\\n",
      "0  2024-01-01T01:00:00+00:00  2023-12-31T17:00:00-08:00  America/Los_Angeles   \n",
      "1  2024-01-01T02:00:00+00:00  2023-12-31T18:00:00-08:00  America/Los_Angeles   \n",
      "2  2024-01-01T03:00:00+00:00  2023-12-31T19:00:00-08:00  America/Los_Angeles   \n",
      "3  2024-01-01T04:00:00+00:00  2023-12-31T20:00:00-08:00  America/Los_Angeles   \n",
      "4  2024-01-01T05:00:00+00:00  2023-12-31T21:00:00-08:00  America/Los_Angeles   \n",
      "\n",
      "    latitude   longitude  country_iso  isMobile  isMonitor  \\\n",
      "0  34.066429 -118.226755          NaN       NaN        NaN   \n",
      "1  34.066429 -118.226755          NaN       NaN        NaN   \n",
      "2  34.066429 -118.226755          NaN       NaN        NaN   \n",
      "3  34.066429 -118.226755          NaN       NaN        NaN   \n",
      "4  34.066429 -118.226755          NaN       NaN        NaN   \n",
      "\n",
      "                          owner_name provider  \n",
      "0  Unknown Governmental Organization   AirNow  \n",
      "1  Unknown Governmental Organization   AirNow  \n",
      "2  Unknown Governmental Organization   AirNow  \n",
      "3  Unknown Governmental Organization   AirNow  \n",
      "4  Unknown Governmental Organization   AirNow  \n"
     ]
    }
   ],
   "source": [
    "# Display the first few rows of the DataFrame to get a quick look at the data\n",
    "print(merged_LA_df.head())"
   ]
  },
  {
   "cell_type": "code",
   "execution_count": 243,
   "metadata": {},
   "outputs": [
    {
     "name": "stdout",
     "output_type": "stream",
     "text": [
      "<class 'pandas.core.frame.DataFrame'>\n",
      "RangeIndex: 20067 entries, 0 to 20066\n",
      "Data columns (total 15 columns):\n",
      " #   Column         Non-Null Count  Dtype  \n",
      "---  ------         --------------  -----  \n",
      " 0   location_id    20067 non-null  int64  \n",
      " 1   location_name  20067 non-null  object \n",
      " 2   parameter      20067 non-null  object \n",
      " 3   value          20067 non-null  float64\n",
      " 4   unit           20067 non-null  object \n",
      " 5   datetimeUtc    20067 non-null  object \n",
      " 6   datetimeLocal  20067 non-null  object \n",
      " 7   timezone       20067 non-null  object \n",
      " 8   latitude       20067 non-null  float64\n",
      " 9   longitude      20067 non-null  float64\n",
      " 10  country_iso    0 non-null      float64\n",
      " 11  isMobile       0 non-null      float64\n",
      " 12  isMonitor      0 non-null      float64\n",
      " 13  owner_name     20067 non-null  object \n",
      " 14  provider       20067 non-null  object \n",
      "dtypes: float64(6), int64(1), object(8)\n",
      "memory usage: 2.3+ MB\n"
     ]
    }
   ],
   "source": [
    "# Display a concise summary of the DataFrame\n",
    "merged_LA_df.info()"
   ]
  },
  {
   "cell_type": "markdown",
   "metadata": {},
   "source": [
    "## Data Cleaning"
   ]
  },
  {
   "cell_type": "markdown",
   "metadata": {},
   "source": [
    "#Handling missing values"
   ]
  },
  {
   "cell_type": "code",
   "execution_count": 244,
   "metadata": {},
   "outputs": [
    {
     "data": {
      "text/plain": [
       "location_id          0\n",
       "location_name        0\n",
       "parameter            0\n",
       "value                0\n",
       "unit                 0\n",
       "datetimeUtc          0\n",
       "datetimeLocal        0\n",
       "timezone             0\n",
       "latitude             0\n",
       "longitude            0\n",
       "country_iso      20067\n",
       "isMobile         20067\n",
       "isMonitor        20067\n",
       "owner_name           0\n",
       "provider             0\n",
       "dtype: int64"
      ]
     },
     "execution_count": 244,
     "metadata": {},
     "output_type": "execute_result"
    }
   ],
   "source": [
    "# Check for missing values in each column and count them\n",
    "merged_LA_df.isnull().sum()\n"
   ]
  },
  {
   "cell_type": "code",
   "execution_count": 245,
   "metadata": {},
   "outputs": [
    {
     "name": "stdout",
     "output_type": "stream",
     "text": [
      "   location_id         location_name parameter  value unit  \\\n",
      "0         7936  Los Angeles - N. Mai        co    0.3  ppm   \n",
      "1         7936  Los Angeles - N. Mai        co    0.3  ppm   \n",
      "2         7936  Los Angeles - N. Mai        co    0.5  ppm   \n",
      "3         7936  Los Angeles - N. Mai        co    0.6  ppm   \n",
      "4         7936  Los Angeles - N. Mai        co    0.8  ppm   \n",
      "\n",
      "                 datetimeUtc              datetimeLocal             timezone  \\\n",
      "0  2024-01-01T01:00:00+00:00  2023-12-31T17:00:00-08:00  America/Los_Angeles   \n",
      "1  2024-01-01T02:00:00+00:00  2023-12-31T18:00:00-08:00  America/Los_Angeles   \n",
      "2  2024-01-01T03:00:00+00:00  2023-12-31T19:00:00-08:00  America/Los_Angeles   \n",
      "3  2024-01-01T04:00:00+00:00  2023-12-31T20:00:00-08:00  America/Los_Angeles   \n",
      "4  2024-01-01T05:00:00+00:00  2023-12-31T21:00:00-08:00  America/Los_Angeles   \n",
      "\n",
      "    latitude   longitude                         owner_name provider  \n",
      "0  34.066429 -118.226755  Unknown Governmental Organization   AirNow  \n",
      "1  34.066429 -118.226755  Unknown Governmental Organization   AirNow  \n",
      "2  34.066429 -118.226755  Unknown Governmental Organization   AirNow  \n",
      "3  34.066429 -118.226755  Unknown Governmental Organization   AirNow  \n",
      "4  34.066429 -118.226755  Unknown Governmental Organization   AirNow  \n"
     ]
    }
   ],
   "source": [
    "#Define the columns to drop empty columns from the DataFrame\n",
    "columns_to_drop=['country_iso','isMobile','isMonitor']\n",
    "# Drop the specified columns from the DataFrame\n",
    "merged_LA_df.drop(columns=columns_to_drop,inplace=True)\n",
    "# Display the first few rows of the DataFrame to get a quick look at the data\n",
    "print(merged_LA_df.head())"
   ]
  },
  {
   "cell_type": "markdown",
   "metadata": {},
   "source": [
    "#Checking for Duplicate Values"
   ]
  },
  {
   "cell_type": "code",
   "execution_count": 246,
   "metadata": {},
   "outputs": [
    {
     "data": {
      "text/plain": [
       "0"
      ]
     },
     "execution_count": 246,
     "metadata": {},
     "output_type": "execute_result"
    }
   ],
   "source": [
    "#Check for duplicate rows in the dataset\n",
    "merged_LA_df_dup=merged_LA_df.duplicated().sum()\n",
    "#printing the value\n",
    "merged_LA_df_dup"
   ]
  },
  {
   "cell_type": "markdown",
   "metadata": {},
   "source": [
    "#Converting data types for further Analysis"
   ]
  },
  {
   "cell_type": "code",
   "execution_count": 247,
   "metadata": {},
   "outputs": [],
   "source": [
    "# converting 'datetimeUtc' column in to datetime format\n",
    "merged_LA_df['datetimeUtc'] = pd.to_datetime(merged_LA_df['datetimeUtc'])\n"
   ]
  },
  {
   "cell_type": "markdown",
   "metadata": {},
   "source": [
    "## Data Manuplation"
   ]
  },
  {
   "cell_type": "markdown",
   "metadata": {},
   "source": [
    "#Pivot the DataFrame to Have the Pollutants as Column"
   ]
  },
  {
   "cell_type": "code",
   "execution_count": 248,
   "metadata": {},
   "outputs": [],
   "source": [
    "# Pivot the DataFrame with multi-level index including 'location_name' and 'unit'\n",
    "merged_LA_df_pivot = pd.pivot_table(merged_LA_df, \n",
    "                                index=['datetimeUtc','datetimeLocal','location_name', 'unit'], \n",
    "                                columns='parameter', \n",
    "                                values='value', \n",
    "                                aggfunc='mean')\n",
    "\n",
    "# Reset index to convert the multi-level index back into columns\n",
    "merged_LA_df_pivot.reset_index(inplace=True)\n",
    "\n",
    "# Reorder columns as desired\n",
    "merged_LA_df_pivot = merged_LA_df_pivot[['location_name', 'datetimeUtc','datetimeLocal','co','no2','o3','pm10','pm25', 'unit']]\n",
    "\n",
    "#Fill missing values in the pivoted DataFrame that happened due to column rearrangement with 0(data cleaning for pivoted data)\n",
    "merged_LA_df_pivot.fillna(0,inplace=True)"
   ]
  },
  {
   "cell_type": "markdown",
   "metadata": {},
   "source": [
    "#Create Separate DataFrames for Each Month"
   ]
  },
  {
   "cell_type": "code",
   "execution_count": 249,
   "metadata": {},
   "outputs": [
    {
     "name": "stdout",
     "output_type": "stream",
     "text": [
      "parameter         location_name               datetimeUtc  \\\n",
      "0          Los Angeles - N. Mai 2024-01-01 01:00:00+00:00   \n",
      "1          Los Angeles - N. Mai 2024-01-01 01:00:00+00:00   \n",
      "2          Los Angeles - N. Mai 2024-01-01 02:00:00+00:00   \n",
      "3          Los Angeles - N. Mai 2024-01-01 02:00:00+00:00   \n",
      "4          Los Angeles - N. Mai 2024-01-01 03:00:00+00:00   \n",
      "\n",
      "parameter              datetimeLocal   co    no2     o3  pm10  pm25   unit  \n",
      "0          2023-12-31T17:00:00-08:00  0.3  0.007  0.030   0.0   0.0    ppm  \n",
      "1          2023-12-31T17:00:00-08:00  0.0  0.000  0.000   7.0   3.0  µg/m³  \n",
      "2          2023-12-31T18:00:00-08:00  0.3  0.016  0.022   0.0   0.0    ppm  \n",
      "3          2023-12-31T18:00:00-08:00  0.0  0.000  0.000  11.0   8.5  µg/m³  \n",
      "4          2023-12-31T19:00:00-08:00  0.5  0.021  0.013   0.0   0.0    ppm  \n"
     ]
    }
   ],
   "source": [
    "import pandas as pd\n",
    "# Create separate DataFrames for each month\n",
    "January_LA_df = merged_LA_df_pivot[merged_LA_df_pivot['datetimeUtc'].dt.month == 1]\n",
    "February_LA_df = merged_LA_df_pivot[merged_LA_df_pivot['datetimeUtc'].dt.month == 2]\n",
    "March_LA_df = merged_LA_df_pivot[merged_LA_df_pivot['datetimeUtc'].dt.month == 3] \n",
    "April_LA_df = merged_LA_df_pivot[merged_LA_df_pivot['datetimeUtc'].dt.month == 4]\n",
    "May_LA_df = merged_LA_df_pivot[merged_LA_df_pivot['datetimeUtc'].dt.month == 5]\n",
    "June_LA_df = merged_LA_df_pivot[merged_LA_df_pivot['datetimeUtc'].dt.month == 6]\n",
    "\n",
    "# Print the first few rows of January DataFrame to verify\n",
    "print(January_LA_df.head())"
   ]
  },
  {
   "cell_type": "code",
   "execution_count": null,
   "metadata": {},
   "outputs": [],
   "source": []
  }
 ],
 "metadata": {
  "kernelspec": {
   "display_name": "Python 3",
   "language": "python",
   "name": "python3"
  },
  "language_info": {
   "codemirror_mode": {
    "name": "ipython",
    "version": 3
   },
   "file_extension": ".py",
   "mimetype": "text/x-python",
   "name": "python",
   "nbconvert_exporter": "python",
   "pygments_lexer": "ipython3",
   "version": "3.12.4"
  }
 },
 "nbformat": 4,
 "nbformat_minor": 2
}
