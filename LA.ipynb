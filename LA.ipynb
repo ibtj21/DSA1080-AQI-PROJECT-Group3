{
 "cells": [
  {
   "cell_type": "markdown",
   "metadata": {},
   "source": [
    "## Loading and Merging Data from CSV files"
   ]
  },
  {
   "cell_type": "code",
   "execution_count": 16,
   "metadata": {},
   "outputs": [],
   "source": [
    "import pandas as pd\n",
    "\n",
    "# List of file names for March, April, and May across four years\n",
    "file_names = [\n",
    "    'Los_Angeles_January_2024.csv','Los_Angeles_February_2024.csv','Los_Angeles_March_2024.csv',\n",
    "    'Los_Angeles_April_2024.csv','Los_Angeles_May_2024.csv','Los_Angeles_June_2024.csv'\n",
    "]\n",
    "\n",
    "# List to store dataframes\n",
    "dataframes = []\n",
    "\n",
    "# Read each CSV file and append to the list\n",
    "for file_name in file_names:\n",
    "    df = pd.read_csv(file_name)\n",
    "    dataframes.append(df)\n",
    "\n",
    "# Check if dataframes list is not empty\n",
    "if dataframes:\n",
    "    # Concatenate all dataframes into a single dataframe\n",
    "    merged_LA_df = pd.concat(dataframes, ignore_index=True)\n",
    "# Save the merged and processed DataFrame to a CSV file\n",
    "merged_LA_df.to_csv('LA_merged_2020_2023.csv', index=False)  #optional"
   ]
  },
  {
   "cell_type": "markdown",
   "metadata": {},
   "source": [
    "## Data Inspection"
   ]
  },
  {
   "cell_type": "code",
   "execution_count": 17,
   "metadata": {},
   "outputs": [
    {
     "name": "stdout",
     "output_type": "stream",
     "text": [
      "   location_id         location_name parameter  value unit  \\\n",
      "0         7936  Los Angeles - N. Mai        co    0.3  ppm   \n",
      "1         7936  Los Angeles - N. Mai        co    0.3  ppm   \n",
      "2         7936  Los Angeles - N. Mai        co    0.5  ppm   \n",
      "3         7936  Los Angeles - N. Mai        co    0.6  ppm   \n",
      "4         7936  Los Angeles - N. Mai        co    0.8  ppm   \n",
      "\n",
      "                 datetimeUtc              datetimeLocal             timezone  \\\n",
      "0  2024-01-01T01:00:00+00:00  2023-12-31T17:00:00-08:00  America/Los_Angeles   \n",
      "1  2024-01-01T02:00:00+00:00  2023-12-31T18:00:00-08:00  America/Los_Angeles   \n",
      "2  2024-01-01T03:00:00+00:00  2023-12-31T19:00:00-08:00  America/Los_Angeles   \n",
      "3  2024-01-01T04:00:00+00:00  2023-12-31T20:00:00-08:00  America/Los_Angeles   \n",
      "4  2024-01-01T05:00:00+00:00  2023-12-31T21:00:00-08:00  America/Los_Angeles   \n",
      "\n",
      "    latitude   longitude  country_iso  isMobile  isMonitor  \\\n",
      "0  34.066429 -118.226755          NaN       NaN        NaN   \n",
      "1  34.066429 -118.226755          NaN       NaN        NaN   \n",
      "2  34.066429 -118.226755          NaN       NaN        NaN   \n",
      "3  34.066429 -118.226755          NaN       NaN        NaN   \n",
      "4  34.066429 -118.226755          NaN       NaN        NaN   \n",
      "\n",
      "                          owner_name provider  \n",
      "0  Unknown Governmental Organization   AirNow  \n",
      "1  Unknown Governmental Organization   AirNow  \n",
      "2  Unknown Governmental Organization   AirNow  \n",
      "3  Unknown Governmental Organization   AirNow  \n",
      "4  Unknown Governmental Organization   AirNow  \n"
     ]
    }
   ],
   "source": [
    "# Display the first few rows of the DataFrame to get a quick look at the data\n",
    "print(merged_LA_df.head())"
   ]
  },
  {
   "cell_type": "code",
   "execution_count": 18,
   "metadata": {},
   "outputs": [
    {
     "name": "stdout",
     "output_type": "stream",
     "text": [
      "<class 'pandas.core.frame.DataFrame'>\n",
      "RangeIndex: 20067 entries, 0 to 20066\n",
      "Data columns (total 15 columns):\n",
      " #   Column         Non-Null Count  Dtype  \n",
      "---  ------         --------------  -----  \n",
      " 0   location_id    20067 non-null  int64  \n",
      " 1   location_name  20067 non-null  object \n",
      " 2   parameter      20067 non-null  object \n",
      " 3   value          20067 non-null  float64\n",
      " 4   unit           20067 non-null  object \n",
      " 5   datetimeUtc    20067 non-null  object \n",
      " 6   datetimeLocal  20067 non-null  object \n",
      " 7   timezone       20067 non-null  object \n",
      " 8   latitude       20067 non-null  float64\n",
      " 9   longitude      20067 non-null  float64\n",
      " 10  country_iso    0 non-null      float64\n",
      " 11  isMobile       0 non-null      float64\n",
      " 12  isMonitor      0 non-null      float64\n",
      " 13  owner_name     20067 non-null  object \n",
      " 14  provider       20067 non-null  object \n",
      "dtypes: float64(6), int64(1), object(8)\n",
      "memory usage: 2.3+ MB\n"
     ]
    }
   ],
   "source": [
    "# Display a concise summary of the DataFrame\n",
    "merged_LA_df.info()"
   ]
  },
  {
   "cell_type": "markdown",
   "metadata": {},
   "source": [
    "## Data Cleaning"
   ]
  },
  {
   "cell_type": "markdown",
   "metadata": {},
   "source": [
    "#Handling missing values"
   ]
  },
  {
   "cell_type": "code",
   "execution_count": 19,
   "metadata": {},
   "outputs": [
    {
     "data": {
      "text/plain": [
       "location_id          0\n",
       "location_name        0\n",
       "parameter            0\n",
       "value                0\n",
       "unit                 0\n",
       "datetimeUtc          0\n",
       "datetimeLocal        0\n",
       "timezone             0\n",
       "latitude             0\n",
       "longitude            0\n",
       "country_iso      20067\n",
       "isMobile         20067\n",
       "isMonitor        20067\n",
       "owner_name           0\n",
       "provider             0\n",
       "dtype: int64"
      ]
     },
     "execution_count": 19,
     "metadata": {},
     "output_type": "execute_result"
    }
   ],
   "source": [
    "# Check for missing values in each column and count them\n",
    "merged_LA_df.isnull().sum()"
   ]
  },
  {
   "cell_type": "code",
   "execution_count": 20,
   "metadata": {},
   "outputs": [
    {
     "name": "stdout",
     "output_type": "stream",
     "text": [
      "   location_id         location_name parameter  value unit  \\\n",
      "0         7936  Los Angeles - N. Mai        co    0.3  ppm   \n",
      "1         7936  Los Angeles - N. Mai        co    0.3  ppm   \n",
      "2         7936  Los Angeles - N. Mai        co    0.5  ppm   \n",
      "3         7936  Los Angeles - N. Mai        co    0.6  ppm   \n",
      "4         7936  Los Angeles - N. Mai        co    0.8  ppm   \n",
      "\n",
      "                 datetimeUtc              datetimeLocal             timezone  \\\n",
      "0  2024-01-01T01:00:00+00:00  2023-12-31T17:00:00-08:00  America/Los_Angeles   \n",
      "1  2024-01-01T02:00:00+00:00  2023-12-31T18:00:00-08:00  America/Los_Angeles   \n",
      "2  2024-01-01T03:00:00+00:00  2023-12-31T19:00:00-08:00  America/Los_Angeles   \n",
      "3  2024-01-01T04:00:00+00:00  2023-12-31T20:00:00-08:00  America/Los_Angeles   \n",
      "4  2024-01-01T05:00:00+00:00  2023-12-31T21:00:00-08:00  America/Los_Angeles   \n",
      "\n",
      "    latitude   longitude                         owner_name provider  \n",
      "0  34.066429 -118.226755  Unknown Governmental Organization   AirNow  \n",
      "1  34.066429 -118.226755  Unknown Governmental Organization   AirNow  \n",
      "2  34.066429 -118.226755  Unknown Governmental Organization   AirNow  \n",
      "3  34.066429 -118.226755  Unknown Governmental Organization   AirNow  \n",
      "4  34.066429 -118.226755  Unknown Governmental Organization   AirNow  \n"
     ]
    }
   ],
   "source": [
    "#Define the columns to drop empty columns from the DataFrame\n",
    "columns_to_drop=['country_iso','isMobile','isMonitor']\n",
    "# Drop the specified columns from the DataFrame\n",
    "merged_LA_df.drop(columns=columns_to_drop,inplace=True)\n",
    "# Display the first few rows of the DataFrame to get a quick look at the data\n",
    "print(merged_LA_df.head())"
   ]
  },
  {
   "cell_type": "markdown",
   "metadata": {},
   "source": [
    "#Conversion of Unit for further analysis"
   ]
  },
  {
   "cell_type": "code",
   "execution_count": 21,
   "metadata": {},
   "outputs": [
    {
     "name": "stdout",
     "output_type": "stream",
     "text": [
      "       location_id         location_name parameter       value   unit  \\\n",
      "0             7936  Los Angeles - N. Mai        co  343.680982  µg/m³   \n",
      "1             7936  Los Angeles - N. Mai        co  343.680982  µg/m³   \n",
      "2             7936  Los Angeles - N. Mai        co  572.801636  µg/m³   \n",
      "3             7936  Los Angeles - N. Mai        co  687.361963  µg/m³   \n",
      "4             7936  Los Angeles - N. Mai        co  916.482618  µg/m³   \n",
      "...            ...                   ...       ...         ...    ...   \n",
      "20062         7936  Los Angeles - N. Mai      pm25   23.000000  µg/m³   \n",
      "20063         7936  Los Angeles - N. Mai      pm25   23.000000  µg/m³   \n",
      "20064         7936  Los Angeles - N. Mai      pm25   15.000000  µg/m³   \n",
      "20065         7936  Los Angeles - N. Mai      pm25   15.000000  µg/m³   \n",
      "20066         7936  Los Angeles - N. Mai      pm25   12.000000  µg/m³   \n",
      "\n",
      "                     datetimeUtc              datetimeLocal  \\\n",
      "0      2024-01-01T01:00:00+00:00  2023-12-31T17:00:00-08:00   \n",
      "1      2024-01-01T02:00:00+00:00  2023-12-31T18:00:00-08:00   \n",
      "2      2024-01-01T03:00:00+00:00  2023-12-31T19:00:00-08:00   \n",
      "3      2024-01-01T04:00:00+00:00  2023-12-31T20:00:00-08:00   \n",
      "4      2024-01-01T05:00:00+00:00  2023-12-31T21:00:00-08:00   \n",
      "...                          ...                        ...   \n",
      "20062  2024-06-29T20:00:00+00:00  2024-06-29T13:00:00-07:00   \n",
      "20063  2024-06-29T21:00:00+00:00  2024-06-29T14:00:00-07:00   \n",
      "20064  2024-06-29T22:00:00+00:00  2024-06-29T15:00:00-07:00   \n",
      "20065  2024-06-29T23:00:00+00:00  2024-06-29T16:00:00-07:00   \n",
      "20066  2024-06-30T00:00:00+00:00  2024-06-29T17:00:00-07:00   \n",
      "\n",
      "                  timezone   latitude   longitude  \\\n",
      "0      America/Los_Angeles  34.066429 -118.226755   \n",
      "1      America/Los_Angeles  34.066429 -118.226755   \n",
      "2      America/Los_Angeles  34.066429 -118.226755   \n",
      "3      America/Los_Angeles  34.066429 -118.226755   \n",
      "4      America/Los_Angeles  34.066429 -118.226755   \n",
      "...                    ...        ...         ...   \n",
      "20062  America/Los_Angeles  34.066429 -118.226755   \n",
      "20063  America/Los_Angeles  34.066429 -118.226755   \n",
      "20064  America/Los_Angeles  34.066429 -118.226755   \n",
      "20065  America/Los_Angeles  34.066429 -118.226755   \n",
      "20066  America/Los_Angeles  34.066429 -118.226755   \n",
      "\n",
      "                              owner_name provider  \n",
      "0      Unknown Governmental Organization   AirNow  \n",
      "1      Unknown Governmental Organization   AirNow  \n",
      "2      Unknown Governmental Organization   AirNow  \n",
      "3      Unknown Governmental Organization   AirNow  \n",
      "4      Unknown Governmental Organization   AirNow  \n",
      "...                                  ...      ...  \n",
      "20062  Unknown Governmental Organization   AirNow  \n",
      "20063  Unknown Governmental Organization   AirNow  \n",
      "20064  Unknown Governmental Organization   AirNow  \n",
      "20065  Unknown Governmental Organization   AirNow  \n",
      "20066  Unknown Governmental Organization   AirNow  \n",
      "\n",
      "[20067 rows x 12 columns]\n"
     ]
    }
   ],
   "source": [
    "# Molecular weights of the pollutants\n",
    "molecular_weights = {\n",
    "    'co': 28.01,  # Carbon Monoxide\n",
    "    'no2': 46.0055,  # Nitrogen Dioxide\n",
    "    'o3': 48.00,  # Ozone\n",
    "    # PM10 and PM2.5 do not need conversion\n",
    "}\n",
    "# Conversion from ppm to µg/m³\n",
    "def ppm_to_ugm3(concentration, molecular_weight):\n",
    "    return concentration * molecular_weight * 1000 / 24.45\n",
    "\n",
    "# Convert ppm to µg/m³ where necessary\n",
    "def convert_units(row):\n",
    "    if row['unit'] == 'ppm' and row['parameter'] in molecular_weights:\n",
    "        return ppm_to_ugm3(row['value'], molecular_weights[row['parameter']])\n",
    "    return row['value']\n",
    "\n",
    "# Apply the conversion\n",
    "merged_LA_df['value'] = merged_LA_df.apply(convert_units, axis=1)\n",
    "\n",
    "# Now all values should be in µg/m³\n",
    "merged_LA_df['unit'] = 'µg/m³'\n",
    "\n",
    "print(merged_LA_df)"
   ]
  },
  {
   "cell_type": "markdown",
   "metadata": {},
   "source": [
    "#Checking for Duplicate Values"
   ]
  },
  {
   "cell_type": "code",
   "execution_count": 22,
   "metadata": {},
   "outputs": [
    {
     "data": {
      "text/plain": [
       "0"
      ]
     },
     "execution_count": 22,
     "metadata": {},
     "output_type": "execute_result"
    }
   ],
   "source": [
    "#Check for duplicate rows in the dataset\n",
    "merged_LA_df_dup=merged_LA_df.duplicated().sum()\n",
    "#printing the value\n",
    "merged_LA_df_dup"
   ]
  },
  {
   "cell_type": "markdown",
   "metadata": {},
   "source": [
    "#Converting data types for further Analysis"
   ]
  },
  {
   "cell_type": "code",
   "execution_count": 23,
   "metadata": {},
   "outputs": [],
   "source": [
    "# converting 'datetimeUtc' column in to datetime format\n",
    "merged_LA_df['datetimeUtc'] = pd.to_datetime(merged_LA_df['datetimeUtc'])"
   ]
  },
  {
   "cell_type": "markdown",
   "metadata": {},
   "source": [
    "## Data Manuplation"
   ]
  },
  {
   "cell_type": "markdown",
   "metadata": {},
   "source": [
    "#Pivot the DataFrame to Have the Pollutants as Column"
   ]
  },
  {
   "cell_type": "code",
   "execution_count": 24,
   "metadata": {},
   "outputs": [],
   "source": [
    "# Pivot the DataFrame with multi-level index including 'location_name' and 'unit'\n",
    "merged_LA_df_pivot = pd.pivot_table(merged_LA_df, \n",
    "                                index=['datetimeUtc','datetimeLocal','location_name', 'unit'], \n",
    "                                columns='parameter', \n",
    "                                values='value', \n",
    "                                aggfunc='mean')\n",
    "\n",
    "# Reset index to convert the multi-level index back into columns\n",
    "merged_LA_df_pivot.reset_index(inplace=True)\n",
    "\n",
    "# Reorder columns as desired\n",
    "merged_LA_df_pivot = merged_LA_df_pivot[['location_name', 'datetimeUtc','datetimeLocal','co','no2','o3','pm10','pm25', 'unit']]"
   ]
  },
  {
   "cell_type": "code",
   "execution_count": 25,
   "metadata": {},
   "outputs": [
    {
     "name": "stdout",
     "output_type": "stream",
     "text": [
      "<class 'pandas.core.frame.DataFrame'>\n",
      "RangeIndex: 4125 entries, 0 to 4124\n",
      "Data columns (total 9 columns):\n",
      " #   Column         Non-Null Count  Dtype              \n",
      "---  ------         --------------  -----              \n",
      " 0   location_name  4125 non-null   object             \n",
      " 1   datetimeUtc    4125 non-null   datetime64[ns, UTC]\n",
      " 2   datetimeLocal  4125 non-null   object             \n",
      " 3   co             4025 non-null   float64            \n",
      " 4   no2            4043 non-null   float64            \n",
      " 5   o3             4043 non-null   float64            \n",
      " 6   pm10           3954 non-null   float64            \n",
      " 7   pm25           4002 non-null   float64            \n",
      " 8   unit           4125 non-null   object             \n",
      "dtypes: datetime64[ns, UTC](1), float64(5), object(3)\n",
      "memory usage: 290.2+ KB\n"
     ]
    }
   ],
   "source": [
    "# Display a concise summary of the pivotted DataFrame\n",
    "merged_LA_df_pivot.info() #presence of missing values"
   ]
  },
  {
   "cell_type": "code",
   "execution_count": 26,
   "metadata": {},
   "outputs": [
    {
     "name": "stdout",
     "output_type": "stream",
     "text": [
      "parameter         location_name               datetimeUtc  \\\n",
      "0          Los Angeles - N. Mai 2024-01-01 01:00:00+00:00   \n",
      "1          Los Angeles - N. Mai 2024-01-01 02:00:00+00:00   \n",
      "2          Los Angeles - N. Mai 2024-01-01 03:00:00+00:00   \n",
      "3          Los Angeles - N. Mai 2024-01-01 04:00:00+00:00   \n",
      "4          Los Angeles - N. Mai 2024-01-01 05:00:00+00:00   \n",
      "\n",
      "parameter              datetimeLocal          co        no2         o3  pm10  \\\n",
      "0          2023-12-31T17:00:00-08:00  343.680982  13.171309  58.895706   7.0   \n",
      "1          2023-12-31T18:00:00-08:00  343.680982  30.105849  43.190184  11.0   \n",
      "2          2023-12-31T19:00:00-08:00  572.801636  39.513926  25.521472  12.0   \n",
      "3          2023-12-31T20:00:00-08:00  687.361963  45.158773  15.705521  18.0   \n",
      "4          2023-12-31T21:00:00-08:00  916.482618  54.566851   1.963190  33.0   \n",
      "\n",
      "parameter  pm25   unit  \n",
      "0           3.0  µg/m³  \n",
      "1           8.5  µg/m³  \n",
      "2           6.7  µg/m³  \n",
      "3          14.0  µg/m³  \n",
      "4          25.0  µg/m³  \n"
     ]
    },
    {
     "name": "stderr",
     "output_type": "stream",
     "text": [
      "C:\\Users\\Admin\\AppData\\Local\\Temp\\ipykernel_10152\\2724284931.py:11: SettingWithCopyWarning: \n",
      "A value is trying to be set on a copy of a slice from a DataFrame\n",
      "\n",
      "See the caveats in the documentation: https://pandas.pydata.org/pandas-docs/stable/user_guide/indexing.html#returning-a-view-versus-a-copy\n",
      "  series.iloc[nan_indices[half:]] = series.ffill().iloc[nan_indices[half:]]\n",
      "C:\\Users\\Admin\\AppData\\Local\\Temp\\ipykernel_10152\\2724284931.py:9: SettingWithCopyWarning: \n",
      "A value is trying to be set on a copy of a slice from a DataFrame\n",
      "\n",
      "See the caveats in the documentation: https://pandas.pydata.org/pandas-docs/stable/user_guide/indexing.html#returning-a-view-versus-a-copy\n",
      "  series.iloc[nan_indices[:half]] = 0\n"
     ]
    }
   ],
   "source": [
    "# Function to fill half NaNs with 0 and half with the preceding value\n",
    "def balanced_fillna(series):\n",
    "    # Get the indices of NaNs\n",
    "    nan_indices = series[series.isna()].index\n",
    "    n = len(nan_indices)\n",
    "    # Split the indices into two halves\n",
    "    half = n // 2\n",
    "    # Fill the first half with 0\n",
    "    series.iloc[nan_indices[:half]] = 0\n",
    "    # Fill the second half with the preceding value\n",
    "    series.iloc[nan_indices[half:]] = series.ffill().iloc[nan_indices[half:]]\n",
    "    return series\n",
    "\n",
    "# Apply the balanced fillna function to each pollutant column\n",
    "for pollutant in ['co', 'no2', 'o3', 'pm10', 'pm25']:\n",
    "    merged_LA_df_pivot[pollutant] = balanced_fillna(merged_LA_df_pivot[pollutant])\n",
    "\n",
    "# Save the cleaned and converted data to a new CSV file\n",
    "merged_LA_df_pivot.to_csv('LA_merged_2024_balanced.csv', index=False)\n",
    "\n",
    "# Display the first few rows of the updated DataFrame for verification\n",
    "print(merged_LA_df_pivot.head())"
   ]
  },
  {
   "cell_type": "code",
   "execution_count": 27,
   "metadata": {},
   "outputs": [
    {
     "name": "stdout",
     "output_type": "stream",
     "text": [
      "<class 'pandas.core.frame.DataFrame'>\n",
      "RangeIndex: 4125 entries, 0 to 4124\n",
      "Data columns (total 9 columns):\n",
      " #   Column         Non-Null Count  Dtype              \n",
      "---  ------         --------------  -----              \n",
      " 0   location_name  4125 non-null   object             \n",
      " 1   datetimeUtc    4125 non-null   datetime64[ns, UTC]\n",
      " 2   datetimeLocal  4125 non-null   object             \n",
      " 3   co             4125 non-null   float64            \n",
      " 4   no2            4125 non-null   float64            \n",
      " 5   o3             4125 non-null   float64            \n",
      " 6   pm10           4125 non-null   float64            \n",
      " 7   pm25           4125 non-null   float64            \n",
      " 8   unit           4125 non-null   object             \n",
      "dtypes: datetime64[ns, UTC](1), float64(5), object(3)\n",
      "memory usage: 290.2+ KB\n"
     ]
    }
   ],
   "source": [
    "# Display a concise summary of pivotted DataFrame for verification\n",
    "merged_LA_df_pivot.info() #after filling missing values"
   ]
  },
  {
   "cell_type": "markdown",
   "metadata": {},
   "source": [
    "## Exploratory Data Analysis"
   ]
  },
  {
   "cell_type": "code",
   "execution_count": 28,
   "metadata": {},
   "outputs": [],
   "source": [
    "# List of columns to apply absolute value transformation\n",
    "#believing that the negative values in these columns are due to measurement errors or noise, and the true values should be non-negative.\n",
    "columns_to_transform = ['pm10', 'pm25']\n",
    "\n",
    "# Apply absolute value transformation to each specified column\n",
    "merged_LA_df_pivot[columns_to_transform] = merged_LA_df_pivot[columns_to_transform].abs()"
   ]
  },
  {
   "cell_type": "code",
   "execution_count": 29,
   "metadata": {},
   "outputs": [
    {
     "name": "stdout",
     "output_type": "stream",
     "text": [
      "parameter           co          no2           o3         pm10         pm25\n",
      "count      4125.000000  4125.000000  4125.000000  4125.000000  4125.000000\n",
      "mean        376.452178    25.870686    53.615795    20.328727    10.946691\n",
      "std         213.448233    16.466243    32.788224    11.589866     6.570252\n",
      "min           0.000000     0.000000     0.000000     0.000000     0.000000\n",
      "25%         229.120654    12.606824    25.521472    12.000000     6.400000\n",
      "50%         343.680982    20.697771    58.895706    20.000000     9.900000\n",
      "75%         458.241309    37.632311    78.527607    27.000000    15.000000\n",
      "max        1603.844581    84.672699   153.128834    82.000000    55.000000\n"
     ]
    }
   ],
   "source": [
    "# Summary statistics for numerical columns\n",
    "print(merged_LA_df_pivot.describe())"
   ]
  },
  {
   "cell_type": "code",
   "execution_count": 30,
   "metadata": {},
   "outputs": [
    {
     "name": "stdout",
     "output_type": "stream",
     "text": [
      "parameter         location_name               datetimeUtc  \\\n",
      "0          Los Angeles - N. Mai 2024-01-01 01:00:00+00:00   \n",
      "1          Los Angeles - N. Mai 2024-01-01 02:00:00+00:00   \n",
      "2          Los Angeles - N. Mai 2024-01-01 03:00:00+00:00   \n",
      "3          Los Angeles - N. Mai 2024-01-01 04:00:00+00:00   \n",
      "4          Los Angeles - N. Mai 2024-01-01 05:00:00+00:00   \n",
      "\n",
      "parameter              datetimeLocal          CO        NO2         O3  pm10  \\\n",
      "0          2023-12-31T17:00:00-08:00  343.680982  13.171309  58.895706   7.0   \n",
      "1          2023-12-31T18:00:00-08:00  343.680982  30.105849  43.190184  11.0   \n",
      "2          2023-12-31T19:00:00-08:00  572.801636  39.513926  25.521472  12.0   \n",
      "3          2023-12-31T20:00:00-08:00  687.361963  45.158773  15.705521  18.0   \n",
      "4          2023-12-31T21:00:00-08:00  916.482618  54.566851   1.963190  33.0   \n",
      "\n",
      "parameter  pm25   unit  \n",
      "0           3.0  µg/m³  \n",
      "1           8.5  µg/m³  \n",
      "2           6.7  µg/m³  \n",
      "3          14.0  µg/m³  \n",
      "4          25.0  µg/m³  \n"
     ]
    }
   ],
   "source": [
    "merged_LA_df_pivot = merged_LA_df_pivot.rename(columns={'co': 'CO', 'no2': 'NO2','o3':'O3'})\n",
    "print(merged_LA_df_pivot.head())"
   ]
  },
  {
   "cell_type": "code",
   "execution_count": null,
   "metadata": {},
   "outputs": [],
   "source": [
    "# Define the AQI breakpoints for each pollutant\n",
    "aqi_breakpoints = {\n",
    "    'pm25': [\n",
    "        (0.0, 12.0, 0, 50),\n",
    "        (12.1, 35.4, 51, 100),\n",
    "        (35.5, 55.4, 101, 150),\n",
    "        (55.5, 150.4, 151, 200),\n",
    "        (150.5, 250.4, 201, 300),\n",
    "        (250.5, 350.4, 301, 400),\n",
    "        (350.5, 500.4, 401, 500)\n",
    "    ],\n",
    "    'pm10': [\n",
    "        (0, 54, 0, 50),\n",
    "        (55, 154, 51, 100),\n",
    "        (155, 254, 101, 150),\n",
    "        (255, 354, 151, 200),\n",
    "        (355, 424, 201, 300),\n",
    "        (425, 504, 301, 400),\n",
    "        (505, 604, 401, 500)\n",
    "    ],\n",
    "    'co': [\n",
    "        (0.0, 4.4, 0, 50),\n",
    "        (4.5, 9.4, 51, 100),\n",
    "        (9.5, 12.4, 101, 150),\n",
    "        (12.5, 15.4, 151, 200),\n",
    "        (15.5, 30.4, 201, 300),\n",
    "        (30.5, 40.4, 301, 400),\n",
    "        (40.5, 50.4, 401, 500)\n",
    "    ],\n",
    "    'no2': [\n",
    "        (0, 53, 0, 50),\n",
    "        (54, 100, 51, 100),\n",
    "        (101, 360, 101, 150),\n",
    "        (361, 649, 151, 200),\n",
    "        (650, 1249, 201, 300),\n",
    "        (1250, 1649, 301, 400),\n",
    "        (1650, 2049, 401, 500)\n",
    "    ],\n",
    "    'o3': [\n",
    "        (0, 54, 0, 50),\n",
    "        (55, 70, 51, 100),\n",
    "        (71, 85, 101, 150),\n",
    "        (86, 105, 151, 200),\n",
    "        (106, 200, 201, 300),\n",
    "        (201, 604, 301, 500)\n",
    "    ]\n",
    "}\n",
    "\n",
    "def calculate_aqi(concentration, breakpoints):\n",
    "    for (C_low, C_high, I_low, I_high) in breakpoints:\n",
    "        if C_low <= concentration <= C_high:\n",
    "            return (I_high - I_low) / (C_high - C_low) * (concentration - C_low) + I_low\n",
    "    return None\n",
    "\n",
    "# Calculate AQI for each pollutant\n",
    "for pollutant in ['pm25', 'pm10', 'CO', 'NO2', 'O3']:\n",
    "    merged_LA_df_pivot[f'AQI_{pollutant}'] = merged_LA_df_pivot[pollutant].apply(lambda x: calculate_aqi(x, aqi_breakpoints[pollutant]))\n",
    "\n",
    "# Get the maximum AQI value for each row\n",
    "aqi_columns = [f'AQI_{pollutant}' for pollutant in ['pm25', 'pm10', 'CO', 'NO2', 'O3']]\n",
    "merged_LA_df_pivot['AQI'] = merged_LA_df_pivot[aqi_columns].max(axis=1)\n"
   ]
  }
 ],
 "metadata": {
  "kernelspec": {
   "display_name": "Python 3",
   "language": "python",
   "name": "python3"
  },
  "language_info": {
   "codemirror_mode": {
    "name": "ipython",
    "version": 3
   },
   "file_extension": ".py",
   "mimetype": "text/x-python",
   "name": "python",
   "nbconvert_exporter": "python",
   "pygments_lexer": "ipython3",
   "version": "3.12.4"
  }
 },
 "nbformat": 4,
 "nbformat_minor": 2
}
