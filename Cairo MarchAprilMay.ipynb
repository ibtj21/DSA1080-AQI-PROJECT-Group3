{
 "cells": [
  {
   "cell_type": "markdown",
   "id": "4d3b346a",
   "metadata": {},
   "source": [
    "# AIR QUALITY PROJECT\n",
    "#Cairo"
   ]
  },
  {
   "cell_type": "markdown",
   "id": "10b35767",
   "metadata": {},
   "source": [
    "## Importing required pacgages"
   ]
  },
  {
   "cell_type": "code",
   "execution_count": 1,
   "id": "ac80e610",
   "metadata": {},
   "outputs": [],
   "source": [
    "import pandas as pd\n",
    "import matplotlib.pyplot as plt\n",
    "import numpy as np\n",
    "import seaborn as sns\n",
    "import plotly.express as px\n",
    "%matplotlib inline"
   ]
  },
  {
   "cell_type": "markdown",
   "id": "0a37667f",
   "metadata": {},
   "source": [
    "### Setting up the background, font and style"
   ]
  },
  {
   "cell_type": "code",
   "execution_count": 3,
   "id": "8a6f9ae6",
   "metadata": {},
   "outputs": [],
   "source": [
    "sns.set_style('darkgrid')\n",
    "plt.rcParams['font.size']=14\n",
    "plt.rcParams['figure.figsize']=(10,6)\n",
    "plt.rcParams['figure.facecolor']='#00000000'"
   ]
  },
  {
   "cell_type": "markdown",
   "id": "7cc99ccd",
   "metadata": {},
   "source": [
    "### Loaading the dataset"
   ]
  },
  {
   "cell_type": "code",
   "execution_count": 29,
   "id": "f7176b2c",
   "metadata": {},
   "outputs": [],
   "source": [
    "import pandas as pd\n",
    "\n",
    "cairomarch = pd.read_csv(\"C:\\\\Users\\\\user\\\\Desktop\\\\PRO\\\\AQIcairomarch.csv\")\n",
    "cairoapril = pd.read_csv(\"C:\\\\Users\\\\user\\\\Desktop\\\\PRO\\\\AQIcairoapril.csv\")\n",
    "cairomay = pd.read_csv(\"C:\\\\Users\\\\user\\\\Desktop\\\\PRO\\\\AQIcairomay.1721910996296.csv\")\n",
    "\n"
   ]
  },
  {
   "cell_type": "markdown",
   "id": "2ccb845b",
   "metadata": {},
   "source": [
    "### Merging the dataset intoa single dataframe"
   ]
  },
  {
   "cell_type": "code",
   "execution_count": 28,
   "id": "03a36016",
   "metadata": {},
   "outputs": [],
   "source": [
    "cities = pd.concat([cairomarch,cairoapril,cairomay],ignore_index=True)\n"
   ]
  },
  {
   "cell_type": "code",
   "execution_count": 6,
   "id": "36bd5409",
   "metadata": {},
   "outputs": [
    {
     "data": {
      "text/html": [
       "<div>\n",
       "<style scoped>\n",
       "    .dataframe tbody tr th:only-of-type {\n",
       "        vertical-align: middle;\n",
       "    }\n",
       "\n",
       "    .dataframe tbody tr th {\n",
       "        vertical-align: top;\n",
       "    }\n",
       "\n",
       "    .dataframe thead th {\n",
       "        text-align: right;\n",
       "    }\n",
       "</style>\n",
       "<table border=\"1\" class=\"dataframe\">\n",
       "  <thead>\n",
       "    <tr style=\"text-align: right;\">\n",
       "      <th></th>\n",
       "      <th>location_id</th>\n",
       "      <th>location_name</th>\n",
       "      <th>parameter</th>\n",
       "      <th>value</th>\n",
       "      <th>unit</th>\n",
       "      <th>datetimeUtc</th>\n",
       "      <th>datetimeLocal</th>\n",
       "      <th>timezone</th>\n",
       "      <th>latitude</th>\n",
       "      <th>longitude</th>\n",
       "      <th>country_iso</th>\n",
       "      <th>isMobile</th>\n",
       "      <th>isMonitor</th>\n",
       "      <th>owner_name</th>\n",
       "      <th>provider</th>\n",
       "    </tr>\n",
       "  </thead>\n",
       "  <tbody>\n",
       "    <tr>\n",
       "      <th>0</th>\n",
       "      <td>1621200</td>\n",
       "      <td>Cairo</td>\n",
       "      <td>pm25</td>\n",
       "      <td>64</td>\n",
       "      <td>?g/m?</td>\n",
       "      <td>2024-03-01T01:00:00+00:00</td>\n",
       "      <td>2024-03-01T03:00:00+02:00</td>\n",
       "      <td>Africa/Cairo</td>\n",
       "      <td>30.04147</td>\n",
       "      <td>31.23289</td>\n",
       "      <td>NaN</td>\n",
       "      <td>NaN</td>\n",
       "      <td>NaN</td>\n",
       "      <td>Unknown Governmental Organization</td>\n",
       "      <td>AirNow</td>\n",
       "    </tr>\n",
       "    <tr>\n",
       "      <th>1</th>\n",
       "      <td>1621200</td>\n",
       "      <td>Cairo</td>\n",
       "      <td>pm25</td>\n",
       "      <td>120</td>\n",
       "      <td>?g/m?</td>\n",
       "      <td>2024-03-01T02:00:00+00:00</td>\n",
       "      <td>2024-03-01T04:00:00+02:00</td>\n",
       "      <td>Africa/Cairo</td>\n",
       "      <td>30.04147</td>\n",
       "      <td>31.23289</td>\n",
       "      <td>NaN</td>\n",
       "      <td>NaN</td>\n",
       "      <td>NaN</td>\n",
       "      <td>Unknown Governmental Organization</td>\n",
       "      <td>AirNow</td>\n",
       "    </tr>\n",
       "    <tr>\n",
       "      <th>2</th>\n",
       "      <td>1621200</td>\n",
       "      <td>Cairo</td>\n",
       "      <td>pm25</td>\n",
       "      <td>100</td>\n",
       "      <td>?g/m?</td>\n",
       "      <td>2024-03-01T03:00:00+00:00</td>\n",
       "      <td>2024-03-01T05:00:00+02:00</td>\n",
       "      <td>Africa/Cairo</td>\n",
       "      <td>30.04147</td>\n",
       "      <td>31.23289</td>\n",
       "      <td>NaN</td>\n",
       "      <td>NaN</td>\n",
       "      <td>NaN</td>\n",
       "      <td>Unknown Governmental Organization</td>\n",
       "      <td>AirNow</td>\n",
       "    </tr>\n",
       "    <tr>\n",
       "      <th>3</th>\n",
       "      <td>1621200</td>\n",
       "      <td>Cairo</td>\n",
       "      <td>pm25</td>\n",
       "      <td>100</td>\n",
       "      <td>?g/m?</td>\n",
       "      <td>2024-03-01T04:00:00+00:00</td>\n",
       "      <td>2024-03-01T06:00:00+02:00</td>\n",
       "      <td>Africa/Cairo</td>\n",
       "      <td>30.04147</td>\n",
       "      <td>31.23289</td>\n",
       "      <td>NaN</td>\n",
       "      <td>NaN</td>\n",
       "      <td>NaN</td>\n",
       "      <td>Unknown Governmental Organization</td>\n",
       "      <td>AirNow</td>\n",
       "    </tr>\n",
       "    <tr>\n",
       "      <th>4</th>\n",
       "      <td>1621200</td>\n",
       "      <td>Cairo</td>\n",
       "      <td>pm25</td>\n",
       "      <td>94</td>\n",
       "      <td>?g/m?</td>\n",
       "      <td>2024-03-01T05:00:00+00:00</td>\n",
       "      <td>2024-03-01T07:00:00+02:00</td>\n",
       "      <td>Africa/Cairo</td>\n",
       "      <td>30.04147</td>\n",
       "      <td>31.23289</td>\n",
       "      <td>NaN</td>\n",
       "      <td>NaN</td>\n",
       "      <td>NaN</td>\n",
       "      <td>Unknown Governmental Organization</td>\n",
       "      <td>AirNow</td>\n",
       "    </tr>\n",
       "  </tbody>\n",
       "</table>\n",
       "</div>"
      ],
      "text/plain": [
       "   location_id location_name parameter  value   unit  \\\n",
       "0      1621200         Cairo      pm25     64  ?g/m?   \n",
       "1      1621200         Cairo      pm25    120  ?g/m?   \n",
       "2      1621200         Cairo      pm25    100  ?g/m?   \n",
       "3      1621200         Cairo      pm25    100  ?g/m?   \n",
       "4      1621200         Cairo      pm25     94  ?g/m?   \n",
       "\n",
       "                 datetimeUtc              datetimeLocal      timezone  \\\n",
       "0  2024-03-01T01:00:00+00:00  2024-03-01T03:00:00+02:00  Africa/Cairo   \n",
       "1  2024-03-01T02:00:00+00:00  2024-03-01T04:00:00+02:00  Africa/Cairo   \n",
       "2  2024-03-01T03:00:00+00:00  2024-03-01T05:00:00+02:00  Africa/Cairo   \n",
       "3  2024-03-01T04:00:00+00:00  2024-03-01T06:00:00+02:00  Africa/Cairo   \n",
       "4  2024-03-01T05:00:00+00:00  2024-03-01T07:00:00+02:00  Africa/Cairo   \n",
       "\n",
       "   latitude  longitude  country_iso  isMobile  isMonitor  \\\n",
       "0  30.04147   31.23289          NaN       NaN        NaN   \n",
       "1  30.04147   31.23289          NaN       NaN        NaN   \n",
       "2  30.04147   31.23289          NaN       NaN        NaN   \n",
       "3  30.04147   31.23289          NaN       NaN        NaN   \n",
       "4  30.04147   31.23289          NaN       NaN        NaN   \n",
       "\n",
       "                          owner_name provider  \n",
       "0  Unknown Governmental Organization   AirNow  \n",
       "1  Unknown Governmental Organization   AirNow  \n",
       "2  Unknown Governmental Organization   AirNow  \n",
       "3  Unknown Governmental Organization   AirNow  \n",
       "4  Unknown Governmental Organization   AirNow  "
      ]
     },
     "execution_count": 6,
     "metadata": {},
     "output_type": "execute_result"
    }
   ],
   "source": [
    "cities.head()"
   ]
  },
  {
   "cell_type": "markdown",
   "id": "9acf6341",
   "metadata": {},
   "source": [
    "### Checking for the count of parameters"
   ]
  },
  {
   "cell_type": "code",
   "execution_count": 7,
   "id": "18691365",
   "metadata": {},
   "outputs": [
    {
     "data": {
      "text/html": [
       "<div>\n",
       "<style scoped>\n",
       "    .dataframe tbody tr th:only-of-type {\n",
       "        vertical-align: middle;\n",
       "    }\n",
       "\n",
       "    .dataframe tbody tr th {\n",
       "        vertical-align: top;\n",
       "    }\n",
       "\n",
       "    .dataframe thead th {\n",
       "        text-align: right;\n",
       "    }\n",
       "</style>\n",
       "<table border=\"1\" class=\"dataframe\">\n",
       "  <thead>\n",
       "    <tr style=\"text-align: right;\">\n",
       "      <th>parameter</th>\n",
       "      <th>pm25</th>\n",
       "    </tr>\n",
       "    <tr>\n",
       "      <th>location_name</th>\n",
       "      <th></th>\n",
       "    </tr>\n",
       "  </thead>\n",
       "  <tbody>\n",
       "    <tr>\n",
       "      <th>Cairo</th>\n",
       "      <td>2121</td>\n",
       "    </tr>\n",
       "  </tbody>\n",
       "</table>\n",
       "</div>"
      ],
      "text/plain": [
       "parameter      pm25\n",
       "location_name      \n",
       "Cairo          2121"
      ]
     },
     "execution_count": 7,
     "metadata": {},
     "output_type": "execute_result"
    }
   ],
   "source": [
    "# Group the data by city and parameter and count occurrences\n",
    "city_param = cities.groupby(['location_name', 'parameter']).size().reset_index(name='counts')\n",
    "\n",
    "# Specifying rows and columns\n",
    "city_param1 = city_param.pivot(index='location_name', columns='parameter', values='counts')\n",
    "city_param1\n"
   ]
  },
  {
   "cell_type": "markdown",
   "id": "14348815",
   "metadata": {},
   "source": [
    "#### Particulate matter\n",
    "is a mix of solids and liquids, including carbon, complex organic chemicals, sulphates, nitrates, mineral dust, and water suspended in the air.(pm25,pm1,pm10)\n",
    "\n",
    "#### Measurement units\n",
    "a. ug/m3 : micro gram/cubic meter b. ppm : Parts Per Million\n",
    "\n",
    "#### Pollutants\n",
    "a.  PM2.5 : Particles with an aerodynamic diameter less than 2.5μm \n"
   ]
  },
  {
   "cell_type": "markdown",
   "id": "80f35677",
   "metadata": {},
   "source": [
    "#### Checking and handling duplicates and missing values"
   ]
  },
  {
   "cell_type": "code",
   "execution_count": 8,
   "id": "c4b0fc2c",
   "metadata": {},
   "outputs": [
    {
     "data": {
      "text/plain": [
       "np.int64(0)"
      ]
     },
     "execution_count": 8,
     "metadata": {},
     "output_type": "execute_result"
    }
   ],
   "source": [
    "cities.duplicated().sum()"
   ]
  },
  {
   "cell_type": "code",
   "execution_count": 9,
   "id": "9b5b3aa2",
   "metadata": {},
   "outputs": [
    {
     "data": {
      "text/plain": [
       "location_id         0\n",
       "location_name       0\n",
       "parameter           0\n",
       "value               0\n",
       "unit                0\n",
       "datetimeUtc         0\n",
       "datetimeLocal       0\n",
       "timezone            0\n",
       "latitude            0\n",
       "longitude           0\n",
       "country_iso      2121\n",
       "isMobile         2121\n",
       "isMonitor        2121\n",
       "owner_name          0\n",
       "provider            0\n",
       "dtype: int64"
      ]
     },
     "execution_count": 9,
     "metadata": {},
     "output_type": "execute_result"
    }
   ],
   "source": [
    "cities.isnull().sum()"
   ]
  },
  {
   "cell_type": "code",
   "execution_count": 10,
   "id": "1cdaa40d",
   "metadata": {},
   "outputs": [],
   "source": [
    "# Droping all duplicated found in location name and valuue\n",
    "\n",
    "cities1 = cities.drop_duplicates(subset=[\"location_name\", \"value\"])"
   ]
  },
  {
   "cell_type": "markdown",
   "id": "fe9a96f8",
   "metadata": {},
   "source": [
    "#### Droping unwanted columns with alot of missing values"
   ]
  },
  {
   "cell_type": "code",
   "execution_count": 11,
   "id": "e22d8fd5",
   "metadata": {},
   "outputs": [
    {
     "name": "stderr",
     "output_type": "stream",
     "text": [
      "C:\\Users\\DAVY TANUI\\AppData\\Local\\Temp\\ipykernel_16640\\183600701.py:1: SettingWithCopyWarning: \n",
      "A value is trying to be set on a copy of a slice from a DataFrame\n",
      "\n",
      "See the caveats in the documentation: https://pandas.pydata.org/pandas-docs/stable/user_guide/indexing.html#returning-a-view-versus-a-copy\n",
      "  cities1.drop(columns=['datetimeUtc','country_iso','isMobile',\n"
     ]
    }
   ],
   "source": [
    "cities1.drop(columns=['datetimeUtc','country_iso','isMobile',\n",
    "                               'isMonitor','owner_name','provider'], inplace=True)"
   ]
  },
  {
   "cell_type": "code",
   "execution_count": 12,
   "id": "2b62848a",
   "metadata": {},
   "outputs": [
    {
     "data": {
      "text/html": [
       "<div>\n",
       "<style scoped>\n",
       "    .dataframe tbody tr th:only-of-type {\n",
       "        vertical-align: middle;\n",
       "    }\n",
       "\n",
       "    .dataframe tbody tr th {\n",
       "        vertical-align: top;\n",
       "    }\n",
       "\n",
       "    .dataframe thead th {\n",
       "        text-align: right;\n",
       "    }\n",
       "</style>\n",
       "<table border=\"1\" class=\"dataframe\">\n",
       "  <thead>\n",
       "    <tr style=\"text-align: right;\">\n",
       "      <th></th>\n",
       "      <th>location_id</th>\n",
       "      <th>location_name</th>\n",
       "      <th>parameter</th>\n",
       "      <th>value</th>\n",
       "      <th>unit</th>\n",
       "      <th>datetimeLocal</th>\n",
       "      <th>timezone</th>\n",
       "      <th>latitude</th>\n",
       "      <th>longitude</th>\n",
       "    </tr>\n",
       "  </thead>\n",
       "  <tbody>\n",
       "    <tr>\n",
       "      <th>0</th>\n",
       "      <td>1621200</td>\n",
       "      <td>Cairo</td>\n",
       "      <td>pm25</td>\n",
       "      <td>64</td>\n",
       "      <td>?g/m?</td>\n",
       "      <td>2024-03-01T03:00:00+02:00</td>\n",
       "      <td>Africa/Cairo</td>\n",
       "      <td>30.04147</td>\n",
       "      <td>31.23289</td>\n",
       "    </tr>\n",
       "    <tr>\n",
       "      <th>1</th>\n",
       "      <td>1621200</td>\n",
       "      <td>Cairo</td>\n",
       "      <td>pm25</td>\n",
       "      <td>120</td>\n",
       "      <td>?g/m?</td>\n",
       "      <td>2024-03-01T04:00:00+02:00</td>\n",
       "      <td>Africa/Cairo</td>\n",
       "      <td>30.04147</td>\n",
       "      <td>31.23289</td>\n",
       "    </tr>\n",
       "    <tr>\n",
       "      <th>2</th>\n",
       "      <td>1621200</td>\n",
       "      <td>Cairo</td>\n",
       "      <td>pm25</td>\n",
       "      <td>100</td>\n",
       "      <td>?g/m?</td>\n",
       "      <td>2024-03-01T05:00:00+02:00</td>\n",
       "      <td>Africa/Cairo</td>\n",
       "      <td>30.04147</td>\n",
       "      <td>31.23289</td>\n",
       "    </tr>\n",
       "    <tr>\n",
       "      <th>4</th>\n",
       "      <td>1621200</td>\n",
       "      <td>Cairo</td>\n",
       "      <td>pm25</td>\n",
       "      <td>94</td>\n",
       "      <td>?g/m?</td>\n",
       "      <td>2024-03-01T07:00:00+02:00</td>\n",
       "      <td>Africa/Cairo</td>\n",
       "      <td>30.04147</td>\n",
       "      <td>31.23289</td>\n",
       "    </tr>\n",
       "    <tr>\n",
       "      <th>5</th>\n",
       "      <td>1621200</td>\n",
       "      <td>Cairo</td>\n",
       "      <td>pm25</td>\n",
       "      <td>93</td>\n",
       "      <td>?g/m?</td>\n",
       "      <td>2024-03-01T08:00:00+02:00</td>\n",
       "      <td>Africa/Cairo</td>\n",
       "      <td>30.04147</td>\n",
       "      <td>31.23289</td>\n",
       "    </tr>\n",
       "    <tr>\n",
       "      <th>...</th>\n",
       "      <td>...</td>\n",
       "      <td>...</td>\n",
       "      <td>...</td>\n",
       "      <td>...</td>\n",
       "      <td>...</td>\n",
       "      <td>...</td>\n",
       "      <td>...</td>\n",
       "      <td>...</td>\n",
       "      <td>...</td>\n",
       "    </tr>\n",
       "    <tr>\n",
       "      <th>1211</th>\n",
       "      <td>1621200</td>\n",
       "      <td>Cairo</td>\n",
       "      <td>pm25</td>\n",
       "      <td>7</td>\n",
       "      <td>?g/m?</td>\n",
       "      <td>2024-04-22T03:00:00+02:00</td>\n",
       "      <td>Africa/Cairo</td>\n",
       "      <td>30.04147</td>\n",
       "      <td>31.23289</td>\n",
       "    </tr>\n",
       "    <tr>\n",
       "      <th>1212</th>\n",
       "      <td>1621200</td>\n",
       "      <td>Cairo</td>\n",
       "      <td>pm25</td>\n",
       "      <td>9</td>\n",
       "      <td>?g/m?</td>\n",
       "      <td>2024-04-22T04:00:00+02:00</td>\n",
       "      <td>Africa/Cairo</td>\n",
       "      <td>30.04147</td>\n",
       "      <td>31.23289</td>\n",
       "    </tr>\n",
       "    <tr>\n",
       "      <th>1268</th>\n",
       "      <td>1621200</td>\n",
       "      <td>Cairo</td>\n",
       "      <td>pm25</td>\n",
       "      <td>87</td>\n",
       "      <td>?g/m?</td>\n",
       "      <td>2024-04-24T12:00:00+02:00</td>\n",
       "      <td>Africa/Cairo</td>\n",
       "      <td>30.04147</td>\n",
       "      <td>31.23289</td>\n",
       "    </tr>\n",
       "    <tr>\n",
       "      <th>1272</th>\n",
       "      <td>1621200</td>\n",
       "      <td>Cairo</td>\n",
       "      <td>pm25</td>\n",
       "      <td>92</td>\n",
       "      <td>?g/m?</td>\n",
       "      <td>2024-04-24T16:00:00+02:00</td>\n",
       "      <td>Africa/Cairo</td>\n",
       "      <td>30.04147</td>\n",
       "      <td>31.23289</td>\n",
       "    </tr>\n",
       "    <tr>\n",
       "      <th>1902</th>\n",
       "      <td>1621200</td>\n",
       "      <td>Cairo</td>\n",
       "      <td>pm25</td>\n",
       "      <td>60</td>\n",
       "      <td>?g/m?</td>\n",
       "      <td>2024-05-22T01:00:00+03:00</td>\n",
       "      <td>Africa/Cairo</td>\n",
       "      <td>30.04147</td>\n",
       "      <td>31.23289</td>\n",
       "    </tr>\n",
       "  </tbody>\n",
       "</table>\n",
       "<p>105 rows × 9 columns</p>\n",
       "</div>"
      ],
      "text/plain": [
       "      location_id location_name parameter  value   unit  \\\n",
       "0         1621200         Cairo      pm25     64  ?g/m?   \n",
       "1         1621200         Cairo      pm25    120  ?g/m?   \n",
       "2         1621200         Cairo      pm25    100  ?g/m?   \n",
       "4         1621200         Cairo      pm25     94  ?g/m?   \n",
       "5         1621200         Cairo      pm25     93  ?g/m?   \n",
       "...           ...           ...       ...    ...    ...   \n",
       "1211      1621200         Cairo      pm25      7  ?g/m?   \n",
       "1212      1621200         Cairo      pm25      9  ?g/m?   \n",
       "1268      1621200         Cairo      pm25     87  ?g/m?   \n",
       "1272      1621200         Cairo      pm25     92  ?g/m?   \n",
       "1902      1621200         Cairo      pm25     60  ?g/m?   \n",
       "\n",
       "                  datetimeLocal      timezone  latitude  longitude  \n",
       "0     2024-03-01T03:00:00+02:00  Africa/Cairo  30.04147   31.23289  \n",
       "1     2024-03-01T04:00:00+02:00  Africa/Cairo  30.04147   31.23289  \n",
       "2     2024-03-01T05:00:00+02:00  Africa/Cairo  30.04147   31.23289  \n",
       "4     2024-03-01T07:00:00+02:00  Africa/Cairo  30.04147   31.23289  \n",
       "5     2024-03-01T08:00:00+02:00  Africa/Cairo  30.04147   31.23289  \n",
       "...                         ...           ...       ...        ...  \n",
       "1211  2024-04-22T03:00:00+02:00  Africa/Cairo  30.04147   31.23289  \n",
       "1212  2024-04-22T04:00:00+02:00  Africa/Cairo  30.04147   31.23289  \n",
       "1268  2024-04-24T12:00:00+02:00  Africa/Cairo  30.04147   31.23289  \n",
       "1272  2024-04-24T16:00:00+02:00  Africa/Cairo  30.04147   31.23289  \n",
       "1902  2024-05-22T01:00:00+03:00  Africa/Cairo  30.04147   31.23289  \n",
       "\n",
       "[105 rows x 9 columns]"
      ]
     },
     "execution_count": 12,
     "metadata": {},
     "output_type": "execute_result"
    }
   ],
   "source": [
    "cities1"
   ]
  },
  {
   "cell_type": "markdown",
   "id": "097dfc07",
   "metadata": {},
   "source": [
    "#### Extracting only dates from datelocal column for summary analysis"
   ]
  },
  {
   "cell_type": "code",
   "execution_count": 13,
   "id": "4f7a23fa",
   "metadata": {},
   "outputs": [
    {
     "name": "stderr",
     "output_type": "stream",
     "text": [
      "C:\\Users\\DAVY TANUI\\AppData\\Local\\Temp\\ipykernel_16640\\2912368088.py:1: SettingWithCopyWarning: \n",
      "A value is trying to be set on a copy of a slice from a DataFrame.\n",
      "Try using .loc[row_indexer,col_indexer] = value instead\n",
      "\n",
      "See the caveats in the documentation: https://pandas.pydata.org/pandas-docs/stable/user_guide/indexing.html#returning-a-view-versus-a-copy\n",
      "  cities1['datetimeLocal'] = pd.to_datetime(cities1['datetimeLocal'], utc=True)\n",
      "C:\\Users\\DAVY TANUI\\AppData\\Local\\Temp\\ipykernel_16640\\2912368088.py:2: SettingWithCopyWarning: \n",
      "A value is trying to be set on a copy of a slice from a DataFrame.\n",
      "Try using .loc[row_indexer,col_indexer] = value instead\n",
      "\n",
      "See the caveats in the documentation: https://pandas.pydata.org/pandas-docs/stable/user_guide/indexing.html#returning-a-view-versus-a-copy\n",
      "  cities1['Date'] = cities1['datetimeLocal'].dt.date\n"
     ]
    }
   ],
   "source": [
    "\n",
    "cities1['datetimeLocal'] = pd.to_datetime(cities1['datetimeLocal'], utc=True)\n",
    "cities1['Date'] = cities1['datetimeLocal'].dt.date"
   ]
  },
  {
   "cell_type": "markdown",
   "id": "587bda02",
   "metadata": {},
   "source": [
    "This is aimed at underdstanding which parameters are available in each city for comparison analysis"
   ]
  },
  {
   "cell_type": "markdown",
   "id": "f92532d3",
   "metadata": {},
   "source": [
    "This was purposed to get the count of each city and how many time s each is appearing in each dataset"
   ]
  },
  {
   "cell_type": "markdown",
   "id": "a0c2196d",
   "metadata": {},
   "source": [
    "# Time Series Analysis at each city\n",
    "\n",
    "This involves looking at the distribution visually, understanding of some statistics within the data and also visualize the distribution of various parameters then deduce conculsions.\n",
    "\n",
    "We used pie charts, histograms, box plots, line graphs and statistical tables to do the analysis for each parameter to help visualize how the air quality fluctuates over time for different parameters"
   ]
  },
  {
   "cell_type": "markdown",
   "id": "b7777f10",
   "metadata": {},
   "source": [
    "# Cairo"
   ]
  },
  {
   "cell_type": "markdown",
   "id": "123f704d",
   "metadata": {},
   "source": [
    "### Summary Statistics of pm25"
   ]
  },
  {
   "cell_type": "code",
   "execution_count": 4,
   "id": "3052d7d5",
   "metadata": {},
   "outputs": [
    {
     "name": "stdout",
     "output_type": "stream",
     "text": [
      "   Month       Mean  Median  Min  Max\n",
      "0  March  41.545969    31.0    8  190\n",
      "1  April  42.558908    34.0    7  240\n",
      "2    May  47.264624    37.0    9  170\n"
     ]
    }
   ],
   "source": [
    "# Filter for PM2.5 measurements\n",
    "pm25_march = cairomarch[cairomarch['parameter'] == 'pm25']\n",
    "pm25_april = cairoapril[cairoapril['parameter'] == 'pm25']\n",
    "pm25_may = cairomay[cairomay['parameter'] == 'pm25']\n",
    "\n",
    "# Calculate summary statistics\n",
    "stats_march = {\n",
    "    'Month': 'March',\n",
    "    'Mean': pm25_march['value'].mean(),\n",
    "    'Median': pm25_march['value'].median(),\n",
    "    'Min': pm25_march['value'].min(),\n",
    "    'Max': pm25_march['value'].max()\n",
    "}\n",
    "\n",
    "stats_april = {\n",
    "    'Month': 'April',\n",
    "    'Mean': pm25_april['value'].mean(),\n",
    "    'Median': pm25_april['value'].median(),\n",
    "    'Min': pm25_april['value'].min(),\n",
    "    'Max': pm25_april['value'].max()\n",
    "}\n",
    "\n",
    "stats_may = {\n",
    "    'Month': 'May',\n",
    "    'Mean': pm25_may['value'].mean(),\n",
    "    'Median': pm25_may['value'].median(),\n",
    "    'Min': pm25_may['value'].min(),\n",
    "    'Max': pm25_may['value'].max()\n",
    "}\n",
    "\n",
    "# Create a DataFrame for summary statistics\n",
    "summary_stats_df = pd.DataFrame([stats_march, stats_april, stats_may])\n",
    "\n",
    "# Display the summary statistics\n",
    "print(summary_stats_df)\n"
   ]
  },
  {
   "cell_type": "markdown",
   "id": "98b786b9",
   "metadata": {},
   "source": [
    "From the Histogram above, we can see that most of the parameters ranges from 0 to 50 with more concetration on lower values resulting into left skewness "
   ]
  },
  {
   "cell_type": "code",
   "execution_count": 3,
   "id": "9a083036",
   "metadata": {},
   "outputs": [
    {
     "data": {
      "application/vnd.plotly.v1+json": {
       "config": {
        "plotlyServerURL": "https://plot.ly"
       },
       "data": [
        {
         "alignmentgroup": "True",
         "hovertemplate": "Statistic=Mean<br>Month=%{x}<br>PM2.5 Value=%{y}<extra></extra>",
         "legendgroup": "Mean",
         "marker": {
          "color": "#636efa",
          "pattern": {
           "shape": ""
          }
         },
         "name": "Mean",
         "offsetgroup": "Mean",
         "orientation": "v",
         "showlegend": true,
         "textposition": "outside",
         "texttemplate": "%{text:.2f}",
         "type": "bar",
         "x": [
          "March",
          "April",
          "May"
         ],
         "xaxis": "x",
         "y": [
          41.545968882602544,
          42.55890804597701,
          47.26462395543175
         ],
         "yaxis": "y"
        },
        {
         "alignmentgroup": "True",
         "hovertemplate": "Statistic=Median<br>Month=%{x}<br>PM2.5 Value=%{y}<extra></extra>",
         "legendgroup": "Median",
         "marker": {
          "color": "#EF553B",
          "pattern": {
           "shape": ""
          }
         },
         "name": "Median",
         "offsetgroup": "Median",
         "orientation": "v",
         "showlegend": true,
         "textposition": "outside",
         "texttemplate": "%{text:.2f}",
         "type": "bar",
         "x": [
          "March",
          "April",
          "May"
         ],
         "xaxis": "x",
         "y": [
          31,
          34,
          37
         ],
         "yaxis": "y"
        },
        {
         "alignmentgroup": "True",
         "hovertemplate": "Statistic=Min<br>Month=%{x}<br>PM2.5 Value=%{y}<extra></extra>",
         "legendgroup": "Min",
         "marker": {
          "color": "#00cc96",
          "pattern": {
           "shape": ""
          }
         },
         "name": "Min",
         "offsetgroup": "Min",
         "orientation": "v",
         "showlegend": true,
         "textposition": "outside",
         "texttemplate": "%{text:.2f}",
         "type": "bar",
         "x": [
          "March",
          "April",
          "May"
         ],
         "xaxis": "x",
         "y": [
          8,
          7,
          9
         ],
         "yaxis": "y"
        },
        {
         "alignmentgroup": "True",
         "hovertemplate": "Statistic=Max<br>Month=%{x}<br>PM2.5 Value=%{y}<extra></extra>",
         "legendgroup": "Max",
         "marker": {
          "color": "#ab63fa",
          "pattern": {
           "shape": ""
          }
         },
         "name": "Max",
         "offsetgroup": "Max",
         "orientation": "v",
         "showlegend": true,
         "textposition": "outside",
         "texttemplate": "%{text:.2f}",
         "type": "bar",
         "x": [
          "March",
          "April",
          "May"
         ],
         "xaxis": "x",
         "y": [
          190,
          240,
          170
         ],
         "yaxis": "y"
        }
       ],
       "layout": {
        "barmode": "group",
        "legend": {
         "title": {
          "text": "Statistic"
         },
         "tracegroupgap": 0
        },
        "template": {
         "data": {
          "bar": [
           {
            "error_x": {
             "color": "#2a3f5f"
            },
            "error_y": {
             "color": "#2a3f5f"
            },
            "marker": {
             "line": {
              "color": "#E5ECF6",
              "width": 0.5
             },
             "pattern": {
              "fillmode": "overlay",
              "size": 10,
              "solidity": 0.2
             }
            },
            "type": "bar"
           }
          ],
          "barpolar": [
           {
            "marker": {
             "line": {
              "color": "#E5ECF6",
              "width": 0.5
             },
             "pattern": {
              "fillmode": "overlay",
              "size": 10,
              "solidity": 0.2
             }
            },
            "type": "barpolar"
           }
          ],
          "carpet": [
           {
            "aaxis": {
             "endlinecolor": "#2a3f5f",
             "gridcolor": "white",
             "linecolor": "white",
             "minorgridcolor": "white",
             "startlinecolor": "#2a3f5f"
            },
            "baxis": {
             "endlinecolor": "#2a3f5f",
             "gridcolor": "white",
             "linecolor": "white",
             "minorgridcolor": "white",
             "startlinecolor": "#2a3f5f"
            },
            "type": "carpet"
           }
          ],
          "choropleth": [
           {
            "colorbar": {
             "outlinewidth": 0,
             "ticks": ""
            },
            "type": "choropleth"
           }
          ],
          "contour": [
           {
            "colorbar": {
             "outlinewidth": 0,
             "ticks": ""
            },
            "colorscale": [
             [
              0,
              "#0d0887"
             ],
             [
              0.1111111111111111,
              "#46039f"
             ],
             [
              0.2222222222222222,
              "#7201a8"
             ],
             [
              0.3333333333333333,
              "#9c179e"
             ],
             [
              0.4444444444444444,
              "#bd3786"
             ],
             [
              0.5555555555555556,
              "#d8576b"
             ],
             [
              0.6666666666666666,
              "#ed7953"
             ],
             [
              0.7777777777777778,
              "#fb9f3a"
             ],
             [
              0.8888888888888888,
              "#fdca26"
             ],
             [
              1,
              "#f0f921"
             ]
            ],
            "type": "contour"
           }
          ],
          "contourcarpet": [
           {
            "colorbar": {
             "outlinewidth": 0,
             "ticks": ""
            },
            "type": "contourcarpet"
           }
          ],
          "heatmap": [
           {
            "colorbar": {
             "outlinewidth": 0,
             "ticks": ""
            },
            "colorscale": [
             [
              0,
              "#0d0887"
             ],
             [
              0.1111111111111111,
              "#46039f"
             ],
             [
              0.2222222222222222,
              "#7201a8"
             ],
             [
              0.3333333333333333,
              "#9c179e"
             ],
             [
              0.4444444444444444,
              "#bd3786"
             ],
             [
              0.5555555555555556,
              "#d8576b"
             ],
             [
              0.6666666666666666,
              "#ed7953"
             ],
             [
              0.7777777777777778,
              "#fb9f3a"
             ],
             [
              0.8888888888888888,
              "#fdca26"
             ],
             [
              1,
              "#f0f921"
             ]
            ],
            "type": "heatmap"
           }
          ],
          "heatmapgl": [
           {
            "colorbar": {
             "outlinewidth": 0,
             "ticks": ""
            },
            "colorscale": [
             [
              0,
              "#0d0887"
             ],
             [
              0.1111111111111111,
              "#46039f"
             ],
             [
              0.2222222222222222,
              "#7201a8"
             ],
             [
              0.3333333333333333,
              "#9c179e"
             ],
             [
              0.4444444444444444,
              "#bd3786"
             ],
             [
              0.5555555555555556,
              "#d8576b"
             ],
             [
              0.6666666666666666,
              "#ed7953"
             ],
             [
              0.7777777777777778,
              "#fb9f3a"
             ],
             [
              0.8888888888888888,
              "#fdca26"
             ],
             [
              1,
              "#f0f921"
             ]
            ],
            "type": "heatmapgl"
           }
          ],
          "histogram": [
           {
            "marker": {
             "pattern": {
              "fillmode": "overlay",
              "size": 10,
              "solidity": 0.2
             }
            },
            "type": "histogram"
           }
          ],
          "histogram2d": [
           {
            "colorbar": {
             "outlinewidth": 0,
             "ticks": ""
            },
            "colorscale": [
             [
              0,
              "#0d0887"
             ],
             [
              0.1111111111111111,
              "#46039f"
             ],
             [
              0.2222222222222222,
              "#7201a8"
             ],
             [
              0.3333333333333333,
              "#9c179e"
             ],
             [
              0.4444444444444444,
              "#bd3786"
             ],
             [
              0.5555555555555556,
              "#d8576b"
             ],
             [
              0.6666666666666666,
              "#ed7953"
             ],
             [
              0.7777777777777778,
              "#fb9f3a"
             ],
             [
              0.8888888888888888,
              "#fdca26"
             ],
             [
              1,
              "#f0f921"
             ]
            ],
            "type": "histogram2d"
           }
          ],
          "histogram2dcontour": [
           {
            "colorbar": {
             "outlinewidth": 0,
             "ticks": ""
            },
            "colorscale": [
             [
              0,
              "#0d0887"
             ],
             [
              0.1111111111111111,
              "#46039f"
             ],
             [
              0.2222222222222222,
              "#7201a8"
             ],
             [
              0.3333333333333333,
              "#9c179e"
             ],
             [
              0.4444444444444444,
              "#bd3786"
             ],
             [
              0.5555555555555556,
              "#d8576b"
             ],
             [
              0.6666666666666666,
              "#ed7953"
             ],
             [
              0.7777777777777778,
              "#fb9f3a"
             ],
             [
              0.8888888888888888,
              "#fdca26"
             ],
             [
              1,
              "#f0f921"
             ]
            ],
            "type": "histogram2dcontour"
           }
          ],
          "mesh3d": [
           {
            "colorbar": {
             "outlinewidth": 0,
             "ticks": ""
            },
            "type": "mesh3d"
           }
          ],
          "parcoords": [
           {
            "line": {
             "colorbar": {
              "outlinewidth": 0,
              "ticks": ""
             }
            },
            "type": "parcoords"
           }
          ],
          "pie": [
           {
            "automargin": true,
            "type": "pie"
           }
          ],
          "scatter": [
           {
            "fillpattern": {
             "fillmode": "overlay",
             "size": 10,
             "solidity": 0.2
            },
            "type": "scatter"
           }
          ],
          "scatter3d": [
           {
            "line": {
             "colorbar": {
              "outlinewidth": 0,
              "ticks": ""
             }
            },
            "marker": {
             "colorbar": {
              "outlinewidth": 0,
              "ticks": ""
             }
            },
            "type": "scatter3d"
           }
          ],
          "scattercarpet": [
           {
            "marker": {
             "colorbar": {
              "outlinewidth": 0,
              "ticks": ""
             }
            },
            "type": "scattercarpet"
           }
          ],
          "scattergeo": [
           {
            "marker": {
             "colorbar": {
              "outlinewidth": 0,
              "ticks": ""
             }
            },
            "type": "scattergeo"
           }
          ],
          "scattergl": [
           {
            "marker": {
             "colorbar": {
              "outlinewidth": 0,
              "ticks": ""
             }
            },
            "type": "scattergl"
           }
          ],
          "scattermapbox": [
           {
            "marker": {
             "colorbar": {
              "outlinewidth": 0,
              "ticks": ""
             }
            },
            "type": "scattermapbox"
           }
          ],
          "scatterpolar": [
           {
            "marker": {
             "colorbar": {
              "outlinewidth": 0,
              "ticks": ""
             }
            },
            "type": "scatterpolar"
           }
          ],
          "scatterpolargl": [
           {
            "marker": {
             "colorbar": {
              "outlinewidth": 0,
              "ticks": ""
             }
            },
            "type": "scatterpolargl"
           }
          ],
          "scatterternary": [
           {
            "marker": {
             "colorbar": {
              "outlinewidth": 0,
              "ticks": ""
             }
            },
            "type": "scatterternary"
           }
          ],
          "surface": [
           {
            "colorbar": {
             "outlinewidth": 0,
             "ticks": ""
            },
            "colorscale": [
             [
              0,
              "#0d0887"
             ],
             [
              0.1111111111111111,
              "#46039f"
             ],
             [
              0.2222222222222222,
              "#7201a8"
             ],
             [
              0.3333333333333333,
              "#9c179e"
             ],
             [
              0.4444444444444444,
              "#bd3786"
             ],
             [
              0.5555555555555556,
              "#d8576b"
             ],
             [
              0.6666666666666666,
              "#ed7953"
             ],
             [
              0.7777777777777778,
              "#fb9f3a"
             ],
             [
              0.8888888888888888,
              "#fdca26"
             ],
             [
              1,
              "#f0f921"
             ]
            ],
            "type": "surface"
           }
          ],
          "table": [
           {
            "cells": {
             "fill": {
              "color": "#EBF0F8"
             },
             "line": {
              "color": "white"
             }
            },
            "header": {
             "fill": {
              "color": "#C8D4E3"
             },
             "line": {
              "color": "white"
             }
            },
            "type": "table"
           }
          ]
         },
         "layout": {
          "annotationdefaults": {
           "arrowcolor": "#2a3f5f",
           "arrowhead": 0,
           "arrowwidth": 1
          },
          "autotypenumbers": "strict",
          "coloraxis": {
           "colorbar": {
            "outlinewidth": 0,
            "ticks": ""
           }
          },
          "colorscale": {
           "diverging": [
            [
             0,
             "#8e0152"
            ],
            [
             0.1,
             "#c51b7d"
            ],
            [
             0.2,
             "#de77ae"
            ],
            [
             0.3,
             "#f1b6da"
            ],
            [
             0.4,
             "#fde0ef"
            ],
            [
             0.5,
             "#f7f7f7"
            ],
            [
             0.6,
             "#e6f5d0"
            ],
            [
             0.7,
             "#b8e186"
            ],
            [
             0.8,
             "#7fbc41"
            ],
            [
             0.9,
             "#4d9221"
            ],
            [
             1,
             "#276419"
            ]
           ],
           "sequential": [
            [
             0,
             "#0d0887"
            ],
            [
             0.1111111111111111,
             "#46039f"
            ],
            [
             0.2222222222222222,
             "#7201a8"
            ],
            [
             0.3333333333333333,
             "#9c179e"
            ],
            [
             0.4444444444444444,
             "#bd3786"
            ],
            [
             0.5555555555555556,
             "#d8576b"
            ],
            [
             0.6666666666666666,
             "#ed7953"
            ],
            [
             0.7777777777777778,
             "#fb9f3a"
            ],
            [
             0.8888888888888888,
             "#fdca26"
            ],
            [
             1,
             "#f0f921"
            ]
           ],
           "sequentialminus": [
            [
             0,
             "#0d0887"
            ],
            [
             0.1111111111111111,
             "#46039f"
            ],
            [
             0.2222222222222222,
             "#7201a8"
            ],
            [
             0.3333333333333333,
             "#9c179e"
            ],
            [
             0.4444444444444444,
             "#bd3786"
            ],
            [
             0.5555555555555556,
             "#d8576b"
            ],
            [
             0.6666666666666666,
             "#ed7953"
            ],
            [
             0.7777777777777778,
             "#fb9f3a"
            ],
            [
             0.8888888888888888,
             "#fdca26"
            ],
            [
             1,
             "#f0f921"
            ]
           ]
          },
          "colorway": [
           "#636efa",
           "#EF553B",
           "#00cc96",
           "#ab63fa",
           "#FFA15A",
           "#19d3f3",
           "#FF6692",
           "#B6E880",
           "#FF97FF",
           "#FECB52"
          ],
          "font": {
           "color": "#2a3f5f"
          },
          "geo": {
           "bgcolor": "white",
           "lakecolor": "white",
           "landcolor": "#E5ECF6",
           "showlakes": true,
           "showland": true,
           "subunitcolor": "white"
          },
          "hoverlabel": {
           "align": "left"
          },
          "hovermode": "closest",
          "mapbox": {
           "style": "light"
          },
          "paper_bgcolor": "white",
          "plot_bgcolor": "#E5ECF6",
          "polar": {
           "angularaxis": {
            "gridcolor": "white",
            "linecolor": "white",
            "ticks": ""
           },
           "bgcolor": "#E5ECF6",
           "radialaxis": {
            "gridcolor": "white",
            "linecolor": "white",
            "ticks": ""
           }
          },
          "scene": {
           "xaxis": {
            "backgroundcolor": "#E5ECF6",
            "gridcolor": "white",
            "gridwidth": 2,
            "linecolor": "white",
            "showbackground": true,
            "ticks": "",
            "zerolinecolor": "white"
           },
           "yaxis": {
            "backgroundcolor": "#E5ECF6",
            "gridcolor": "white",
            "gridwidth": 2,
            "linecolor": "white",
            "showbackground": true,
            "ticks": "",
            "zerolinecolor": "white"
           },
           "zaxis": {
            "backgroundcolor": "#E5ECF6",
            "gridcolor": "white",
            "gridwidth": 2,
            "linecolor": "white",
            "showbackground": true,
            "ticks": "",
            "zerolinecolor": "white"
           }
          },
          "shapedefaults": {
           "line": {
            "color": "#2a3f5f"
           }
          },
          "ternary": {
           "aaxis": {
            "gridcolor": "white",
            "linecolor": "white",
            "ticks": ""
           },
           "baxis": {
            "gridcolor": "white",
            "linecolor": "white",
            "ticks": ""
           },
           "bgcolor": "#E5ECF6",
           "caxis": {
            "gridcolor": "white",
            "linecolor": "white",
            "ticks": ""
           }
          },
          "title": {
           "x": 0.05
          },
          "xaxis": {
           "automargin": true,
           "gridcolor": "white",
           "linecolor": "white",
           "ticks": "",
           "title": {
            "standoff": 15
           },
           "zerolinecolor": "white",
           "zerolinewidth": 2
          },
          "yaxis": {
           "automargin": true,
           "gridcolor": "white",
           "linecolor": "white",
           "ticks": "",
           "title": {
            "standoff": 15
           },
           "zerolinecolor": "white",
           "zerolinewidth": 2
          }
         }
        },
        "title": {
         "text": "Comparison of PM2.5 Summary Statistics for March, April, and May"
        },
        "xaxis": {
         "anchor": "y",
         "domain": [
          0,
          1
         ],
         "title": {
          "text": "Month"
         }
        },
        "yaxis": {
         "anchor": "x",
         "domain": [
          0,
          1
         ],
         "title": {
          "text": "PM2.5 Value"
         }
        }
       }
      }
     },
     "metadata": {},
     "output_type": "display_data"
    }
   ],
   "source": [
    "\n",
    "\n",
    "# Convert the datetime column to datetime objects\n",
    "cairomarch['datetimeLocal'] = pd.to_datetime(cairomarch['datetimeLocal'], utc=True)\n",
    "cairoapril['datetimeLocal'] = pd.to_datetime(cairoapril['datetimeLocal'], utc=True)\n",
    "cairomay['datetimeLocal'] = pd.to_datetime(cairomay['datetimeLocal'], utc=True)\n",
    "\n",
    "# Filter for PM2.5 measurements\n",
    "pm25_march = cairomarch[cairomarch['parameter'] == 'pm25']\n",
    "pm25_april = cairoapril[cairoapril['parameter'] == 'pm25']\n",
    "pm25_may = cairomay[cairomay['parameter'] == 'pm25']\n",
    "\n",
    "# Calculate summary statistics\n",
    "stats_march = {\n",
    "    'Month': 'March',\n",
    "    'Statistic': 'Mean',\n",
    "    'Value': pm25_march['value'].mean()\n",
    "}\n",
    "stats_march_median = {\n",
    "    'Month': 'March',\n",
    "    'Statistic': 'Median',\n",
    "    'Value': pm25_march['value'].median()\n",
    "}\n",
    "stats_march_min = {\n",
    "    'Month': 'March',\n",
    "    'Statistic': 'Min',\n",
    "    'Value': pm25_march['value'].min()\n",
    "}\n",
    "stats_march_max = {\n",
    "    'Month': 'March',\n",
    "    'Statistic': 'Max',\n",
    "    'Value': pm25_march['value'].max()\n",
    "}\n",
    "\n",
    "stats_april = {\n",
    "    'Month': 'April',\n",
    "    'Statistic': 'Mean',\n",
    "    'Value': pm25_april['value'].mean()\n",
    "}\n",
    "stats_april_median = {\n",
    "    'Month': 'April',\n",
    "    'Statistic': 'Median',\n",
    "    'Value': pm25_april['value'].median()\n",
    "}\n",
    "stats_april_min = {\n",
    "    'Month': 'April',\n",
    "    'Statistic': 'Min',\n",
    "    'Value': pm25_april['value'].min()\n",
    "}\n",
    "stats_april_max = {\n",
    "    'Month': 'April',\n",
    "    'Statistic': 'Max',\n",
    "    'Value': pm25_april['value'].max()\n",
    "}\n",
    "\n",
    "stats_may = {\n",
    "    'Month': 'May',\n",
    "    'Statistic': 'Mean',\n",
    "    'Value': pm25_may['value'].mean()\n",
    "}\n",
    "stats_may_median = {\n",
    "    'Month': 'May',\n",
    "    'Statistic': 'Median',\n",
    "    'Value': pm25_may['value'].median()\n",
    "}\n",
    "stats_may_min = {\n",
    "    'Month': 'May',\n",
    "    'Statistic': 'Min',\n",
    "    'Value': pm25_may['value'].min()\n",
    "}\n",
    "stats_may_max = {\n",
    "    'Month': 'May',\n",
    "    'Statistic': 'Max',\n",
    "    'Value': pm25_may['value'].max()\n",
    "}\n",
    "\n",
    "# Create a DataFrame for summary statistics\n",
    "summary_stats_df = pd.DataFrame([\n",
    "    stats_march, stats_march_median, stats_march_min, stats_march_max,\n",
    "    stats_april, stats_april_median, stats_april_min, stats_april_max,\n",
    "    stats_may, stats_may_median, stats_may_min, stats_may_max\n",
    "])\n",
    "\n",
    "# Create the bar chart\n",
    "fig = px.bar(summary_stats_df, x='Month', y='Value', color='Statistic', \n",
    "             title='Comparison of PM2.5 Summary Statistics for March, April, and May',\n",
    "             labels={'Value': 'PM2.5 Value'},\n",
    "             barmode='group')  # Group bars for different statistics\n",
    "\n",
    "# Add text labels\n",
    "fig.update_traces(texttemplate='%{text:.2f}', textposition='outside')\n",
    "\n",
    "# Update layout\n",
    "fig.update_layout(yaxis_title='PM2.5 Value')\n",
    "\n",
    "# Show the plot\n",
    "fig.show()\n"
   ]
  },
  {
   "cell_type": "code",
   "execution_count": 6,
   "id": "c424d523",
   "metadata": {},
   "outputs": [
    {
     "data": {
      "application/vnd.plotly.v1+json": {
       "config": {
        "plotlyServerURL": "https://plot.ly"
       },
       "data": [
        {
         "hovertemplate": "Month=March<br>Date=%{x}<br>PM2.5 Value=%{y}<extra></extra>",
         "legendgroup": "March",
         "line": {
          "color": "#636efa",
          "dash": "solid"
         },
         "marker": {
          "symbol": "circle"
         },
         "mode": "lines",
         "name": "March",
         "showlegend": true,
         "type": "scattergl",
         "x": [
          "2024-03-01T01:00:00+00:00",
          "2024-03-01T02:00:00+00:00",
          "2024-03-01T03:00:00+00:00",
          "2024-03-01T04:00:00+00:00",
          "2024-03-01T05:00:00+00:00",
          "2024-03-01T06:00:00+00:00",
          "2024-03-01T07:00:00+00:00",
          "2024-03-01T08:00:00+00:00",
          "2024-03-01T09:00:00+00:00",
          "2024-03-01T10:00:00+00:00",
          "2024-03-01T11:00:00+00:00",
          "2024-03-01T12:00:00+00:00",
          "2024-03-01T13:00:00+00:00",
          "2024-03-01T14:00:00+00:00",
          "2024-03-01T15:00:00+00:00",
          "2024-03-01T16:00:00+00:00",
          "2024-03-01T17:00:00+00:00",
          "2024-03-01T18:00:00+00:00",
          "2024-03-01T19:00:00+00:00",
          "2024-03-01T20:00:00+00:00",
          "2024-03-01T21:00:00+00:00",
          "2024-03-01T22:00:00+00:00",
          "2024-03-01T23:00:00+00:00",
          "2024-03-02T00:00:00+00:00",
          "2024-03-02T01:00:00+00:00",
          "2024-03-02T02:00:00+00:00",
          "2024-03-02T03:00:00+00:00",
          "2024-03-02T04:00:00+00:00",
          "2024-03-02T05:00:00+00:00",
          "2024-03-02T06:00:00+00:00",
          "2024-03-02T07:00:00+00:00",
          "2024-03-02T08:00:00+00:00",
          "2024-03-02T09:00:00+00:00",
          "2024-03-02T10:00:00+00:00",
          "2024-03-02T11:00:00+00:00",
          "2024-03-02T12:00:00+00:00",
          "2024-03-02T13:00:00+00:00",
          "2024-03-02T14:00:00+00:00",
          "2024-03-02T15:00:00+00:00",
          "2024-03-02T16:00:00+00:00",
          "2024-03-02T17:00:00+00:00",
          "2024-03-02T18:00:00+00:00",
          "2024-03-02T19:00:00+00:00",
          "2024-03-02T20:00:00+00:00",
          "2024-03-02T21:00:00+00:00",
          "2024-03-02T22:00:00+00:00",
          "2024-03-02T23:00:00+00:00",
          "2024-03-03T00:00:00+00:00",
          "2024-03-03T01:00:00+00:00",
          "2024-03-03T02:00:00+00:00",
          "2024-03-03T03:00:00+00:00",
          "2024-03-03T04:00:00+00:00",
          "2024-03-03T05:00:00+00:00",
          "2024-03-03T06:00:00+00:00",
          "2024-03-03T07:00:00+00:00",
          "2024-03-03T08:00:00+00:00",
          "2024-03-03T09:00:00+00:00",
          "2024-03-03T10:00:00+00:00",
          "2024-03-03T11:00:00+00:00",
          "2024-03-03T12:00:00+00:00",
          "2024-03-03T13:00:00+00:00",
          "2024-03-03T14:00:00+00:00",
          "2024-03-03T15:00:00+00:00",
          "2024-03-03T16:00:00+00:00",
          "2024-03-03T17:00:00+00:00",
          "2024-03-03T18:00:00+00:00",
          "2024-03-03T19:00:00+00:00",
          "2024-03-03T20:00:00+00:00",
          "2024-03-03T21:00:00+00:00",
          "2024-03-03T22:00:00+00:00",
          "2024-03-03T23:00:00+00:00",
          "2024-03-04T00:00:00+00:00",
          "2024-03-04T01:00:00+00:00",
          "2024-03-04T02:00:00+00:00",
          "2024-03-04T03:00:00+00:00",
          "2024-03-04T04:00:00+00:00",
          "2024-03-04T05:00:00+00:00",
          "2024-03-04T07:00:00+00:00",
          "2024-03-04T08:00:00+00:00",
          "2024-03-04T09:00:00+00:00",
          "2024-03-04T10:00:00+00:00",
          "2024-03-04T11:00:00+00:00",
          "2024-03-04T12:00:00+00:00",
          "2024-03-04T13:00:00+00:00",
          "2024-03-04T14:00:00+00:00",
          "2024-03-04T15:00:00+00:00",
          "2024-03-04T16:00:00+00:00",
          "2024-03-04T17:00:00+00:00",
          "2024-03-04T18:00:00+00:00",
          "2024-03-04T19:00:00+00:00",
          "2024-03-04T20:00:00+00:00",
          "2024-03-04T21:00:00+00:00",
          "2024-03-04T22:00:00+00:00",
          "2024-03-04T23:00:00+00:00",
          "2024-03-05T00:00:00+00:00",
          "2024-03-05T01:00:00+00:00",
          "2024-03-05T02:00:00+00:00",
          "2024-03-05T03:00:00+00:00",
          "2024-03-05T04:00:00+00:00",
          "2024-03-05T05:00:00+00:00",
          "2024-03-05T06:00:00+00:00",
          "2024-03-05T07:00:00+00:00",
          "2024-03-05T08:00:00+00:00",
          "2024-03-05T09:00:00+00:00",
          "2024-03-05T10:00:00+00:00",
          "2024-03-05T11:00:00+00:00",
          "2024-03-05T12:00:00+00:00",
          "2024-03-05T13:00:00+00:00",
          "2024-03-05T14:00:00+00:00",
          "2024-03-05T15:00:00+00:00",
          "2024-03-05T16:00:00+00:00",
          "2024-03-05T17:00:00+00:00",
          "2024-03-05T18:00:00+00:00",
          "2024-03-05T19:00:00+00:00",
          "2024-03-05T20:00:00+00:00",
          "2024-03-05T21:00:00+00:00",
          "2024-03-05T22:00:00+00:00",
          "2024-03-05T23:00:00+00:00",
          "2024-03-06T00:00:00+00:00",
          "2024-03-06T01:00:00+00:00",
          "2024-03-06T02:00:00+00:00",
          "2024-03-06T03:00:00+00:00",
          "2024-03-06T04:00:00+00:00",
          "2024-03-06T05:00:00+00:00",
          "2024-03-06T06:00:00+00:00",
          "2024-03-06T07:00:00+00:00",
          "2024-03-06T08:00:00+00:00",
          "2024-03-06T09:00:00+00:00",
          "2024-03-06T10:00:00+00:00",
          "2024-03-06T11:00:00+00:00",
          "2024-03-06T12:00:00+00:00",
          "2024-03-06T13:00:00+00:00",
          "2024-03-06T14:00:00+00:00",
          "2024-03-06T15:00:00+00:00",
          "2024-03-06T16:00:00+00:00",
          "2024-03-06T17:00:00+00:00",
          "2024-03-06T18:00:00+00:00",
          "2024-03-06T19:00:00+00:00",
          "2024-03-06T20:00:00+00:00",
          "2024-03-06T21:00:00+00:00",
          "2024-03-06T22:00:00+00:00",
          "2024-03-06T23:00:00+00:00",
          "2024-03-07T00:00:00+00:00",
          "2024-03-07T01:00:00+00:00",
          "2024-03-07T02:00:00+00:00",
          "2024-03-07T03:00:00+00:00",
          "2024-03-07T04:00:00+00:00",
          "2024-03-07T05:00:00+00:00",
          "2024-03-07T06:00:00+00:00",
          "2024-03-07T07:00:00+00:00",
          "2024-03-07T08:00:00+00:00",
          "2024-03-07T09:00:00+00:00",
          "2024-03-07T10:00:00+00:00",
          "2024-03-07T11:00:00+00:00",
          "2024-03-07T12:00:00+00:00",
          "2024-03-07T13:00:00+00:00",
          "2024-03-07T14:00:00+00:00",
          "2024-03-07T15:00:00+00:00",
          "2024-03-07T16:00:00+00:00",
          "2024-03-07T17:00:00+00:00",
          "2024-03-07T18:00:00+00:00",
          "2024-03-07T19:00:00+00:00",
          "2024-03-07T20:00:00+00:00",
          "2024-03-07T21:00:00+00:00",
          "2024-03-07T22:00:00+00:00",
          "2024-03-07T23:00:00+00:00",
          "2024-03-08T00:00:00+00:00",
          "2024-03-08T01:00:00+00:00",
          "2024-03-08T02:00:00+00:00",
          "2024-03-08T03:00:00+00:00",
          "2024-03-08T04:00:00+00:00",
          "2024-03-08T05:00:00+00:00",
          "2024-03-08T06:00:00+00:00",
          "2024-03-08T07:00:00+00:00",
          "2024-03-08T08:00:00+00:00",
          "2024-03-08T09:00:00+00:00",
          "2024-03-08T10:00:00+00:00",
          "2024-03-08T11:00:00+00:00",
          "2024-03-08T12:00:00+00:00",
          "2024-03-08T13:00:00+00:00",
          "2024-03-08T14:00:00+00:00",
          "2024-03-08T15:00:00+00:00",
          "2024-03-08T16:00:00+00:00",
          "2024-03-08T17:00:00+00:00",
          "2024-03-08T18:00:00+00:00",
          "2024-03-08T19:00:00+00:00",
          "2024-03-08T20:00:00+00:00",
          "2024-03-08T21:00:00+00:00",
          "2024-03-08T22:00:00+00:00",
          "2024-03-08T23:00:00+00:00",
          "2024-03-09T00:00:00+00:00",
          "2024-03-09T01:00:00+00:00",
          "2024-03-09T02:00:00+00:00",
          "2024-03-09T03:00:00+00:00",
          "2024-03-09T04:00:00+00:00",
          "2024-03-09T05:00:00+00:00",
          "2024-03-09T07:00:00+00:00",
          "2024-03-09T08:00:00+00:00",
          "2024-03-09T09:00:00+00:00",
          "2024-03-09T10:00:00+00:00",
          "2024-03-09T11:00:00+00:00",
          "2024-03-09T12:00:00+00:00",
          "2024-03-09T13:00:00+00:00",
          "2024-03-09T14:00:00+00:00",
          "2024-03-09T15:00:00+00:00",
          "2024-03-09T16:00:00+00:00",
          "2024-03-09T17:00:00+00:00",
          "2024-03-09T18:00:00+00:00",
          "2024-03-09T19:00:00+00:00",
          "2024-03-09T20:00:00+00:00",
          "2024-03-09T21:00:00+00:00",
          "2024-03-09T22:00:00+00:00",
          "2024-03-09T23:00:00+00:00",
          "2024-03-10T00:00:00+00:00",
          "2024-03-10T01:00:00+00:00",
          "2024-03-10T02:00:00+00:00",
          "2024-03-10T03:00:00+00:00",
          "2024-03-10T04:00:00+00:00",
          "2024-03-10T05:00:00+00:00",
          "2024-03-10T06:00:00+00:00",
          "2024-03-10T07:00:00+00:00",
          "2024-03-10T08:00:00+00:00",
          "2024-03-10T09:00:00+00:00",
          "2024-03-10T10:00:00+00:00",
          "2024-03-10T11:00:00+00:00",
          "2024-03-10T12:00:00+00:00",
          "2024-03-10T13:00:00+00:00",
          "2024-03-10T14:00:00+00:00",
          "2024-03-10T15:00:00+00:00",
          "2024-03-10T16:00:00+00:00",
          "2024-03-10T17:00:00+00:00",
          "2024-03-10T18:00:00+00:00",
          "2024-03-10T19:00:00+00:00",
          "2024-03-10T20:00:00+00:00",
          "2024-03-10T21:00:00+00:00",
          "2024-03-10T22:00:00+00:00",
          "2024-03-10T23:00:00+00:00",
          "2024-03-11T00:00:00+00:00",
          "2024-03-11T01:00:00+00:00",
          "2024-03-11T02:00:00+00:00",
          "2024-03-11T03:00:00+00:00",
          "2024-03-11T04:00:00+00:00",
          "2024-03-11T05:00:00+00:00",
          "2024-03-11T07:00:00+00:00",
          "2024-03-11T08:00:00+00:00",
          "2024-03-11T09:00:00+00:00",
          "2024-03-11T10:00:00+00:00",
          "2024-03-11T11:00:00+00:00",
          "2024-03-11T12:00:00+00:00",
          "2024-03-11T13:00:00+00:00",
          "2024-03-11T14:00:00+00:00",
          "2024-03-11T15:00:00+00:00",
          "2024-03-11T16:00:00+00:00",
          "2024-03-11T17:00:00+00:00",
          "2024-03-11T18:00:00+00:00",
          "2024-03-11T19:00:00+00:00",
          "2024-03-11T20:00:00+00:00",
          "2024-03-11T21:00:00+00:00",
          "2024-03-11T22:00:00+00:00",
          "2024-03-11T23:00:00+00:00",
          "2024-03-12T00:00:00+00:00",
          "2024-03-12T01:00:00+00:00",
          "2024-03-12T02:00:00+00:00",
          "2024-03-12T03:00:00+00:00",
          "2024-03-12T04:00:00+00:00",
          "2024-03-12T05:00:00+00:00",
          "2024-03-12T06:00:00+00:00",
          "2024-03-12T07:00:00+00:00",
          "2024-03-12T08:00:00+00:00",
          "2024-03-12T09:00:00+00:00",
          "2024-03-12T10:00:00+00:00",
          "2024-03-12T11:00:00+00:00",
          "2024-03-12T12:00:00+00:00",
          "2024-03-12T13:00:00+00:00",
          "2024-03-12T14:00:00+00:00",
          "2024-03-12T15:00:00+00:00",
          "2024-03-12T16:00:00+00:00",
          "2024-03-12T17:00:00+00:00",
          "2024-03-12T18:00:00+00:00",
          "2024-03-12T19:00:00+00:00",
          "2024-03-12T20:00:00+00:00",
          "2024-03-12T21:00:00+00:00",
          "2024-03-12T22:00:00+00:00",
          "2024-03-12T23:00:00+00:00",
          "2024-03-13T00:00:00+00:00",
          "2024-03-13T01:00:00+00:00",
          "2024-03-13T02:00:00+00:00",
          "2024-03-13T03:00:00+00:00",
          "2024-03-13T04:00:00+00:00",
          "2024-03-13T05:00:00+00:00",
          "2024-03-13T06:00:00+00:00",
          "2024-03-13T07:00:00+00:00",
          "2024-03-13T08:00:00+00:00",
          "2024-03-13T09:00:00+00:00",
          "2024-03-13T10:00:00+00:00",
          "2024-03-13T11:00:00+00:00",
          "2024-03-13T12:00:00+00:00",
          "2024-03-13T13:00:00+00:00",
          "2024-03-13T14:00:00+00:00",
          "2024-03-13T15:00:00+00:00",
          "2024-03-13T16:00:00+00:00",
          "2024-03-13T17:00:00+00:00",
          "2024-03-13T18:00:00+00:00",
          "2024-03-13T19:00:00+00:00",
          "2024-03-13T20:00:00+00:00",
          "2024-03-13T21:00:00+00:00",
          "2024-03-13T22:00:00+00:00",
          "2024-03-13T23:00:00+00:00",
          "2024-03-14T00:00:00+00:00",
          "2024-03-14T01:00:00+00:00",
          "2024-03-14T02:00:00+00:00",
          "2024-03-14T03:00:00+00:00",
          "2024-03-14T04:00:00+00:00",
          "2024-03-14T05:00:00+00:00",
          "2024-03-14T06:00:00+00:00",
          "2024-03-14T07:00:00+00:00",
          "2024-03-14T08:00:00+00:00",
          "2024-03-14T09:00:00+00:00",
          "2024-03-14T10:00:00+00:00",
          "2024-03-14T11:00:00+00:00",
          "2024-03-14T12:00:00+00:00",
          "2024-03-14T13:00:00+00:00",
          "2024-03-14T14:00:00+00:00",
          "2024-03-14T15:00:00+00:00",
          "2024-03-14T16:00:00+00:00",
          "2024-03-14T17:00:00+00:00",
          "2024-03-14T18:00:00+00:00",
          "2024-03-14T19:00:00+00:00",
          "2024-03-14T20:00:00+00:00",
          "2024-03-14T21:00:00+00:00",
          "2024-03-14T22:00:00+00:00",
          "2024-03-14T23:00:00+00:00",
          "2024-03-15T00:00:00+00:00",
          "2024-03-15T01:00:00+00:00",
          "2024-03-15T02:00:00+00:00",
          "2024-03-15T03:00:00+00:00",
          "2024-03-15T04:00:00+00:00",
          "2024-03-15T05:00:00+00:00",
          "2024-03-15T07:00:00+00:00",
          "2024-03-15T08:00:00+00:00",
          "2024-03-15T09:00:00+00:00",
          "2024-03-15T10:00:00+00:00",
          "2024-03-15T11:00:00+00:00",
          "2024-03-15T12:00:00+00:00",
          "2024-03-15T13:00:00+00:00",
          "2024-03-15T14:00:00+00:00",
          "2024-03-15T15:00:00+00:00",
          "2024-03-15T16:00:00+00:00",
          "2024-03-15T17:00:00+00:00",
          "2024-03-15T18:00:00+00:00",
          "2024-03-15T19:00:00+00:00",
          "2024-03-15T20:00:00+00:00",
          "2024-03-15T21:00:00+00:00",
          "2024-03-15T22:00:00+00:00",
          "2024-03-15T23:00:00+00:00",
          "2024-03-16T00:00:00+00:00",
          "2024-03-16T01:00:00+00:00",
          "2024-03-16T02:00:00+00:00",
          "2024-03-16T03:00:00+00:00",
          "2024-03-16T04:00:00+00:00",
          "2024-03-16T05:00:00+00:00",
          "2024-03-16T06:00:00+00:00",
          "2024-03-16T07:00:00+00:00",
          "2024-03-16T08:00:00+00:00",
          "2024-03-16T09:00:00+00:00",
          "2024-03-16T10:00:00+00:00",
          "2024-03-16T11:00:00+00:00",
          "2024-03-16T12:00:00+00:00",
          "2024-03-16T13:00:00+00:00",
          "2024-03-16T14:00:00+00:00",
          "2024-03-16T15:00:00+00:00",
          "2024-03-16T16:00:00+00:00",
          "2024-03-16T17:00:00+00:00",
          "2024-03-16T18:00:00+00:00",
          "2024-03-16T19:00:00+00:00",
          "2024-03-16T20:00:00+00:00",
          "2024-03-16T21:00:00+00:00",
          "2024-03-16T22:00:00+00:00",
          "2024-03-16T23:00:00+00:00",
          "2024-03-17T00:00:00+00:00",
          "2024-03-17T01:00:00+00:00",
          "2024-03-17T02:00:00+00:00",
          "2024-03-17T03:00:00+00:00",
          "2024-03-17T04:00:00+00:00",
          "2024-03-17T05:00:00+00:00",
          "2024-03-17T06:00:00+00:00",
          "2024-03-17T07:00:00+00:00",
          "2024-03-17T08:00:00+00:00",
          "2024-03-17T09:00:00+00:00",
          "2024-03-17T10:00:00+00:00",
          "2024-03-17T11:00:00+00:00",
          "2024-03-17T12:00:00+00:00",
          "2024-03-17T13:00:00+00:00",
          "2024-03-17T14:00:00+00:00",
          "2024-03-17T15:00:00+00:00",
          "2024-03-17T16:00:00+00:00",
          "2024-03-17T17:00:00+00:00",
          "2024-03-17T18:00:00+00:00",
          "2024-03-17T19:00:00+00:00",
          "2024-03-17T20:00:00+00:00",
          "2024-03-17T21:00:00+00:00",
          "2024-03-17T22:00:00+00:00",
          "2024-03-17T23:00:00+00:00",
          "2024-03-18T00:00:00+00:00",
          "2024-03-18T01:00:00+00:00",
          "2024-03-18T02:00:00+00:00",
          "2024-03-18T03:00:00+00:00",
          "2024-03-18T04:00:00+00:00",
          "2024-03-18T05:00:00+00:00",
          "2024-03-18T06:00:00+00:00",
          "2024-03-18T07:00:00+00:00",
          "2024-03-18T08:00:00+00:00",
          "2024-03-18T09:00:00+00:00",
          "2024-03-18T10:00:00+00:00",
          "2024-03-18T11:00:00+00:00",
          "2024-03-18T12:00:00+00:00",
          "2024-03-18T13:00:00+00:00",
          "2024-03-18T14:00:00+00:00",
          "2024-03-18T15:00:00+00:00",
          "2024-03-18T16:00:00+00:00",
          "2024-03-18T17:00:00+00:00",
          "2024-03-18T18:00:00+00:00",
          "2024-03-18T19:00:00+00:00",
          "2024-03-18T20:00:00+00:00",
          "2024-03-18T21:00:00+00:00",
          "2024-03-18T22:00:00+00:00",
          "2024-03-18T23:00:00+00:00",
          "2024-03-19T00:00:00+00:00",
          "2024-03-19T01:00:00+00:00",
          "2024-03-19T02:00:00+00:00",
          "2024-03-19T03:00:00+00:00",
          "2024-03-19T04:00:00+00:00",
          "2024-03-19T05:00:00+00:00",
          "2024-03-19T06:00:00+00:00",
          "2024-03-19T07:00:00+00:00",
          "2024-03-19T08:00:00+00:00",
          "2024-03-19T09:00:00+00:00",
          "2024-03-19T10:00:00+00:00",
          "2024-03-19T11:00:00+00:00",
          "2024-03-19T12:00:00+00:00",
          "2024-03-19T13:00:00+00:00",
          "2024-03-19T14:00:00+00:00",
          "2024-03-19T15:00:00+00:00",
          "2024-03-19T16:00:00+00:00",
          "2024-03-19T17:00:00+00:00",
          "2024-03-19T18:00:00+00:00",
          "2024-03-19T19:00:00+00:00",
          "2024-03-19T20:00:00+00:00",
          "2024-03-19T21:00:00+00:00",
          "2024-03-19T22:00:00+00:00",
          "2024-03-19T23:00:00+00:00",
          "2024-03-20T00:00:00+00:00",
          "2024-03-20T01:00:00+00:00",
          "2024-03-20T02:00:00+00:00",
          "2024-03-20T03:00:00+00:00",
          "2024-03-20T04:00:00+00:00",
          "2024-03-20T06:00:00+00:00",
          "2024-03-20T07:00:00+00:00",
          "2024-03-20T08:00:00+00:00",
          "2024-03-20T09:00:00+00:00",
          "2024-03-20T10:00:00+00:00",
          "2024-03-20T11:00:00+00:00",
          "2024-03-20T12:00:00+00:00",
          "2024-03-20T13:00:00+00:00",
          "2024-03-20T14:00:00+00:00",
          "2024-03-20T15:00:00+00:00",
          "2024-03-20T17:00:00+00:00",
          "2024-03-20T18:00:00+00:00",
          "2024-03-20T20:00:00+00:00",
          "2024-03-20T21:00:00+00:00",
          "2024-03-20T22:00:00+00:00",
          "2024-03-21T04:00:00+00:00",
          "2024-03-21T05:00:00+00:00",
          "2024-03-21T07:00:00+00:00",
          "2024-03-21T08:00:00+00:00",
          "2024-03-21T09:00:00+00:00",
          "2024-03-21T10:00:00+00:00",
          "2024-03-21T11:00:00+00:00",
          "2024-03-21T12:00:00+00:00",
          "2024-03-21T13:00:00+00:00",
          "2024-03-21T14:00:00+00:00",
          "2024-03-21T15:00:00+00:00",
          "2024-03-21T16:00:00+00:00",
          "2024-03-21T17:00:00+00:00",
          "2024-03-21T18:00:00+00:00",
          "2024-03-21T19:00:00+00:00",
          "2024-03-21T20:00:00+00:00",
          "2024-03-21T21:00:00+00:00",
          "2024-03-21T22:00:00+00:00",
          "2024-03-21T23:00:00+00:00",
          "2024-03-22T00:00:00+00:00",
          "2024-03-22T01:00:00+00:00",
          "2024-03-22T02:00:00+00:00",
          "2024-03-22T03:00:00+00:00",
          "2024-03-22T04:00:00+00:00",
          "2024-03-22T05:00:00+00:00",
          "2024-03-22T06:00:00+00:00",
          "2024-03-22T07:00:00+00:00",
          "2024-03-22T08:00:00+00:00",
          "2024-03-22T09:00:00+00:00",
          "2024-03-22T10:00:00+00:00",
          "2024-03-22T11:00:00+00:00",
          "2024-03-22T12:00:00+00:00",
          "2024-03-22T13:00:00+00:00",
          "2024-03-22T14:00:00+00:00",
          "2024-03-22T15:00:00+00:00",
          "2024-03-22T16:00:00+00:00",
          "2024-03-22T17:00:00+00:00",
          "2024-03-22T18:00:00+00:00",
          "2024-03-22T19:00:00+00:00",
          "2024-03-22T20:00:00+00:00",
          "2024-03-22T21:00:00+00:00",
          "2024-03-22T22:00:00+00:00",
          "2024-03-22T23:00:00+00:00",
          "2024-03-23T00:00:00+00:00",
          "2024-03-23T01:00:00+00:00",
          "2024-03-23T02:00:00+00:00",
          "2024-03-23T03:00:00+00:00",
          "2024-03-23T04:00:00+00:00",
          "2024-03-23T05:00:00+00:00",
          "2024-03-23T06:00:00+00:00",
          "2024-03-23T07:00:00+00:00",
          "2024-03-23T08:00:00+00:00",
          "2024-03-23T09:00:00+00:00",
          "2024-03-23T10:00:00+00:00",
          "2024-03-23T11:00:00+00:00",
          "2024-03-23T12:00:00+00:00",
          "2024-03-23T13:00:00+00:00",
          "2024-03-23T14:00:00+00:00",
          "2024-03-23T15:00:00+00:00",
          "2024-03-23T16:00:00+00:00",
          "2024-03-23T17:00:00+00:00",
          "2024-03-23T18:00:00+00:00",
          "2024-03-23T19:00:00+00:00",
          "2024-03-23T20:00:00+00:00",
          "2024-03-23T21:00:00+00:00",
          "2024-03-23T22:00:00+00:00",
          "2024-03-23T23:00:00+00:00",
          "2024-03-24T00:00:00+00:00",
          "2024-03-24T01:00:00+00:00",
          "2024-03-24T02:00:00+00:00",
          "2024-03-24T03:00:00+00:00",
          "2024-03-24T04:00:00+00:00",
          "2024-03-24T05:00:00+00:00",
          "2024-03-24T06:00:00+00:00",
          "2024-03-24T07:00:00+00:00",
          "2024-03-24T08:00:00+00:00",
          "2024-03-24T09:00:00+00:00",
          "2024-03-24T10:00:00+00:00",
          "2024-03-24T11:00:00+00:00",
          "2024-03-24T12:00:00+00:00",
          "2024-03-24T13:00:00+00:00",
          "2024-03-24T14:00:00+00:00",
          "2024-03-24T15:00:00+00:00",
          "2024-03-24T16:00:00+00:00",
          "2024-03-24T17:00:00+00:00",
          "2024-03-24T18:00:00+00:00",
          "2024-03-24T19:00:00+00:00",
          "2024-03-24T20:00:00+00:00",
          "2024-03-24T21:00:00+00:00",
          "2024-03-24T22:00:00+00:00",
          "2024-03-24T23:00:00+00:00",
          "2024-03-25T00:00:00+00:00",
          "2024-03-25T01:00:00+00:00",
          "2024-03-25T02:00:00+00:00",
          "2024-03-25T03:00:00+00:00",
          "2024-03-25T04:00:00+00:00",
          "2024-03-25T05:00:00+00:00",
          "2024-03-25T06:00:00+00:00",
          "2024-03-25T07:00:00+00:00",
          "2024-03-25T08:00:00+00:00",
          "2024-03-25T09:00:00+00:00",
          "2024-03-25T10:00:00+00:00",
          "2024-03-25T11:00:00+00:00",
          "2024-03-25T12:00:00+00:00",
          "2024-03-25T13:00:00+00:00",
          "2024-03-25T14:00:00+00:00",
          "2024-03-25T15:00:00+00:00",
          "2024-03-25T16:00:00+00:00",
          "2024-03-25T17:00:00+00:00",
          "2024-03-25T18:00:00+00:00",
          "2024-03-25T19:00:00+00:00",
          "2024-03-25T20:00:00+00:00",
          "2024-03-25T21:00:00+00:00",
          "2024-03-25T22:00:00+00:00",
          "2024-03-25T23:00:00+00:00",
          "2024-03-26T00:00:00+00:00",
          "2024-03-26T01:00:00+00:00",
          "2024-03-26T02:00:00+00:00",
          "2024-03-26T03:00:00+00:00",
          "2024-03-26T04:00:00+00:00",
          "2024-03-26T05:00:00+00:00",
          "2024-03-26T06:00:00+00:00",
          "2024-03-26T07:00:00+00:00",
          "2024-03-26T08:00:00+00:00",
          "2024-03-26T09:00:00+00:00",
          "2024-03-26T10:00:00+00:00",
          "2024-03-26T11:00:00+00:00",
          "2024-03-26T12:00:00+00:00",
          "2024-03-26T13:00:00+00:00",
          "2024-03-26T14:00:00+00:00",
          "2024-03-26T15:00:00+00:00",
          "2024-03-26T16:00:00+00:00",
          "2024-03-26T17:00:00+00:00",
          "2024-03-26T18:00:00+00:00",
          "2024-03-26T19:00:00+00:00",
          "2024-03-26T20:00:00+00:00",
          "2024-03-26T21:00:00+00:00",
          "2024-03-26T22:00:00+00:00",
          "2024-03-26T23:00:00+00:00",
          "2024-03-27T00:00:00+00:00",
          "2024-03-27T01:00:00+00:00",
          "2024-03-27T02:00:00+00:00",
          "2024-03-27T03:00:00+00:00",
          "2024-03-27T04:00:00+00:00",
          "2024-03-27T05:00:00+00:00",
          "2024-03-27T06:00:00+00:00",
          "2024-03-27T07:00:00+00:00",
          "2024-03-27T08:00:00+00:00",
          "2024-03-27T09:00:00+00:00",
          "2024-03-27T10:00:00+00:00",
          "2024-03-27T11:00:00+00:00",
          "2024-03-27T12:00:00+00:00",
          "2024-03-27T13:00:00+00:00",
          "2024-03-27T14:00:00+00:00",
          "2024-03-27T15:00:00+00:00",
          "2024-03-27T16:00:00+00:00",
          "2024-03-27T17:00:00+00:00",
          "2024-03-27T18:00:00+00:00",
          "2024-03-27T19:00:00+00:00",
          "2024-03-27T20:00:00+00:00",
          "2024-03-27T21:00:00+00:00",
          "2024-03-27T22:00:00+00:00",
          "2024-03-27T23:00:00+00:00",
          "2024-03-28T00:00:00+00:00",
          "2024-03-28T01:00:00+00:00",
          "2024-03-28T02:00:00+00:00",
          "2024-03-28T03:00:00+00:00",
          "2024-03-28T04:00:00+00:00",
          "2024-03-28T05:00:00+00:00",
          "2024-03-28T06:00:00+00:00",
          "2024-03-28T07:00:00+00:00",
          "2024-03-28T08:00:00+00:00",
          "2024-03-28T09:00:00+00:00",
          "2024-03-28T10:00:00+00:00",
          "2024-03-28T11:00:00+00:00",
          "2024-03-28T12:00:00+00:00",
          "2024-03-28T13:00:00+00:00",
          "2024-03-28T14:00:00+00:00",
          "2024-03-28T15:00:00+00:00",
          "2024-03-28T16:00:00+00:00",
          "2024-03-28T17:00:00+00:00",
          "2024-03-28T18:00:00+00:00",
          "2024-03-28T19:00:00+00:00",
          "2024-03-28T20:00:00+00:00",
          "2024-03-28T21:00:00+00:00",
          "2024-03-28T22:00:00+00:00",
          "2024-03-28T23:00:00+00:00",
          "2024-03-29T00:00:00+00:00",
          "2024-03-29T01:00:00+00:00",
          "2024-03-29T02:00:00+00:00",
          "2024-03-29T03:00:00+00:00",
          "2024-03-29T04:00:00+00:00",
          "2024-03-29T05:00:00+00:00",
          "2024-03-29T06:00:00+00:00",
          "2024-03-29T07:00:00+00:00",
          "2024-03-29T08:00:00+00:00",
          "2024-03-29T09:00:00+00:00",
          "2024-03-29T10:00:00+00:00",
          "2024-03-29T11:00:00+00:00",
          "2024-03-29T12:00:00+00:00",
          "2024-03-29T13:00:00+00:00",
          "2024-03-29T14:00:00+00:00",
          "2024-03-29T15:00:00+00:00",
          "2024-03-29T16:00:00+00:00",
          "2024-03-29T17:00:00+00:00",
          "2024-03-29T18:00:00+00:00",
          "2024-03-29T19:00:00+00:00",
          "2024-03-29T20:00:00+00:00",
          "2024-03-29T21:00:00+00:00",
          "2024-03-29T22:00:00+00:00",
          "2024-03-29T23:00:00+00:00",
          "2024-03-30T00:00:00+00:00",
          "2024-03-30T01:00:00+00:00",
          "2024-03-30T02:00:00+00:00",
          "2024-03-30T03:00:00+00:00",
          "2024-03-30T04:00:00+00:00",
          "2024-03-30T05:00:00+00:00",
          "2024-03-30T06:00:00+00:00",
          "2024-03-30T07:00:00+00:00",
          "2024-03-30T08:00:00+00:00",
          "2024-03-30T09:00:00+00:00",
          "2024-03-30T10:00:00+00:00",
          "2024-03-30T11:00:00+00:00",
          "2024-03-30T12:00:00+00:00",
          "2024-03-30T13:00:00+00:00",
          "2024-03-30T14:00:00+00:00",
          "2024-03-30T15:00:00+00:00",
          "2024-03-30T16:00:00+00:00",
          "2024-03-30T17:00:00+00:00",
          "2024-03-30T18:00:00+00:00",
          "2024-03-30T19:00:00+00:00",
          "2024-03-30T20:00:00+00:00",
          "2024-03-30T21:00:00+00:00",
          "2024-03-30T22:00:00+00:00",
          "2024-03-30T23:00:00+00:00",
          "2024-03-31T00:00:00+00:00"
         ],
         "xaxis": "x",
         "y": [
          64,
          120,
          100,
          100,
          94,
          93,
          93,
          130,
          86,
          47,
          54,
          19,
          22,
          21,
          16,
          20,
          26,
          41,
          82,
          82,
          89,
          120,
          140,
          100,
          33,
          30,
          31,
          33,
          33,
          43,
          50,
          56,
          52,
          48,
          39,
          41,
          37,
          42,
          36,
          38,
          47,
          57,
          56,
          71,
          66,
          68,
          84,
          58,
          40,
          35,
          29,
          27,
          23,
          24,
          23,
          20,
          16,
          16,
          19,
          24,
          24,
          27,
          30,
          31,
          30,
          44,
          44,
          39,
          40,
          36,
          38,
          39,
          28,
          34,
          18,
          23,
          51,
          26,
          33,
          29,
          30,
          49,
          34,
          35,
          41,
          47,
          31,
          36,
          41,
          59,
          59,
          48,
          31,
          32,
          29,
          22,
          19,
          27,
          33,
          40,
          36,
          61,
          65,
          34,
          37,
          29,
          35,
          35,
          59,
          56,
          58,
          71,
          78,
          89,
          95,
          120,
          91,
          150,
          130,
          53,
          41,
          50,
          45,
          40,
          47,
          23,
          25,
          22,
          18,
          22,
          23,
          23,
          24,
          21,
          19,
          28,
          24,
          23,
          28,
          23,
          30,
          24,
          42,
          28,
          21,
          21,
          18,
          15,
          17,
          18,
          19,
          17,
          14,
          23,
          21,
          27,
          20,
          24,
          20,
          30,
          39,
          40,
          38,
          44,
          58,
          31,
          20,
          26,
          20,
          18,
          18,
          23,
          15,
          20,
          23,
          31,
          15,
          18,
          13,
          16,
          27,
          28,
          22,
          25,
          23,
          24,
          30,
          38,
          46,
          27,
          32,
          17,
          18,
          24,
          14,
          10,
          13,
          11,
          16,
          17,
          20,
          23,
          27,
          33,
          33,
          39,
          31,
          32,
          40,
          55,
          20,
          17,
          15,
          17,
          23,
          38,
          49,
          46,
          47,
          55,
          58,
          56,
          40,
          30,
          27,
          20,
          22,
          26,
          32,
          27,
          26,
          29,
          28,
          37,
          25,
          25,
          25,
          34,
          62,
          66,
          74,
          55,
          68,
          55,
          27,
          15,
          10,
          23,
          11,
          8,
          13,
          16,
          13,
          27,
          28,
          16,
          18,
          17,
          10,
          13,
          12,
          12,
          12,
          16,
          18,
          22,
          26,
          38,
          62,
          66,
          47,
          50,
          53,
          44,
          34,
          37,
          40,
          42,
          40,
          41,
          51,
          62,
          77,
          55,
          43,
          94,
          55,
          68,
          78,
          83,
          120,
          130,
          140,
          140,
          79,
          41,
          26,
          44,
          54,
          41,
          51,
          43,
          43,
          53,
          70,
          76,
          54,
          54,
          41,
          25,
          24,
          17,
          21,
          20,
          35,
          39,
          34,
          30,
          34,
          26,
          34,
          25,
          28,
          20,
          20,
          23,
          27,
          36,
          40,
          26,
          22,
          26,
          13,
          17,
          18,
          22,
          32,
          38,
          36,
          34,
          29,
          22,
          18,
          22,
          16,
          19,
          20,
          25,
          30,
          28,
          31,
          33,
          23,
          25,
          13,
          18,
          18,
          13,
          11,
          8,
          11,
          11,
          17,
          21,
          12,
          13,
          11,
          22,
          26,
          29,
          32,
          34,
          43,
          34,
          39,
          29,
          17,
          18,
          15,
          27,
          27,
          20,
          14,
          14,
          10,
          11,
          18,
          19,
          20,
          18,
          21,
          20,
          24,
          25,
          34,
          24,
          19,
          17,
          20,
          27,
          27,
          20,
          21,
          18,
          34,
          26,
          24,
          31,
          26,
          27,
          24,
          28,
          18,
          20,
          26,
          20,
          30,
          29,
          30,
          23,
          22,
          18,
          16,
          17,
          17,
          15,
          19,
          14,
          18,
          14,
          13,
          13,
          13,
          19,
          21,
          27,
          26,
          15,
          14,
          10,
          15,
          19,
          17,
          17,
          27,
          26,
          29,
          30,
          33,
          23,
          30,
          81,
          110,
          90,
          150,
          120,
          88,
          90,
          73,
          50,
          31,
          12,
          17,
          12,
          10,
          12,
          15,
          24,
          46,
          91,
          100,
          140,
          170,
          91,
          52,
          49,
          18,
          26,
          26,
          24,
          39,
          30,
          26,
          21,
          15,
          18,
          23,
          22,
          27,
          34,
          39,
          27,
          37,
          35,
          26,
          21,
          24,
          35,
          15,
          16,
          16,
          22,
          23,
          24,
          23,
          23,
          27,
          24,
          27,
          29,
          20,
          26,
          35,
          29,
          18,
          17,
          17,
          21,
          16,
          54,
          52,
          51,
          14,
          20,
          21,
          26,
          26,
          30,
          36,
          31,
          36,
          34,
          32,
          31,
          16,
          36,
          23,
          18,
          15,
          10,
          22,
          70,
          55,
          34,
          52,
          55,
          50,
          34,
          29,
          29,
          25,
          29,
          19,
          15,
          24,
          26,
          19,
          17,
          20,
          27,
          34,
          43,
          48,
          52,
          57,
          40,
          44,
          35,
          23,
          28,
          26,
          32,
          22,
          17,
          16,
          17,
          19,
          13,
          14,
          16,
          19,
          25,
          27,
          37,
          49,
          120,
          120,
          140,
          120,
          100,
          120,
          110,
          150,
          160,
          93,
          46,
          40,
          27,
          22,
          45,
          22,
          21,
          22,
          30,
          44,
          53,
          69,
          80,
          100,
          71,
          73,
          85,
          82,
          99,
          91,
          85,
          110,
          180,
          140,
          69,
          70,
          53,
          52,
          44,
          23,
          30,
          65,
          35,
          51,
          58,
          70,
          130,
          91,
          86,
          140,
          160,
          130,
          140,
          140,
          140,
          150,
          180,
          120,
          170,
          190,
          150,
          65,
          65,
          27,
          31,
          35,
          36,
          44,
          51,
          100,
          71,
          89,
          91,
          78,
          98,
          73,
          56,
          72,
          73,
          63,
          56,
          52,
          50,
          48,
          48,
          53,
          48,
          49,
          43,
          45,
          47,
          39,
          43,
          40,
          45,
          45,
          43,
          50,
          54,
          53,
          44,
          42,
          43,
          38,
          42,
          45,
          48,
          43,
          44,
          39,
          36,
          45,
          38,
          42,
          39,
          45,
          43,
          63,
          61,
          54,
          55,
          62
         ],
         "yaxis": "y"
        },
        {
         "hovertemplate": "Month=April<br>Date=%{x}<br>PM2.5 Value=%{y}<extra></extra>",
         "legendgroup": "April",
         "line": {
          "color": "#EF553B",
          "dash": "solid"
         },
         "marker": {
          "symbol": "circle"
         },
         "mode": "lines",
         "name": "April",
         "showlegend": true,
         "type": "scattergl",
         "x": [
          "2024-04-01T01:00:00+00:00",
          "2024-04-01T02:00:00+00:00",
          "2024-04-01T03:00:00+00:00",
          "2024-04-01T04:00:00+00:00",
          "2024-04-01T05:00:00+00:00",
          "2024-04-01T06:00:00+00:00",
          "2024-04-01T07:00:00+00:00",
          "2024-04-01T08:00:00+00:00",
          "2024-04-01T09:00:00+00:00",
          "2024-04-01T10:00:00+00:00",
          "2024-04-01T11:00:00+00:00",
          "2024-04-01T12:00:00+00:00",
          "2024-04-01T13:00:00+00:00",
          "2024-04-01T14:00:00+00:00",
          "2024-04-01T15:00:00+00:00",
          "2024-04-01T16:00:00+00:00",
          "2024-04-01T17:00:00+00:00",
          "2024-04-01T18:00:00+00:00",
          "2024-04-01T19:00:00+00:00",
          "2024-04-01T20:00:00+00:00",
          "2024-04-01T21:00:00+00:00",
          "2024-04-01T22:00:00+00:00",
          "2024-04-01T23:00:00+00:00",
          "2024-04-02T00:00:00+00:00",
          "2024-04-02T01:00:00+00:00",
          "2024-04-02T02:00:00+00:00",
          "2024-04-02T03:00:00+00:00",
          "2024-04-02T04:00:00+00:00",
          "2024-04-02T05:00:00+00:00",
          "2024-04-02T06:00:00+00:00",
          "2024-04-02T07:00:00+00:00",
          "2024-04-02T08:00:00+00:00",
          "2024-04-02T09:00:00+00:00",
          "2024-04-02T10:00:00+00:00",
          "2024-04-02T11:00:00+00:00",
          "2024-04-02T12:00:00+00:00",
          "2024-04-02T13:00:00+00:00",
          "2024-04-02T14:00:00+00:00",
          "2024-04-02T15:00:00+00:00",
          "2024-04-02T16:00:00+00:00",
          "2024-04-02T17:00:00+00:00",
          "2024-04-02T18:00:00+00:00",
          "2024-04-02T19:00:00+00:00",
          "2024-04-02T20:00:00+00:00",
          "2024-04-02T21:00:00+00:00",
          "2024-04-02T22:00:00+00:00",
          "2024-04-02T23:00:00+00:00",
          "2024-04-03T00:00:00+00:00",
          "2024-04-03T01:00:00+00:00",
          "2024-04-03T02:00:00+00:00",
          "2024-04-03T03:00:00+00:00",
          "2024-04-03T04:00:00+00:00",
          "2024-04-03T05:00:00+00:00",
          "2024-04-03T06:00:00+00:00",
          "2024-04-03T07:00:00+00:00",
          "2024-04-03T08:00:00+00:00",
          "2024-04-03T09:00:00+00:00",
          "2024-04-03T10:00:00+00:00",
          "2024-04-03T11:00:00+00:00",
          "2024-04-03T12:00:00+00:00",
          "2024-04-03T13:00:00+00:00",
          "2024-04-03T14:00:00+00:00",
          "2024-04-03T15:00:00+00:00",
          "2024-04-03T16:00:00+00:00",
          "2024-04-03T17:00:00+00:00",
          "2024-04-03T18:00:00+00:00",
          "2024-04-03T19:00:00+00:00",
          "2024-04-03T20:00:00+00:00",
          "2024-04-03T21:00:00+00:00",
          "2024-04-03T22:00:00+00:00",
          "2024-04-03T23:00:00+00:00",
          "2024-04-04T00:00:00+00:00",
          "2024-04-04T01:00:00+00:00",
          "2024-04-04T02:00:00+00:00",
          "2024-04-04T03:00:00+00:00",
          "2024-04-04T04:00:00+00:00",
          "2024-04-04T05:00:00+00:00",
          "2024-04-04T06:00:00+00:00",
          "2024-04-04T07:00:00+00:00",
          "2024-04-04T08:00:00+00:00",
          "2024-04-04T09:00:00+00:00",
          "2024-04-04T10:00:00+00:00",
          "2024-04-04T11:00:00+00:00",
          "2024-04-04T12:00:00+00:00",
          "2024-04-04T13:00:00+00:00",
          "2024-04-04T14:00:00+00:00",
          "2024-04-04T15:00:00+00:00",
          "2024-04-04T16:00:00+00:00",
          "2024-04-04T17:00:00+00:00",
          "2024-04-04T18:00:00+00:00",
          "2024-04-04T19:00:00+00:00",
          "2024-04-04T20:00:00+00:00",
          "2024-04-04T21:00:00+00:00",
          "2024-04-04T22:00:00+00:00",
          "2024-04-04T23:00:00+00:00",
          "2024-04-05T00:00:00+00:00",
          "2024-04-05T01:00:00+00:00",
          "2024-04-05T02:00:00+00:00",
          "2024-04-05T03:00:00+00:00",
          "2024-04-05T04:00:00+00:00",
          "2024-04-05T05:00:00+00:00",
          "2024-04-05T06:00:00+00:00",
          "2024-04-05T07:00:00+00:00",
          "2024-04-05T08:00:00+00:00",
          "2024-04-05T09:00:00+00:00",
          "2024-04-05T10:00:00+00:00",
          "2024-04-05T11:00:00+00:00",
          "2024-04-05T12:00:00+00:00",
          "2024-04-05T13:00:00+00:00",
          "2024-04-05T14:00:00+00:00",
          "2024-04-05T15:00:00+00:00",
          "2024-04-05T16:00:00+00:00",
          "2024-04-05T17:00:00+00:00",
          "2024-04-05T18:00:00+00:00",
          "2024-04-05T19:00:00+00:00",
          "2024-04-05T20:00:00+00:00",
          "2024-04-05T21:00:00+00:00",
          "2024-04-05T22:00:00+00:00",
          "2024-04-05T23:00:00+00:00",
          "2024-04-06T00:00:00+00:00",
          "2024-04-06T01:00:00+00:00",
          "2024-04-06T02:00:00+00:00",
          "2024-04-06T03:00:00+00:00",
          "2024-04-06T04:00:00+00:00",
          "2024-04-06T05:00:00+00:00",
          "2024-04-06T06:00:00+00:00",
          "2024-04-06T07:00:00+00:00",
          "2024-04-06T08:00:00+00:00",
          "2024-04-06T09:00:00+00:00",
          "2024-04-06T10:00:00+00:00",
          "2024-04-06T11:00:00+00:00",
          "2024-04-06T12:00:00+00:00",
          "2024-04-06T13:00:00+00:00",
          "2024-04-06T14:00:00+00:00",
          "2024-04-06T15:00:00+00:00",
          "2024-04-06T16:00:00+00:00",
          "2024-04-06T17:00:00+00:00",
          "2024-04-06T18:00:00+00:00",
          "2024-04-06T19:00:00+00:00",
          "2024-04-06T20:00:00+00:00",
          "2024-04-06T21:00:00+00:00",
          "2024-04-06T22:00:00+00:00",
          "2024-04-06T23:00:00+00:00",
          "2024-04-07T00:00:00+00:00",
          "2024-04-07T01:00:00+00:00",
          "2024-04-07T02:00:00+00:00",
          "2024-04-07T03:00:00+00:00",
          "2024-04-07T04:00:00+00:00",
          "2024-04-07T05:00:00+00:00",
          "2024-04-07T06:00:00+00:00",
          "2024-04-07T07:00:00+00:00",
          "2024-04-07T08:00:00+00:00",
          "2024-04-07T09:00:00+00:00",
          "2024-04-07T10:00:00+00:00",
          "2024-04-07T11:00:00+00:00",
          "2024-04-07T12:00:00+00:00",
          "2024-04-07T13:00:00+00:00",
          "2024-04-07T14:00:00+00:00",
          "2024-04-07T15:00:00+00:00",
          "2024-04-07T16:00:00+00:00",
          "2024-04-07T17:00:00+00:00",
          "2024-04-07T18:00:00+00:00",
          "2024-04-07T19:00:00+00:00",
          "2024-04-07T20:00:00+00:00",
          "2024-04-07T21:00:00+00:00",
          "2024-04-07T22:00:00+00:00",
          "2024-04-07T23:00:00+00:00",
          "2024-04-08T00:00:00+00:00",
          "2024-04-08T01:00:00+00:00",
          "2024-04-08T02:00:00+00:00",
          "2024-04-08T03:00:00+00:00",
          "2024-04-08T04:00:00+00:00",
          "2024-04-08T05:00:00+00:00",
          "2024-04-08T06:00:00+00:00",
          "2024-04-08T07:00:00+00:00",
          "2024-04-08T08:00:00+00:00",
          "2024-04-08T09:00:00+00:00",
          "2024-04-08T10:00:00+00:00",
          "2024-04-08T11:00:00+00:00",
          "2024-04-08T12:00:00+00:00",
          "2024-04-08T13:00:00+00:00",
          "2024-04-08T14:00:00+00:00",
          "2024-04-08T15:00:00+00:00",
          "2024-04-08T16:00:00+00:00",
          "2024-04-08T17:00:00+00:00",
          "2024-04-08T18:00:00+00:00",
          "2024-04-08T19:00:00+00:00",
          "2024-04-08T20:00:00+00:00",
          "2024-04-08T21:00:00+00:00",
          "2024-04-08T22:00:00+00:00",
          "2024-04-08T23:00:00+00:00",
          "2024-04-09T00:00:00+00:00",
          "2024-04-09T01:00:00+00:00",
          "2024-04-09T02:00:00+00:00",
          "2024-04-09T03:00:00+00:00",
          "2024-04-09T04:00:00+00:00",
          "2024-04-09T05:00:00+00:00",
          "2024-04-09T06:00:00+00:00",
          "2024-04-09T07:00:00+00:00",
          "2024-04-09T08:00:00+00:00",
          "2024-04-09T09:00:00+00:00",
          "2024-04-09T10:00:00+00:00",
          "2024-04-09T11:00:00+00:00",
          "2024-04-09T12:00:00+00:00",
          "2024-04-09T13:00:00+00:00",
          "2024-04-09T14:00:00+00:00",
          "2024-04-09T15:00:00+00:00",
          "2024-04-09T16:00:00+00:00",
          "2024-04-09T17:00:00+00:00",
          "2024-04-09T18:00:00+00:00",
          "2024-04-09T19:00:00+00:00",
          "2024-04-09T20:00:00+00:00",
          "2024-04-09T21:00:00+00:00",
          "2024-04-09T22:00:00+00:00",
          "2024-04-09T23:00:00+00:00",
          "2024-04-10T00:00:00+00:00",
          "2024-04-10T01:00:00+00:00",
          "2024-04-10T02:00:00+00:00",
          "2024-04-10T03:00:00+00:00",
          "2024-04-10T04:00:00+00:00",
          "2024-04-10T05:00:00+00:00",
          "2024-04-10T06:00:00+00:00",
          "2024-04-10T07:00:00+00:00",
          "2024-04-10T08:00:00+00:00",
          "2024-04-10T09:00:00+00:00",
          "2024-04-10T10:00:00+00:00",
          "2024-04-10T11:00:00+00:00",
          "2024-04-10T12:00:00+00:00",
          "2024-04-10T13:00:00+00:00",
          "2024-04-10T14:00:00+00:00",
          "2024-04-10T15:00:00+00:00",
          "2024-04-10T16:00:00+00:00",
          "2024-04-10T17:00:00+00:00",
          "2024-04-10T18:00:00+00:00",
          "2024-04-10T19:00:00+00:00",
          "2024-04-10T20:00:00+00:00",
          "2024-04-10T21:00:00+00:00",
          "2024-04-10T22:00:00+00:00",
          "2024-04-10T23:00:00+00:00",
          "2024-04-11T00:00:00+00:00",
          "2024-04-11T01:00:00+00:00",
          "2024-04-11T02:00:00+00:00",
          "2024-04-11T03:00:00+00:00",
          "2024-04-11T04:00:00+00:00",
          "2024-04-11T05:00:00+00:00",
          "2024-04-11T06:00:00+00:00",
          "2024-04-11T07:00:00+00:00",
          "2024-04-11T08:00:00+00:00",
          "2024-04-11T09:00:00+00:00",
          "2024-04-11T10:00:00+00:00",
          "2024-04-11T11:00:00+00:00",
          "2024-04-11T12:00:00+00:00",
          "2024-04-11T13:00:00+00:00",
          "2024-04-11T14:00:00+00:00",
          "2024-04-11T15:00:00+00:00",
          "2024-04-11T16:00:00+00:00",
          "2024-04-11T17:00:00+00:00",
          "2024-04-11T18:00:00+00:00",
          "2024-04-11T19:00:00+00:00",
          "2024-04-11T20:00:00+00:00",
          "2024-04-11T21:00:00+00:00",
          "2024-04-11T22:00:00+00:00",
          "2024-04-11T23:00:00+00:00",
          "2024-04-12T00:00:00+00:00",
          "2024-04-12T01:00:00+00:00",
          "2024-04-12T02:00:00+00:00",
          "2024-04-12T03:00:00+00:00",
          "2024-04-12T04:00:00+00:00",
          "2024-04-12T05:00:00+00:00",
          "2024-04-12T06:00:00+00:00",
          "2024-04-12T07:00:00+00:00",
          "2024-04-12T08:00:00+00:00",
          "2024-04-12T09:00:00+00:00",
          "2024-04-12T10:00:00+00:00",
          "2024-04-12T11:00:00+00:00",
          "2024-04-12T12:00:00+00:00",
          "2024-04-12T13:00:00+00:00",
          "2024-04-12T14:00:00+00:00",
          "2024-04-12T15:00:00+00:00",
          "2024-04-12T16:00:00+00:00",
          "2024-04-12T17:00:00+00:00",
          "2024-04-12T18:00:00+00:00",
          "2024-04-12T19:00:00+00:00",
          "2024-04-12T20:00:00+00:00",
          "2024-04-12T21:00:00+00:00",
          "2024-04-12T22:00:00+00:00",
          "2024-04-12T23:00:00+00:00",
          "2024-04-13T00:00:00+00:00",
          "2024-04-13T01:00:00+00:00",
          "2024-04-13T02:00:00+00:00",
          "2024-04-13T03:00:00+00:00",
          "2024-04-13T04:00:00+00:00",
          "2024-04-13T05:00:00+00:00",
          "2024-04-13T06:00:00+00:00",
          "2024-04-13T07:00:00+00:00",
          "2024-04-13T08:00:00+00:00",
          "2024-04-13T09:00:00+00:00",
          "2024-04-13T10:00:00+00:00",
          "2024-04-13T11:00:00+00:00",
          "2024-04-13T12:00:00+00:00",
          "2024-04-13T13:00:00+00:00",
          "2024-04-13T14:00:00+00:00",
          "2024-04-13T15:00:00+00:00",
          "2024-04-13T16:00:00+00:00",
          "2024-04-13T17:00:00+00:00",
          "2024-04-13T18:00:00+00:00",
          "2024-04-13T19:00:00+00:00",
          "2024-04-13T20:00:00+00:00",
          "2024-04-13T21:00:00+00:00",
          "2024-04-13T22:00:00+00:00",
          "2024-04-13T23:00:00+00:00",
          "2024-04-14T00:00:00+00:00",
          "2024-04-14T01:00:00+00:00",
          "2024-04-14T02:00:00+00:00",
          "2024-04-14T03:00:00+00:00",
          "2024-04-14T04:00:00+00:00",
          "2024-04-14T05:00:00+00:00",
          "2024-04-14T06:00:00+00:00",
          "2024-04-14T07:00:00+00:00",
          "2024-04-14T08:00:00+00:00",
          "2024-04-14T09:00:00+00:00",
          "2024-04-14T10:00:00+00:00",
          "2024-04-14T11:00:00+00:00",
          "2024-04-14T12:00:00+00:00",
          "2024-04-14T13:00:00+00:00",
          "2024-04-14T14:00:00+00:00",
          "2024-04-14T15:00:00+00:00",
          "2024-04-14T16:00:00+00:00",
          "2024-04-14T17:00:00+00:00",
          "2024-04-14T18:00:00+00:00",
          "2024-04-14T19:00:00+00:00",
          "2024-04-14T20:00:00+00:00",
          "2024-04-14T21:00:00+00:00",
          "2024-04-14T22:00:00+00:00",
          "2024-04-14T23:00:00+00:00",
          "2024-04-15T00:00:00+00:00",
          "2024-04-15T01:00:00+00:00",
          "2024-04-15T02:00:00+00:00",
          "2024-04-15T03:00:00+00:00",
          "2024-04-15T04:00:00+00:00",
          "2024-04-15T05:00:00+00:00",
          "2024-04-15T06:00:00+00:00",
          "2024-04-15T07:00:00+00:00",
          "2024-04-15T08:00:00+00:00",
          "2024-04-15T09:00:00+00:00",
          "2024-04-15T10:00:00+00:00",
          "2024-04-15T11:00:00+00:00",
          "2024-04-15T12:00:00+00:00",
          "2024-04-15T13:00:00+00:00",
          "2024-04-15T14:00:00+00:00",
          "2024-04-15T15:00:00+00:00",
          "2024-04-15T16:00:00+00:00",
          "2024-04-15T17:00:00+00:00",
          "2024-04-15T18:00:00+00:00",
          "2024-04-15T19:00:00+00:00",
          "2024-04-15T20:00:00+00:00",
          "2024-04-15T21:00:00+00:00",
          "2024-04-15T22:00:00+00:00",
          "2024-04-15T23:00:00+00:00",
          "2024-04-16T00:00:00+00:00",
          "2024-04-16T01:00:00+00:00",
          "2024-04-16T02:00:00+00:00",
          "2024-04-16T03:00:00+00:00",
          "2024-04-16T04:00:00+00:00",
          "2024-04-16T05:00:00+00:00",
          "2024-04-16T06:00:00+00:00",
          "2024-04-16T07:00:00+00:00",
          "2024-04-16T08:00:00+00:00",
          "2024-04-16T09:00:00+00:00",
          "2024-04-16T10:00:00+00:00",
          "2024-04-16T11:00:00+00:00",
          "2024-04-16T12:00:00+00:00",
          "2024-04-16T13:00:00+00:00",
          "2024-04-16T14:00:00+00:00",
          "2024-04-16T15:00:00+00:00",
          "2024-04-16T16:00:00+00:00",
          "2024-04-16T17:00:00+00:00",
          "2024-04-16T18:00:00+00:00",
          "2024-04-16T19:00:00+00:00",
          "2024-04-16T20:00:00+00:00",
          "2024-04-16T21:00:00+00:00",
          "2024-04-16T22:00:00+00:00",
          "2024-04-16T23:00:00+00:00",
          "2024-04-17T00:00:00+00:00",
          "2024-04-17T01:00:00+00:00",
          "2024-04-17T02:00:00+00:00",
          "2024-04-17T03:00:00+00:00",
          "2024-04-17T04:00:00+00:00",
          "2024-04-17T05:00:00+00:00",
          "2024-04-17T06:00:00+00:00",
          "2024-04-17T07:00:00+00:00",
          "2024-04-17T08:00:00+00:00",
          "2024-04-17T09:00:00+00:00",
          "2024-04-17T10:00:00+00:00",
          "2024-04-17T11:00:00+00:00",
          "2024-04-17T12:00:00+00:00",
          "2024-04-17T13:00:00+00:00",
          "2024-04-17T14:00:00+00:00",
          "2024-04-17T15:00:00+00:00",
          "2024-04-17T16:00:00+00:00",
          "2024-04-17T17:00:00+00:00",
          "2024-04-17T18:00:00+00:00",
          "2024-04-17T19:00:00+00:00",
          "2024-04-17T20:00:00+00:00",
          "2024-04-17T21:00:00+00:00",
          "2024-04-17T22:00:00+00:00",
          "2024-04-17T23:00:00+00:00",
          "2024-04-18T00:00:00+00:00",
          "2024-04-18T01:00:00+00:00",
          "2024-04-18T02:00:00+00:00",
          "2024-04-18T03:00:00+00:00",
          "2024-04-18T04:00:00+00:00",
          "2024-04-18T05:00:00+00:00",
          "2024-04-18T06:00:00+00:00",
          "2024-04-18T07:00:00+00:00",
          "2024-04-18T08:00:00+00:00",
          "2024-04-18T09:00:00+00:00",
          "2024-04-18T10:00:00+00:00",
          "2024-04-18T11:00:00+00:00",
          "2024-04-18T12:00:00+00:00",
          "2024-04-18T13:00:00+00:00",
          "2024-04-18T14:00:00+00:00",
          "2024-04-18T15:00:00+00:00",
          "2024-04-18T16:00:00+00:00",
          "2024-04-18T17:00:00+00:00",
          "2024-04-18T18:00:00+00:00",
          "2024-04-18T19:00:00+00:00",
          "2024-04-18T20:00:00+00:00",
          "2024-04-18T21:00:00+00:00",
          "2024-04-18T22:00:00+00:00",
          "2024-04-18T23:00:00+00:00",
          "2024-04-19T00:00:00+00:00",
          "2024-04-19T01:00:00+00:00",
          "2024-04-19T02:00:00+00:00",
          "2024-04-19T03:00:00+00:00",
          "2024-04-19T04:00:00+00:00",
          "2024-04-19T05:00:00+00:00",
          "2024-04-19T06:00:00+00:00",
          "2024-04-19T07:00:00+00:00",
          "2024-04-19T08:00:00+00:00",
          "2024-04-19T09:00:00+00:00",
          "2024-04-19T10:00:00+00:00",
          "2024-04-19T11:00:00+00:00",
          "2024-04-19T12:00:00+00:00",
          "2024-04-19T13:00:00+00:00",
          "2024-04-19T14:00:00+00:00",
          "2024-04-19T15:00:00+00:00",
          "2024-04-19T16:00:00+00:00",
          "2024-04-19T17:00:00+00:00",
          "2024-04-19T18:00:00+00:00",
          "2024-04-19T19:00:00+00:00",
          "2024-04-19T20:00:00+00:00",
          "2024-04-19T21:00:00+00:00",
          "2024-04-19T22:00:00+00:00",
          "2024-04-19T23:00:00+00:00",
          "2024-04-20T00:00:00+00:00",
          "2024-04-20T01:00:00+00:00",
          "2024-04-20T02:00:00+00:00",
          "2024-04-20T03:00:00+00:00",
          "2024-04-20T04:00:00+00:00",
          "2024-04-20T05:00:00+00:00",
          "2024-04-20T06:00:00+00:00",
          "2024-04-20T07:00:00+00:00",
          "2024-04-20T08:00:00+00:00",
          "2024-04-20T09:00:00+00:00",
          "2024-04-20T10:00:00+00:00",
          "2024-04-20T11:00:00+00:00",
          "2024-04-20T12:00:00+00:00",
          "2024-04-20T13:00:00+00:00",
          "2024-04-20T14:00:00+00:00",
          "2024-04-20T15:00:00+00:00",
          "2024-04-20T16:00:00+00:00",
          "2024-04-20T17:00:00+00:00",
          "2024-04-20T18:00:00+00:00",
          "2024-04-20T19:00:00+00:00",
          "2024-04-20T20:00:00+00:00",
          "2024-04-20T21:00:00+00:00",
          "2024-04-20T22:00:00+00:00",
          "2024-04-20T23:00:00+00:00",
          "2024-04-21T00:00:00+00:00",
          "2024-04-21T01:00:00+00:00",
          "2024-04-21T02:00:00+00:00",
          "2024-04-21T03:00:00+00:00",
          "2024-04-21T04:00:00+00:00",
          "2024-04-21T05:00:00+00:00",
          "2024-04-21T06:00:00+00:00",
          "2024-04-21T07:00:00+00:00",
          "2024-04-21T08:00:00+00:00",
          "2024-04-21T09:00:00+00:00",
          "2024-04-21T10:00:00+00:00",
          "2024-04-21T11:00:00+00:00",
          "2024-04-21T12:00:00+00:00",
          "2024-04-21T13:00:00+00:00",
          "2024-04-21T14:00:00+00:00",
          "2024-04-21T15:00:00+00:00",
          "2024-04-21T16:00:00+00:00",
          "2024-04-21T17:00:00+00:00",
          "2024-04-21T18:00:00+00:00",
          "2024-04-21T19:00:00+00:00",
          "2024-04-21T20:00:00+00:00",
          "2024-04-21T21:00:00+00:00",
          "2024-04-21T22:00:00+00:00",
          "2024-04-21T23:00:00+00:00",
          "2024-04-22T00:00:00+00:00",
          "2024-04-22T01:00:00+00:00",
          "2024-04-22T02:00:00+00:00",
          "2024-04-22T03:00:00+00:00",
          "2024-04-22T04:00:00+00:00",
          "2024-04-22T05:00:00+00:00",
          "2024-04-22T06:00:00+00:00",
          "2024-04-22T07:00:00+00:00",
          "2024-04-22T08:00:00+00:00",
          "2024-04-22T09:00:00+00:00",
          "2024-04-22T10:00:00+00:00",
          "2024-04-22T11:00:00+00:00",
          "2024-04-22T12:00:00+00:00",
          "2024-04-22T13:00:00+00:00",
          "2024-04-22T14:00:00+00:00",
          "2024-04-22T15:00:00+00:00",
          "2024-04-22T16:00:00+00:00",
          "2024-04-22T17:00:00+00:00",
          "2024-04-22T18:00:00+00:00",
          "2024-04-22T19:00:00+00:00",
          "2024-04-22T20:00:00+00:00",
          "2024-04-22T21:00:00+00:00",
          "2024-04-22T22:00:00+00:00",
          "2024-04-22T23:00:00+00:00",
          "2024-04-23T00:00:00+00:00",
          "2024-04-23T01:00:00+00:00",
          "2024-04-23T02:00:00+00:00",
          "2024-04-23T03:00:00+00:00",
          "2024-04-23T04:00:00+00:00",
          "2024-04-23T05:00:00+00:00",
          "2024-04-23T06:00:00+00:00",
          "2024-04-23T07:00:00+00:00",
          "2024-04-23T08:00:00+00:00",
          "2024-04-23T09:00:00+00:00",
          "2024-04-23T10:00:00+00:00",
          "2024-04-23T11:00:00+00:00",
          "2024-04-23T12:00:00+00:00",
          "2024-04-23T13:00:00+00:00",
          "2024-04-23T14:00:00+00:00",
          "2024-04-23T15:00:00+00:00",
          "2024-04-23T16:00:00+00:00",
          "2024-04-23T17:00:00+00:00",
          "2024-04-23T18:00:00+00:00",
          "2024-04-23T19:00:00+00:00",
          "2024-04-23T20:00:00+00:00",
          "2024-04-23T21:00:00+00:00",
          "2024-04-23T22:00:00+00:00",
          "2024-04-23T23:00:00+00:00",
          "2024-04-24T00:00:00+00:00",
          "2024-04-24T01:00:00+00:00",
          "2024-04-24T02:00:00+00:00",
          "2024-04-24T03:00:00+00:00",
          "2024-04-24T04:00:00+00:00",
          "2024-04-24T05:00:00+00:00",
          "2024-04-24T06:00:00+00:00",
          "2024-04-24T07:00:00+00:00",
          "2024-04-24T08:00:00+00:00",
          "2024-04-24T09:00:00+00:00",
          "2024-04-24T10:00:00+00:00",
          "2024-04-24T11:00:00+00:00",
          "2024-04-24T12:00:00+00:00",
          "2024-04-24T13:00:00+00:00",
          "2024-04-24T14:00:00+00:00",
          "2024-04-24T15:00:00+00:00",
          "2024-04-24T16:00:00+00:00",
          "2024-04-24T17:00:00+00:00",
          "2024-04-24T18:00:00+00:00",
          "2024-04-24T19:00:00+00:00",
          "2024-04-24T20:00:00+00:00",
          "2024-04-24T21:00:00+00:00",
          "2024-04-24T22:00:00+00:00",
          "2024-04-24T23:00:00+00:00",
          "2024-04-25T00:00:00+00:00",
          "2024-04-25T01:00:00+00:00",
          "2024-04-25T02:00:00+00:00",
          "2024-04-25T03:00:00+00:00",
          "2024-04-25T04:00:00+00:00",
          "2024-04-25T05:00:00+00:00",
          "2024-04-25T06:00:00+00:00",
          "2024-04-25T07:00:00+00:00",
          "2024-04-25T08:00:00+00:00",
          "2024-04-25T09:00:00+00:00",
          "2024-04-25T10:00:00+00:00",
          "2024-04-25T11:00:00+00:00",
          "2024-04-25T12:00:00+00:00",
          "2024-04-25T13:00:00+00:00",
          "2024-04-25T14:00:00+00:00",
          "2024-04-25T15:00:00+00:00",
          "2024-04-25T16:00:00+00:00",
          "2024-04-25T17:00:00+00:00",
          "2024-04-25T18:00:00+00:00",
          "2024-04-25T19:00:00+00:00",
          "2024-04-25T20:00:00+00:00",
          "2024-04-25T21:00:00+00:00",
          "2024-04-25T22:00:00+00:00",
          "2024-04-25T23:00:00+00:00",
          "2024-04-26T00:00:00+00:00",
          "2024-04-26T01:00:00+00:00",
          "2024-04-26T02:00:00+00:00",
          "2024-04-26T03:00:00+00:00",
          "2024-04-26T04:00:00+00:00",
          "2024-04-26T05:00:00+00:00",
          "2024-04-26T06:00:00+00:00",
          "2024-04-26T07:00:00+00:00",
          "2024-04-26T08:00:00+00:00",
          "2024-04-26T09:00:00+00:00",
          "2024-04-26T10:00:00+00:00",
          "2024-04-26T11:00:00+00:00",
          "2024-04-26T12:00:00+00:00",
          "2024-04-26T13:00:00+00:00",
          "2024-04-26T14:00:00+00:00",
          "2024-04-26T15:00:00+00:00",
          "2024-04-26T16:00:00+00:00",
          "2024-04-26T17:00:00+00:00",
          "2024-04-26T18:00:00+00:00",
          "2024-04-26T19:00:00+00:00",
          "2024-04-26T20:00:00+00:00",
          "2024-04-26T21:00:00+00:00",
          "2024-04-26T22:00:00+00:00",
          "2024-04-26T23:00:00+00:00",
          "2024-04-27T00:00:00+00:00",
          "2024-04-27T01:00:00+00:00",
          "2024-04-27T02:00:00+00:00",
          "2024-04-27T03:00:00+00:00",
          "2024-04-27T04:00:00+00:00",
          "2024-04-27T05:00:00+00:00",
          "2024-04-27T06:00:00+00:00",
          "2024-04-27T07:00:00+00:00",
          "2024-04-27T08:00:00+00:00",
          "2024-04-27T09:00:00+00:00",
          "2024-04-27T10:00:00+00:00",
          "2024-04-27T11:00:00+00:00",
          "2024-04-27T12:00:00+00:00",
          "2024-04-27T13:00:00+00:00",
          "2024-04-27T14:00:00+00:00",
          "2024-04-27T15:00:00+00:00",
          "2024-04-27T16:00:00+00:00",
          "2024-04-27T17:00:00+00:00",
          "2024-04-27T18:00:00+00:00",
          "2024-04-27T19:00:00+00:00",
          "2024-04-27T20:00:00+00:00",
          "2024-04-27T21:00:00+00:00",
          "2024-04-27T22:00:00+00:00",
          "2024-04-27T23:00:00+00:00",
          "2024-04-28T00:00:00+00:00",
          "2024-04-28T01:00:00+00:00",
          "2024-04-28T02:00:00+00:00",
          "2024-04-28T03:00:00+00:00",
          "2024-04-28T04:00:00+00:00",
          "2024-04-28T05:00:00+00:00",
          "2024-04-28T06:00:00+00:00",
          "2024-04-28T07:00:00+00:00",
          "2024-04-28T08:00:00+00:00",
          "2024-04-28T09:00:00+00:00",
          "2024-04-28T10:00:00+00:00",
          "2024-04-28T11:00:00+00:00",
          "2024-04-28T12:00:00+00:00",
          "2024-04-28T13:00:00+00:00",
          "2024-04-28T14:00:00+00:00",
          "2024-04-28T15:00:00+00:00",
          "2024-04-28T16:00:00+00:00",
          "2024-04-28T17:00:00+00:00",
          "2024-04-28T18:00:00+00:00",
          "2024-04-28T19:00:00+00:00",
          "2024-04-28T20:00:00+00:00",
          "2024-04-28T21:00:00+00:00",
          "2024-04-28T22:00:00+00:00",
          "2024-04-28T23:00:00+00:00",
          "2024-04-29T00:00:00+00:00",
          "2024-04-29T01:00:00+00:00",
          "2024-04-29T02:00:00+00:00",
          "2024-04-29T03:00:00+00:00",
          "2024-04-29T04:00:00+00:00",
          "2024-04-29T05:00:00+00:00",
          "2024-04-29T06:00:00+00:00",
          "2024-04-29T07:00:00+00:00",
          "2024-04-29T08:00:00+00:00",
          "2024-04-29T09:00:00+00:00",
          "2024-04-29T10:00:00+00:00",
          "2024-04-29T11:00:00+00:00",
          "2024-04-29T12:00:00+00:00",
          "2024-04-29T13:00:00+00:00",
          "2024-04-29T14:00:00+00:00",
          "2024-04-29T15:00:00+00:00",
          "2024-04-29T16:00:00+00:00",
          "2024-04-29T17:00:00+00:00",
          "2024-04-29T18:00:00+00:00",
          "2024-04-29T19:00:00+00:00",
          "2024-04-29T20:00:00+00:00",
          "2024-04-29T21:00:00+00:00",
          "2024-04-29T22:00:00+00:00",
          "2024-04-29T23:00:00+00:00",
          "2024-04-30T00:00:00+00:00"
         ],
         "xaxis": "x",
         "y": [
          55,
          48,
          56,
          40,
          59,
          78,
          76,
          81,
          49,
          45,
          59,
          51,
          46,
          38,
          37,
          38,
          40,
          48,
          48,
          52,
          50,
          57,
          61,
          51,
          57,
          52,
          50,
          49,
          62,
          65,
          54,
          65,
          54,
          49,
          48,
          38,
          43,
          37,
          38,
          38,
          42,
          37,
          38,
          40,
          56,
          64,
          59,
          53,
          71,
          67,
          56,
          62,
          70,
          74,
          80,
          79,
          64,
          71,
          58,
          46,
          51,
          45,
          46,
          37,
          42,
          46,
          59,
          69,
          51,
          57,
          64,
          37,
          35,
          79,
          71,
          56,
          56,
          64,
          75,
          86,
          110,
          120,
          97,
          66,
          52,
          50,
          47,
          43,
          53,
          62,
          80,
          74,
          78,
          91,
          81,
          100,
          75,
          65,
          57,
          63,
          58,
          62,
          76,
          72,
          80,
          62,
          38,
          34,
          51,
          46,
          36,
          24,
          26,
          31,
          30,
          25,
          26,
          20,
          22,
          31,
          22,
          25,
          43,
          21,
          25,
          29,
          32,
          22,
          36,
          38,
          35,
          32,
          30,
          23,
          21,
          24,
          27,
          28,
          27,
          22,
          23,
          22,
          24,
          24,
          25,
          25,
          20,
          28,
          20,
          18,
          25,
          21,
          21,
          26,
          24,
          30,
          27,
          26,
          26,
          26,
          27,
          27,
          23,
          28,
          30,
          24,
          18,
          14,
          15,
          24,
          20,
          15,
          17,
          19,
          22,
          26,
          26,
          18,
          16,
          15,
          21,
          50,
          46,
          48,
          38,
          29,
          22,
          32,
          23,
          25,
          22,
          17,
          17,
          19,
          21,
          27,
          23,
          21,
          18,
          18,
          20,
          19,
          16,
          11,
          16,
          17,
          20,
          25,
          25,
          27,
          26,
          22,
          26,
          30,
          35,
          35,
          52,
          46,
          66,
          58,
          71,
          63,
          36,
          23,
          25,
          21,
          13,
          15,
          16,
          20,
          15,
          15,
          24,
          26,
          26,
          29,
          26,
          27,
          24,
          24,
          17,
          18,
          30,
          45,
          39,
          36,
          43,
          34,
          25,
          29,
          30,
          24,
          27,
          22,
          22,
          31,
          26,
          29,
          40,
          32,
          26,
          28,
          28,
          20,
          19,
          19,
          16,
          22,
          48,
          40,
          40,
          44,
          43,
          44,
          32,
          24,
          25,
          23,
          32,
          21,
          24,
          31,
          27,
          28,
          26,
          22,
          29,
          39,
          37,
          24,
          23,
          17,
          20,
          34,
          26,
          28,
          30,
          32,
          29,
          30,
          31,
          29,
          30,
          27,
          27,
          37,
          29,
          40,
          36,
          32,
          29,
          27,
          34,
          36,
          30,
          27,
          26,
          29,
          28,
          25,
          33,
          32,
          42,
          30,
          32,
          32,
          34,
          29,
          42,
          36,
          31,
          38,
          39,
          31,
          37,
          25,
          44,
          39,
          44,
          35,
          29,
          33,
          32,
          42,
          47,
          55,
          35,
          26,
          33,
          34,
          23,
          25,
          22,
          31,
          31,
          29,
          20,
          23,
          25,
          33,
          47,
          49,
          62,
          57,
          31,
          30,
          38,
          33,
          23,
          25,
          25,
          25,
          25,
          34,
          26,
          32,
          31,
          34,
          37,
          29,
          35,
          28,
          37,
          64,
          65,
          57,
          56,
          52,
          58,
          35,
          45,
          86,
          42,
          30,
          21,
          21,
          19,
          17,
          32,
          30,
          36,
          37,
          55,
          66,
          81,
          94,
          110,
          210,
          240,
          160,
          140,
          140,
          100,
          89,
          99,
          89,
          96,
          110,
          90,
          96,
          82,
          78,
          78,
          69,
          64,
          66,
          80,
          67,
          56,
          52,
          48,
          43,
          38,
          31,
          40,
          44,
          39,
          47,
          50,
          53,
          50,
          46,
          38,
          39,
          37,
          32,
          30,
          33,
          34,
          33,
          36,
          32,
          24,
          24,
          25,
          24,
          20,
          18,
          20,
          23,
          23,
          21,
          35,
          46,
          85,
          75,
          62,
          55,
          43,
          42,
          37,
          39,
          46,
          46,
          38,
          36,
          33,
          27,
          27,
          16,
          16,
          8,
          25,
          21,
          22,
          36,
          25,
          18,
          21,
          21,
          28,
          31,
          44,
          43,
          36,
          32,
          31,
          31,
          42,
          30,
          28,
          19,
          20,
          21,
          7,
          9,
          10,
          13,
          19,
          18,
          16,
          16,
          14,
          9,
          13,
          13,
          10,
          8,
          22,
          17,
          23,
          31,
          31,
          25,
          27,
          21,
          20,
          17,
          17,
          18,
          21,
          27,
          47,
          66,
          76,
          96,
          98,
          83,
          53,
          48,
          50,
          53,
          56,
          62,
          52,
          44,
          34,
          42,
          40,
          38,
          43,
          55,
          93,
          100,
          88,
          79,
          75,
          120,
          120,
          130,
          110,
          87,
          94,
          40,
          70,
          92,
          56,
          52,
          71,
          67,
          110,
          110,
          140,
          150,
          170,
          180,
          120,
          130,
          110,
          110,
          100,
          100,
          100,
          89,
          79,
          80,
          91,
          100,
          100,
          94,
          80,
          98,
          94,
          80,
          61,
          59,
          52,
          46,
          57,
          46,
          66,
          39,
          53,
          16,
          21,
          21,
          33,
          27,
          37,
          41,
          49,
          41,
          39,
          38,
          37,
          37,
          28,
          31,
          38,
          48,
          30,
          35,
          29,
          29,
          27,
          18,
          18,
          18,
          29,
          31,
          35,
          33,
          34,
          46,
          27,
          40,
          44,
          34,
          29,
          30,
          25,
          25,
          32,
          29,
          31,
          25,
          27,
          26,
          22,
          17,
          16,
          19,
          22,
          29,
          21,
          31,
          34,
          41,
          26,
          28,
          30,
          33,
          28,
          29,
          30,
          36,
          33,
          36,
          35,
          37,
          30,
          27,
          27,
          29,
          36,
          19,
          18,
          20,
          33,
          42,
          46,
          49,
          42,
          38,
          45,
          44,
          38,
          34,
          30,
          30,
          43,
          38,
          37,
          45,
          35,
          29
         ],
         "yaxis": "y"
        },
        {
         "hovertemplate": "Month=May<br>Date=%{x}<br>PM2.5 Value=%{y}<extra></extra>",
         "legendgroup": "May",
         "line": {
          "color": "#00cc96",
          "dash": "solid"
         },
         "marker": {
          "symbol": "circle"
         },
         "mode": "lines",
         "name": "May",
         "showlegend": true,
         "type": "scattergl",
         "x": [
          "2024-05-01T01:00:00+00:00",
          "2024-05-01T02:00:00+00:00",
          "2024-05-01T03:00:00+00:00",
          "2024-05-01T04:00:00+00:00",
          "2024-05-01T05:00:00+00:00",
          "2024-05-01T06:00:00+00:00",
          "2024-05-01T07:00:00+00:00",
          "2024-05-01T08:00:00+00:00",
          "2024-05-01T09:00:00+00:00",
          "2024-05-01T10:00:00+00:00",
          "2024-05-01T11:00:00+00:00",
          "2024-05-01T12:00:00+00:00",
          "2024-05-01T13:00:00+00:00",
          "2024-05-01T14:00:00+00:00",
          "2024-05-01T15:00:00+00:00",
          "2024-05-01T16:00:00+00:00",
          "2024-05-01T17:00:00+00:00",
          "2024-05-01T18:00:00+00:00",
          "2024-05-01T19:00:00+00:00",
          "2024-05-01T20:00:00+00:00",
          "2024-05-01T21:00:00+00:00",
          "2024-05-01T22:00:00+00:00",
          "2024-05-01T23:00:00+00:00",
          "2024-05-02T00:00:00+00:00",
          "2024-05-02T01:00:00+00:00",
          "2024-05-02T02:00:00+00:00",
          "2024-05-02T03:00:00+00:00",
          "2024-05-02T04:00:00+00:00",
          "2024-05-02T05:00:00+00:00",
          "2024-05-02T06:00:00+00:00",
          "2024-05-02T07:00:00+00:00",
          "2024-05-02T08:00:00+00:00",
          "2024-05-02T09:00:00+00:00",
          "2024-05-02T10:00:00+00:00",
          "2024-05-02T11:00:00+00:00",
          "2024-05-02T12:00:00+00:00",
          "2024-05-02T13:00:00+00:00",
          "2024-05-02T14:00:00+00:00",
          "2024-05-02T15:00:00+00:00",
          "2024-05-02T16:00:00+00:00",
          "2024-05-02T17:00:00+00:00",
          "2024-05-02T18:00:00+00:00",
          "2024-05-02T19:00:00+00:00",
          "2024-05-02T20:00:00+00:00",
          "2024-05-02T21:00:00+00:00",
          "2024-05-02T22:00:00+00:00",
          "2024-05-02T23:00:00+00:00",
          "2024-05-03T02:00:00+00:00",
          "2024-05-03T03:00:00+00:00",
          "2024-05-03T04:00:00+00:00",
          "2024-05-03T05:00:00+00:00",
          "2024-05-03T06:00:00+00:00",
          "2024-05-03T07:00:00+00:00",
          "2024-05-03T08:00:00+00:00",
          "2024-05-03T09:00:00+00:00",
          "2024-05-03T10:00:00+00:00",
          "2024-05-03T11:00:00+00:00",
          "2024-05-03T12:00:00+00:00",
          "2024-05-03T13:00:00+00:00",
          "2024-05-03T14:00:00+00:00",
          "2024-05-03T15:00:00+00:00",
          "2024-05-03T16:00:00+00:00",
          "2024-05-03T17:00:00+00:00",
          "2024-05-03T18:00:00+00:00",
          "2024-05-03T19:00:00+00:00",
          "2024-05-03T20:00:00+00:00",
          "2024-05-03T21:00:00+00:00",
          "2024-05-03T22:00:00+00:00",
          "2024-05-03T23:00:00+00:00",
          "2024-05-04T00:00:00+00:00",
          "2024-05-04T01:00:00+00:00",
          "2024-05-04T02:00:00+00:00",
          "2024-05-04T03:00:00+00:00",
          "2024-05-04T04:00:00+00:00",
          "2024-05-04T05:00:00+00:00",
          "2024-05-04T06:00:00+00:00",
          "2024-05-04T07:00:00+00:00",
          "2024-05-04T08:00:00+00:00",
          "2024-05-04T09:00:00+00:00",
          "2024-05-04T10:00:00+00:00",
          "2024-05-04T11:00:00+00:00",
          "2024-05-04T12:00:00+00:00",
          "2024-05-04T13:00:00+00:00",
          "2024-05-04T14:00:00+00:00",
          "2024-05-04T15:00:00+00:00",
          "2024-05-04T16:00:00+00:00",
          "2024-05-04T17:00:00+00:00",
          "2024-05-04T18:00:00+00:00",
          "2024-05-04T19:00:00+00:00",
          "2024-05-04T20:00:00+00:00",
          "2024-05-04T21:00:00+00:00",
          "2024-05-04T22:00:00+00:00",
          "2024-05-04T23:00:00+00:00",
          "2024-05-05T00:00:00+00:00",
          "2024-05-05T01:00:00+00:00",
          "2024-05-05T02:00:00+00:00",
          "2024-05-05T03:00:00+00:00",
          "2024-05-05T04:00:00+00:00",
          "2024-05-05T05:00:00+00:00",
          "2024-05-05T06:00:00+00:00",
          "2024-05-05T07:00:00+00:00",
          "2024-05-05T08:00:00+00:00",
          "2024-05-05T09:00:00+00:00",
          "2024-05-05T10:00:00+00:00",
          "2024-05-05T11:00:00+00:00",
          "2024-05-05T12:00:00+00:00",
          "2024-05-05T13:00:00+00:00",
          "2024-05-05T14:00:00+00:00",
          "2024-05-05T15:00:00+00:00",
          "2024-05-05T16:00:00+00:00",
          "2024-05-05T17:00:00+00:00",
          "2024-05-05T18:00:00+00:00",
          "2024-05-05T19:00:00+00:00",
          "2024-05-05T20:00:00+00:00",
          "2024-05-05T21:00:00+00:00",
          "2024-05-05T22:00:00+00:00",
          "2024-05-05T23:00:00+00:00",
          "2024-05-06T00:00:00+00:00",
          "2024-05-06T01:00:00+00:00",
          "2024-05-06T02:00:00+00:00",
          "2024-05-06T03:00:00+00:00",
          "2024-05-06T04:00:00+00:00",
          "2024-05-06T05:00:00+00:00",
          "2024-05-06T06:00:00+00:00",
          "2024-05-06T07:00:00+00:00",
          "2024-05-06T08:00:00+00:00",
          "2024-05-06T09:00:00+00:00",
          "2024-05-06T10:00:00+00:00",
          "2024-05-06T11:00:00+00:00",
          "2024-05-06T12:00:00+00:00",
          "2024-05-06T13:00:00+00:00",
          "2024-05-06T14:00:00+00:00",
          "2024-05-06T15:00:00+00:00",
          "2024-05-06T16:00:00+00:00",
          "2024-05-06T17:00:00+00:00",
          "2024-05-06T18:00:00+00:00",
          "2024-05-06T19:00:00+00:00",
          "2024-05-06T20:00:00+00:00",
          "2024-05-06T21:00:00+00:00",
          "2024-05-06T22:00:00+00:00",
          "2024-05-06T23:00:00+00:00",
          "2024-05-07T00:00:00+00:00",
          "2024-05-07T01:00:00+00:00",
          "2024-05-07T02:00:00+00:00",
          "2024-05-07T03:00:00+00:00",
          "2024-05-07T04:00:00+00:00",
          "2024-05-07T05:00:00+00:00",
          "2024-05-07T06:00:00+00:00",
          "2024-05-07T07:00:00+00:00",
          "2024-05-07T08:00:00+00:00",
          "2024-05-07T09:00:00+00:00",
          "2024-05-07T10:00:00+00:00",
          "2024-05-07T11:00:00+00:00",
          "2024-05-07T12:00:00+00:00",
          "2024-05-07T13:00:00+00:00",
          "2024-05-07T14:00:00+00:00",
          "2024-05-07T15:00:00+00:00",
          "2024-05-07T16:00:00+00:00",
          "2024-05-07T17:00:00+00:00",
          "2024-05-07T18:00:00+00:00",
          "2024-05-07T19:00:00+00:00",
          "2024-05-07T20:00:00+00:00",
          "2024-05-07T21:00:00+00:00",
          "2024-05-07T22:00:00+00:00",
          "2024-05-07T23:00:00+00:00",
          "2024-05-08T00:00:00+00:00",
          "2024-05-08T01:00:00+00:00",
          "2024-05-08T02:00:00+00:00",
          "2024-05-08T03:00:00+00:00",
          "2024-05-08T04:00:00+00:00",
          "2024-05-08T05:00:00+00:00",
          "2024-05-08T06:00:00+00:00",
          "2024-05-08T07:00:00+00:00",
          "2024-05-08T08:00:00+00:00",
          "2024-05-08T09:00:00+00:00",
          "2024-05-08T10:00:00+00:00",
          "2024-05-08T11:00:00+00:00",
          "2024-05-08T12:00:00+00:00",
          "2024-05-08T13:00:00+00:00",
          "2024-05-08T14:00:00+00:00",
          "2024-05-08T15:00:00+00:00",
          "2024-05-08T16:00:00+00:00",
          "2024-05-08T17:00:00+00:00",
          "2024-05-08T18:00:00+00:00",
          "2024-05-08T19:00:00+00:00",
          "2024-05-08T20:00:00+00:00",
          "2024-05-08T21:00:00+00:00",
          "2024-05-08T22:00:00+00:00",
          "2024-05-08T23:00:00+00:00",
          "2024-05-09T00:00:00+00:00",
          "2024-05-09T01:00:00+00:00",
          "2024-05-09T02:00:00+00:00",
          "2024-05-09T03:00:00+00:00",
          "2024-05-09T04:00:00+00:00",
          "2024-05-09T05:00:00+00:00",
          "2024-05-09T06:00:00+00:00",
          "2024-05-09T07:00:00+00:00",
          "2024-05-09T08:00:00+00:00",
          "2024-05-09T09:00:00+00:00",
          "2024-05-09T10:00:00+00:00",
          "2024-05-09T11:00:00+00:00",
          "2024-05-09T12:00:00+00:00",
          "2024-05-09T13:00:00+00:00",
          "2024-05-09T14:00:00+00:00",
          "2024-05-09T15:00:00+00:00",
          "2024-05-09T16:00:00+00:00",
          "2024-05-09T17:00:00+00:00",
          "2024-05-09T18:00:00+00:00",
          "2024-05-09T19:00:00+00:00",
          "2024-05-09T20:00:00+00:00",
          "2024-05-09T21:00:00+00:00",
          "2024-05-09T22:00:00+00:00",
          "2024-05-09T23:00:00+00:00",
          "2024-05-10T00:00:00+00:00",
          "2024-05-10T01:00:00+00:00",
          "2024-05-10T02:00:00+00:00",
          "2024-05-10T03:00:00+00:00",
          "2024-05-10T04:00:00+00:00",
          "2024-05-10T05:00:00+00:00",
          "2024-05-10T06:00:00+00:00",
          "2024-05-10T07:00:00+00:00",
          "2024-05-10T08:00:00+00:00",
          "2024-05-10T09:00:00+00:00",
          "2024-05-10T10:00:00+00:00",
          "2024-05-10T11:00:00+00:00",
          "2024-05-10T12:00:00+00:00",
          "2024-05-10T13:00:00+00:00",
          "2024-05-10T14:00:00+00:00",
          "2024-05-10T15:00:00+00:00",
          "2024-05-10T16:00:00+00:00",
          "2024-05-10T17:00:00+00:00",
          "2024-05-10T18:00:00+00:00",
          "2024-05-10T19:00:00+00:00",
          "2024-05-10T20:00:00+00:00",
          "2024-05-10T21:00:00+00:00",
          "2024-05-10T22:00:00+00:00",
          "2024-05-10T23:00:00+00:00",
          "2024-05-11T00:00:00+00:00",
          "2024-05-11T01:00:00+00:00",
          "2024-05-11T02:00:00+00:00",
          "2024-05-11T03:00:00+00:00",
          "2024-05-11T04:00:00+00:00",
          "2024-05-11T05:00:00+00:00",
          "2024-05-11T06:00:00+00:00",
          "2024-05-11T07:00:00+00:00",
          "2024-05-11T08:00:00+00:00",
          "2024-05-11T09:00:00+00:00",
          "2024-05-11T10:00:00+00:00",
          "2024-05-11T11:00:00+00:00",
          "2024-05-11T12:00:00+00:00",
          "2024-05-11T13:00:00+00:00",
          "2024-05-11T14:00:00+00:00",
          "2024-05-11T15:00:00+00:00",
          "2024-05-11T16:00:00+00:00",
          "2024-05-11T17:00:00+00:00",
          "2024-05-11T18:00:00+00:00",
          "2024-05-11T19:00:00+00:00",
          "2024-05-11T20:00:00+00:00",
          "2024-05-11T21:00:00+00:00",
          "2024-05-11T22:00:00+00:00",
          "2024-05-11T23:00:00+00:00",
          "2024-05-12T00:00:00+00:00",
          "2024-05-12T01:00:00+00:00",
          "2024-05-12T02:00:00+00:00",
          "2024-05-12T03:00:00+00:00",
          "2024-05-12T04:00:00+00:00",
          "2024-05-12T05:00:00+00:00",
          "2024-05-12T06:00:00+00:00",
          "2024-05-12T07:00:00+00:00",
          "2024-05-12T08:00:00+00:00",
          "2024-05-12T09:00:00+00:00",
          "2024-05-12T10:00:00+00:00",
          "2024-05-12T11:00:00+00:00",
          "2024-05-12T12:00:00+00:00",
          "2024-05-12T13:00:00+00:00",
          "2024-05-12T14:00:00+00:00",
          "2024-05-12T15:00:00+00:00",
          "2024-05-12T16:00:00+00:00",
          "2024-05-12T17:00:00+00:00",
          "2024-05-12T18:00:00+00:00",
          "2024-05-12T19:00:00+00:00",
          "2024-05-12T20:00:00+00:00",
          "2024-05-12T21:00:00+00:00",
          "2024-05-12T22:00:00+00:00",
          "2024-05-12T23:00:00+00:00",
          "2024-05-13T00:00:00+00:00",
          "2024-05-13T01:00:00+00:00",
          "2024-05-13T02:00:00+00:00",
          "2024-05-13T03:00:00+00:00",
          "2024-05-13T04:00:00+00:00",
          "2024-05-13T05:00:00+00:00",
          "2024-05-13T06:00:00+00:00",
          "2024-05-13T07:00:00+00:00",
          "2024-05-13T08:00:00+00:00",
          "2024-05-13T09:00:00+00:00",
          "2024-05-13T10:00:00+00:00",
          "2024-05-13T11:00:00+00:00",
          "2024-05-13T12:00:00+00:00",
          "2024-05-13T13:00:00+00:00",
          "2024-05-13T14:00:00+00:00",
          "2024-05-13T15:00:00+00:00",
          "2024-05-13T16:00:00+00:00",
          "2024-05-13T17:00:00+00:00",
          "2024-05-13T18:00:00+00:00",
          "2024-05-13T19:00:00+00:00",
          "2024-05-13T20:00:00+00:00",
          "2024-05-13T21:00:00+00:00",
          "2024-05-13T22:00:00+00:00",
          "2024-05-13T23:00:00+00:00",
          "2024-05-14T00:00:00+00:00",
          "2024-05-14T01:00:00+00:00",
          "2024-05-14T02:00:00+00:00",
          "2024-05-14T03:00:00+00:00",
          "2024-05-14T04:00:00+00:00",
          "2024-05-14T05:00:00+00:00",
          "2024-05-14T06:00:00+00:00",
          "2024-05-14T07:00:00+00:00",
          "2024-05-14T08:00:00+00:00",
          "2024-05-14T09:00:00+00:00",
          "2024-05-14T10:00:00+00:00",
          "2024-05-14T11:00:00+00:00",
          "2024-05-14T12:00:00+00:00",
          "2024-05-14T13:00:00+00:00",
          "2024-05-14T14:00:00+00:00",
          "2024-05-14T15:00:00+00:00",
          "2024-05-14T16:00:00+00:00",
          "2024-05-14T17:00:00+00:00",
          "2024-05-14T18:00:00+00:00",
          "2024-05-14T19:00:00+00:00",
          "2024-05-14T20:00:00+00:00",
          "2024-05-14T21:00:00+00:00",
          "2024-05-14T22:00:00+00:00",
          "2024-05-14T23:00:00+00:00",
          "2024-05-15T00:00:00+00:00",
          "2024-05-15T01:00:00+00:00",
          "2024-05-15T02:00:00+00:00",
          "2024-05-15T03:00:00+00:00",
          "2024-05-15T04:00:00+00:00",
          "2024-05-15T05:00:00+00:00",
          "2024-05-15T06:00:00+00:00",
          "2024-05-15T07:00:00+00:00",
          "2024-05-15T08:00:00+00:00",
          "2024-05-15T09:00:00+00:00",
          "2024-05-15T10:00:00+00:00",
          "2024-05-15T11:00:00+00:00",
          "2024-05-15T12:00:00+00:00",
          "2024-05-15T13:00:00+00:00",
          "2024-05-15T14:00:00+00:00",
          "2024-05-15T15:00:00+00:00",
          "2024-05-15T16:00:00+00:00",
          "2024-05-15T17:00:00+00:00",
          "2024-05-15T18:00:00+00:00",
          "2024-05-15T19:00:00+00:00",
          "2024-05-15T20:00:00+00:00",
          "2024-05-15T21:00:00+00:00",
          "2024-05-15T22:00:00+00:00",
          "2024-05-15T23:00:00+00:00",
          "2024-05-16T00:00:00+00:00",
          "2024-05-16T01:00:00+00:00",
          "2024-05-16T02:00:00+00:00",
          "2024-05-16T03:00:00+00:00",
          "2024-05-16T04:00:00+00:00",
          "2024-05-16T05:00:00+00:00",
          "2024-05-16T06:00:00+00:00",
          "2024-05-16T07:00:00+00:00",
          "2024-05-16T08:00:00+00:00",
          "2024-05-16T09:00:00+00:00",
          "2024-05-16T10:00:00+00:00",
          "2024-05-16T11:00:00+00:00",
          "2024-05-16T12:00:00+00:00",
          "2024-05-16T13:00:00+00:00",
          "2024-05-16T14:00:00+00:00",
          "2024-05-16T15:00:00+00:00",
          "2024-05-16T16:00:00+00:00",
          "2024-05-16T17:00:00+00:00",
          "2024-05-16T18:00:00+00:00",
          "2024-05-16T19:00:00+00:00",
          "2024-05-16T20:00:00+00:00",
          "2024-05-16T21:00:00+00:00",
          "2024-05-16T22:00:00+00:00",
          "2024-05-16T23:00:00+00:00",
          "2024-05-17T00:00:00+00:00",
          "2024-05-17T01:00:00+00:00",
          "2024-05-17T02:00:00+00:00",
          "2024-05-17T03:00:00+00:00",
          "2024-05-17T04:00:00+00:00",
          "2024-05-17T05:00:00+00:00",
          "2024-05-17T06:00:00+00:00",
          "2024-05-17T07:00:00+00:00",
          "2024-05-17T08:00:00+00:00",
          "2024-05-17T09:00:00+00:00",
          "2024-05-17T10:00:00+00:00",
          "2024-05-17T11:00:00+00:00",
          "2024-05-17T12:00:00+00:00",
          "2024-05-17T13:00:00+00:00",
          "2024-05-17T14:00:00+00:00",
          "2024-05-17T15:00:00+00:00",
          "2024-05-17T16:00:00+00:00",
          "2024-05-17T17:00:00+00:00",
          "2024-05-17T18:00:00+00:00",
          "2024-05-17T19:00:00+00:00",
          "2024-05-17T20:00:00+00:00",
          "2024-05-17T21:00:00+00:00",
          "2024-05-17T22:00:00+00:00",
          "2024-05-17T23:00:00+00:00",
          "2024-05-18T00:00:00+00:00",
          "2024-05-18T01:00:00+00:00",
          "2024-05-18T02:00:00+00:00",
          "2024-05-18T03:00:00+00:00",
          "2024-05-18T04:00:00+00:00",
          "2024-05-18T05:00:00+00:00",
          "2024-05-18T06:00:00+00:00",
          "2024-05-18T07:00:00+00:00",
          "2024-05-18T08:00:00+00:00",
          "2024-05-18T09:00:00+00:00",
          "2024-05-18T10:00:00+00:00",
          "2024-05-18T11:00:00+00:00",
          "2024-05-18T12:00:00+00:00",
          "2024-05-18T13:00:00+00:00",
          "2024-05-18T14:00:00+00:00",
          "2024-05-18T15:00:00+00:00",
          "2024-05-18T16:00:00+00:00",
          "2024-05-18T17:00:00+00:00",
          "2024-05-18T18:00:00+00:00",
          "2024-05-18T19:00:00+00:00",
          "2024-05-18T20:00:00+00:00",
          "2024-05-18T21:00:00+00:00",
          "2024-05-18T22:00:00+00:00",
          "2024-05-18T23:00:00+00:00",
          "2024-05-19T00:00:00+00:00",
          "2024-05-19T01:00:00+00:00",
          "2024-05-19T02:00:00+00:00",
          "2024-05-19T03:00:00+00:00",
          "2024-05-19T04:00:00+00:00",
          "2024-05-19T05:00:00+00:00",
          "2024-05-19T06:00:00+00:00",
          "2024-05-19T07:00:00+00:00",
          "2024-05-19T08:00:00+00:00",
          "2024-05-19T09:00:00+00:00",
          "2024-05-19T10:00:00+00:00",
          "2024-05-19T11:00:00+00:00",
          "2024-05-19T12:00:00+00:00",
          "2024-05-19T13:00:00+00:00",
          "2024-05-19T14:00:00+00:00",
          "2024-05-19T15:00:00+00:00",
          "2024-05-19T16:00:00+00:00",
          "2024-05-19T17:00:00+00:00",
          "2024-05-19T18:00:00+00:00",
          "2024-05-19T19:00:00+00:00",
          "2024-05-19T20:00:00+00:00",
          "2024-05-19T21:00:00+00:00",
          "2024-05-19T22:00:00+00:00",
          "2024-05-19T23:00:00+00:00",
          "2024-05-20T00:00:00+00:00",
          "2024-05-20T01:00:00+00:00",
          "2024-05-20T02:00:00+00:00",
          "2024-05-20T03:00:00+00:00",
          "2024-05-20T04:00:00+00:00",
          "2024-05-20T05:00:00+00:00",
          "2024-05-20T06:00:00+00:00",
          "2024-05-20T07:00:00+00:00",
          "2024-05-20T08:00:00+00:00",
          "2024-05-20T09:00:00+00:00",
          "2024-05-20T10:00:00+00:00",
          "2024-05-20T11:00:00+00:00",
          "2024-05-20T12:00:00+00:00",
          "2024-05-20T13:00:00+00:00",
          "2024-05-20T14:00:00+00:00",
          "2024-05-20T15:00:00+00:00",
          "2024-05-20T16:00:00+00:00",
          "2024-05-20T17:00:00+00:00",
          "2024-05-20T18:00:00+00:00",
          "2024-05-20T19:00:00+00:00",
          "2024-05-20T20:00:00+00:00",
          "2024-05-20T21:00:00+00:00",
          "2024-05-20T22:00:00+00:00",
          "2024-05-20T23:00:00+00:00",
          "2024-05-21T00:00:00+00:00",
          "2024-05-21T01:00:00+00:00",
          "2024-05-21T02:00:00+00:00",
          "2024-05-21T03:00:00+00:00",
          "2024-05-21T04:00:00+00:00",
          "2024-05-21T05:00:00+00:00",
          "2024-05-21T06:00:00+00:00",
          "2024-05-21T07:00:00+00:00",
          "2024-05-21T08:00:00+00:00",
          "2024-05-21T09:00:00+00:00",
          "2024-05-21T10:00:00+00:00",
          "2024-05-21T11:00:00+00:00",
          "2024-05-21T12:00:00+00:00",
          "2024-05-21T13:00:00+00:00",
          "2024-05-21T14:00:00+00:00",
          "2024-05-21T15:00:00+00:00",
          "2024-05-21T16:00:00+00:00",
          "2024-05-21T17:00:00+00:00",
          "2024-05-21T18:00:00+00:00",
          "2024-05-21T19:00:00+00:00",
          "2024-05-21T20:00:00+00:00",
          "2024-05-21T21:00:00+00:00",
          "2024-05-21T22:00:00+00:00",
          "2024-05-21T23:00:00+00:00",
          "2024-05-22T00:00:00+00:00",
          "2024-05-22T01:00:00+00:00",
          "2024-05-22T02:00:00+00:00",
          "2024-05-22T03:00:00+00:00",
          "2024-05-22T04:00:00+00:00",
          "2024-05-22T05:00:00+00:00",
          "2024-05-22T06:00:00+00:00",
          "2024-05-22T07:00:00+00:00",
          "2024-05-22T08:00:00+00:00",
          "2024-05-22T09:00:00+00:00",
          "2024-05-22T10:00:00+00:00",
          "2024-05-22T11:00:00+00:00",
          "2024-05-22T12:00:00+00:00",
          "2024-05-22T13:00:00+00:00",
          "2024-05-22T14:00:00+00:00",
          "2024-05-22T15:00:00+00:00",
          "2024-05-22T16:00:00+00:00",
          "2024-05-22T17:00:00+00:00",
          "2024-05-22T18:00:00+00:00",
          "2024-05-22T19:00:00+00:00",
          "2024-05-22T20:00:00+00:00",
          "2024-05-22T21:00:00+00:00",
          "2024-05-22T22:00:00+00:00",
          "2024-05-22T23:00:00+00:00",
          "2024-05-23T00:00:00+00:00",
          "2024-05-23T01:00:00+00:00",
          "2024-05-23T02:00:00+00:00",
          "2024-05-23T03:00:00+00:00",
          "2024-05-23T04:00:00+00:00",
          "2024-05-23T05:00:00+00:00",
          "2024-05-23T06:00:00+00:00",
          "2024-05-23T07:00:00+00:00",
          "2024-05-23T08:00:00+00:00",
          "2024-05-23T09:00:00+00:00",
          "2024-05-23T10:00:00+00:00",
          "2024-05-23T11:00:00+00:00",
          "2024-05-23T12:00:00+00:00",
          "2024-05-23T13:00:00+00:00",
          "2024-05-23T14:00:00+00:00",
          "2024-05-23T15:00:00+00:00",
          "2024-05-23T16:00:00+00:00",
          "2024-05-23T17:00:00+00:00",
          "2024-05-23T18:00:00+00:00",
          "2024-05-23T19:00:00+00:00",
          "2024-05-23T20:00:00+00:00",
          "2024-05-23T21:00:00+00:00",
          "2024-05-23T22:00:00+00:00",
          "2024-05-23T23:00:00+00:00",
          "2024-05-24T00:00:00+00:00",
          "2024-05-24T01:00:00+00:00",
          "2024-05-24T02:00:00+00:00",
          "2024-05-24T03:00:00+00:00",
          "2024-05-24T04:00:00+00:00",
          "2024-05-24T05:00:00+00:00",
          "2024-05-24T06:00:00+00:00",
          "2024-05-24T07:00:00+00:00",
          "2024-05-24T08:00:00+00:00",
          "2024-05-24T09:00:00+00:00",
          "2024-05-24T10:00:00+00:00",
          "2024-05-24T11:00:00+00:00",
          "2024-05-24T12:00:00+00:00",
          "2024-05-24T13:00:00+00:00",
          "2024-05-24T14:00:00+00:00",
          "2024-05-24T15:00:00+00:00",
          "2024-05-24T16:00:00+00:00",
          "2024-05-24T17:00:00+00:00",
          "2024-05-24T18:00:00+00:00",
          "2024-05-24T19:00:00+00:00",
          "2024-05-24T20:00:00+00:00",
          "2024-05-24T21:00:00+00:00",
          "2024-05-24T22:00:00+00:00",
          "2024-05-24T23:00:00+00:00",
          "2024-05-25T00:00:00+00:00",
          "2024-05-25T01:00:00+00:00",
          "2024-05-25T02:00:00+00:00",
          "2024-05-25T03:00:00+00:00",
          "2024-05-25T04:00:00+00:00",
          "2024-05-25T05:00:00+00:00",
          "2024-05-25T06:00:00+00:00",
          "2024-05-25T07:00:00+00:00",
          "2024-05-25T08:00:00+00:00",
          "2024-05-25T09:00:00+00:00",
          "2024-05-25T10:00:00+00:00",
          "2024-05-25T11:00:00+00:00",
          "2024-05-25T12:00:00+00:00",
          "2024-05-25T13:00:00+00:00",
          "2024-05-25T14:00:00+00:00",
          "2024-05-25T15:00:00+00:00",
          "2024-05-25T16:00:00+00:00",
          "2024-05-25T17:00:00+00:00",
          "2024-05-25T18:00:00+00:00",
          "2024-05-25T19:00:00+00:00",
          "2024-05-25T20:00:00+00:00",
          "2024-05-25T21:00:00+00:00",
          "2024-05-25T22:00:00+00:00",
          "2024-05-25T23:00:00+00:00",
          "2024-05-26T00:00:00+00:00",
          "2024-05-26T01:00:00+00:00",
          "2024-05-26T02:00:00+00:00",
          "2024-05-26T03:00:00+00:00",
          "2024-05-26T04:00:00+00:00",
          "2024-05-26T05:00:00+00:00",
          "2024-05-26T06:00:00+00:00",
          "2024-05-26T07:00:00+00:00",
          "2024-05-26T08:00:00+00:00",
          "2024-05-26T09:00:00+00:00",
          "2024-05-26T10:00:00+00:00",
          "2024-05-26T11:00:00+00:00",
          "2024-05-26T12:00:00+00:00",
          "2024-05-26T13:00:00+00:00",
          "2024-05-26T14:00:00+00:00",
          "2024-05-26T15:00:00+00:00",
          "2024-05-26T16:00:00+00:00",
          "2024-05-26T17:00:00+00:00",
          "2024-05-26T18:00:00+00:00",
          "2024-05-26T19:00:00+00:00",
          "2024-05-26T20:00:00+00:00",
          "2024-05-26T21:00:00+00:00",
          "2024-05-26T22:00:00+00:00",
          "2024-05-26T23:00:00+00:00",
          "2024-05-27T00:00:00+00:00",
          "2024-05-27T01:00:00+00:00",
          "2024-05-27T02:00:00+00:00",
          "2024-05-27T03:00:00+00:00",
          "2024-05-27T04:00:00+00:00",
          "2024-05-27T05:00:00+00:00",
          "2024-05-27T06:00:00+00:00",
          "2024-05-27T07:00:00+00:00",
          "2024-05-27T08:00:00+00:00",
          "2024-05-27T09:00:00+00:00",
          "2024-05-27T10:00:00+00:00",
          "2024-05-27T11:00:00+00:00",
          "2024-05-27T12:00:00+00:00",
          "2024-05-27T13:00:00+00:00",
          "2024-05-27T14:00:00+00:00",
          "2024-05-27T15:00:00+00:00",
          "2024-05-27T16:00:00+00:00",
          "2024-05-27T17:00:00+00:00",
          "2024-05-27T18:00:00+00:00",
          "2024-05-27T19:00:00+00:00",
          "2024-05-27T20:00:00+00:00",
          "2024-05-27T21:00:00+00:00",
          "2024-05-27T22:00:00+00:00",
          "2024-05-27T23:00:00+00:00",
          "2024-05-28T00:00:00+00:00",
          "2024-05-28T01:00:00+00:00",
          "2024-05-28T02:00:00+00:00",
          "2024-05-28T03:00:00+00:00",
          "2024-05-28T04:00:00+00:00",
          "2024-05-28T05:00:00+00:00",
          "2024-05-28T06:00:00+00:00",
          "2024-05-28T07:00:00+00:00",
          "2024-05-28T08:00:00+00:00",
          "2024-05-28T09:00:00+00:00",
          "2024-05-28T10:00:00+00:00",
          "2024-05-28T11:00:00+00:00",
          "2024-05-28T12:00:00+00:00",
          "2024-05-28T13:00:00+00:00",
          "2024-05-28T14:00:00+00:00",
          "2024-05-28T15:00:00+00:00",
          "2024-05-28T16:00:00+00:00",
          "2024-05-28T17:00:00+00:00",
          "2024-05-28T18:00:00+00:00",
          "2024-05-28T19:00:00+00:00",
          "2024-05-28T20:00:00+00:00",
          "2024-05-28T21:00:00+00:00",
          "2024-05-28T22:00:00+00:00",
          "2024-05-28T23:00:00+00:00",
          "2024-05-29T00:00:00+00:00",
          "2024-05-29T01:00:00+00:00",
          "2024-05-29T02:00:00+00:00",
          "2024-05-29T03:00:00+00:00",
          "2024-05-29T04:00:00+00:00",
          "2024-05-29T05:00:00+00:00",
          "2024-05-29T06:00:00+00:00",
          "2024-05-29T07:00:00+00:00",
          "2024-05-29T08:00:00+00:00",
          "2024-05-29T09:00:00+00:00",
          "2024-05-29T10:00:00+00:00",
          "2024-05-29T11:00:00+00:00",
          "2024-05-29T12:00:00+00:00",
          "2024-05-29T13:00:00+00:00",
          "2024-05-29T14:00:00+00:00",
          "2024-05-29T15:00:00+00:00",
          "2024-05-29T16:00:00+00:00",
          "2024-05-29T17:00:00+00:00",
          "2024-05-29T18:00:00+00:00",
          "2024-05-29T19:00:00+00:00",
          "2024-05-29T20:00:00+00:00",
          "2024-05-29T21:00:00+00:00",
          "2024-05-29T22:00:00+00:00",
          "2024-05-29T23:00:00+00:00",
          "2024-05-30T00:00:00+00:00",
          "2024-05-30T01:00:00+00:00",
          "2024-05-30T02:00:00+00:00",
          "2024-05-30T03:00:00+00:00",
          "2024-05-30T04:00:00+00:00",
          "2024-05-30T05:00:00+00:00",
          "2024-05-30T06:00:00+00:00",
          "2024-05-30T07:00:00+00:00",
          "2024-05-30T08:00:00+00:00",
          "2024-05-30T09:00:00+00:00",
          "2024-05-30T10:00:00+00:00",
          "2024-05-30T11:00:00+00:00",
          "2024-05-30T12:00:00+00:00",
          "2024-05-30T13:00:00+00:00",
          "2024-05-30T14:00:00+00:00",
          "2024-05-30T15:00:00+00:00",
          "2024-05-30T16:00:00+00:00",
          "2024-05-30T17:00:00+00:00",
          "2024-05-30T18:00:00+00:00",
          "2024-05-30T19:00:00+00:00",
          "2024-05-30T20:00:00+00:00",
          "2024-05-30T21:00:00+00:00",
          "2024-05-30T22:00:00+00:00",
          "2024-05-30T23:00:00+00:00",
          "2024-05-31T00:00:00+00:00"
         ],
         "xaxis": "x",
         "y": [
          16,
          18,
          18,
          17,
          28,
          30,
          33,
          31,
          41,
          54,
          54,
          45,
          51,
          46,
          44,
          49,
          43,
          42,
          36,
          41,
          45,
          32,
          40,
          70,
          41,
          22,
          21,
          20,
          19,
          19,
          36,
          37,
          45,
          38,
          45,
          46,
          43,
          47,
          41,
          42,
          47,
          42,
          48,
          52,
          54,
          73,
          70,
          75,
          73,
          88,
          93,
          100,
          160,
          100,
          53,
          58,
          45,
          41,
          41,
          31,
          24,
          44,
          38,
          35,
          38,
          34,
          30,
          45,
          51,
          40,
          28,
          50,
          67,
          59,
          47,
          51,
          49,
          56,
          56,
          48,
          43,
          42,
          44,
          33,
          32,
          26,
          31,
          44,
          53,
          42,
          37,
          47,
          36,
          27,
          33,
          28,
          22,
          32,
          45,
          33,
          29,
          26,
          23,
          15,
          21,
          19,
          25,
          23,
          12,
          14,
          28,
          19,
          25,
          19,
          14,
          14,
          15,
          15,
          15,
          15,
          11,
          13,
          12,
          12,
          11,
          18,
          37,
          39,
          27,
          41,
          44,
          57,
          35,
          31,
          29,
          27,
          32,
          31,
          25,
          32,
          22,
          15,
          17,
          17,
          18,
          18,
          15,
          14,
          23,
          23,
          38,
          37,
          32,
          35,
          33,
          35,
          35,
          29,
          33,
          33,
          45,
          62,
          56,
          36,
          30,
          22,
          16,
          17,
          25,
          16,
          11,
          18,
          18,
          9,
          9,
          13,
          12,
          19,
          18,
          13,
          10,
          12,
          13,
          25,
          31,
          23,
          24,
          19,
          17,
          23,
          14,
          14,
          14,
          11,
          13,
          14,
          15,
          26,
          25,
          47,
          55,
          56,
          130,
          70,
          56,
          52,
          62,
          57,
          64,
          43,
          45,
          30,
          42,
          28,
          31,
          27,
          30,
          45,
          110,
          53,
          45,
          43,
          45,
          59,
          96,
          120,
          130,
          150,
          130,
          130,
          140,
          130,
          120,
          140,
          140,
          130,
          140,
          140,
          130,
          110,
          93,
          54,
          50,
          89,
          120,
          85,
          71,
          37,
          35,
          41,
          50,
          48,
          39,
          40,
          37,
          36,
          42,
          38,
          36,
          40,
          30,
          22,
          27,
          27,
          33,
          31,
          29,
          29,
          55,
          71,
          46,
          38,
          37,
          35,
          34,
          28,
          22,
          24,
          21,
          29,
          34,
          40,
          48,
          52,
          48,
          48,
          16,
          25,
          20,
          35,
          23,
          20,
          24,
          34,
          31,
          35,
          31,
          28,
          37,
          31,
          22,
          25,
          28,
          24,
          33,
          32,
          30,
          19,
          27,
          40,
          25,
          25,
          37,
          26,
          30,
          27,
          34,
          36,
          30,
          35,
          32,
          25,
          28,
          30,
          24,
          22,
          27,
          27,
          32,
          30,
          34,
          23,
          30,
          35,
          35,
          19,
          26,
          48,
          38,
          56,
          63,
          63,
          35,
          29,
          36,
          40,
          29,
          31,
          27,
          24,
          28,
          26,
          34,
          33,
          33,
          32,
          43,
          23,
          19,
          26,
          22,
          19,
          21,
          14,
          12,
          14,
          23,
          31,
          46,
          35,
          45,
          34,
          29,
          27,
          30,
          41,
          32,
          34,
          30,
          24,
          19,
          21,
          20,
          16,
          19,
          57,
          77,
          99,
          56,
          15,
          11,
          16,
          20,
          24,
          27,
          29,
          30,
          36,
          38,
          35,
          31,
          35,
          37,
          38,
          22,
          22,
          25,
          31,
          46,
          77,
          86,
          90,
          110,
          100,
          170,
          130,
          120,
          66,
          87,
          68,
          67,
          46,
          51,
          67,
          61,
          58,
          44,
          41,
          42,
          45,
          51,
          58,
          120,
          110,
          110,
          110,
          120,
          110,
          140,
          150,
          120,
          120,
          110,
          120,
          85,
          74,
          72,
          85,
          86,
          78,
          75,
          75,
          76,
          79,
          96,
          84,
          78,
          86,
          110,
          150,
          110,
          130,
          120,
          100,
          91,
          99,
          170,
          140,
          55,
          68,
          80,
          73,
          65,
          69,
          86,
          94,
          78,
          85,
          78,
          75,
          80,
          86,
          96,
          120,
          130,
          140,
          110,
          92,
          74,
          80,
          80,
          71,
          62,
          63,
          65,
          68,
          83,
          72,
          68,
          60,
          69,
          53,
          49,
          41,
          38,
          38,
          66,
          120,
          130,
          83,
          46,
          47,
          63,
          68,
          56,
          56,
          49,
          52,
          55,
          65,
          63,
          63,
          59,
          57,
          49,
          67,
          59,
          72,
          58,
          69,
          74,
          82,
          88,
          110,
          110,
          92,
          80,
          82,
          75,
          68,
          69,
          58,
          65,
          68,
          77,
          50,
          59,
          110,
          95,
          83,
          55,
          24,
          28,
          32,
          39,
          36,
          39,
          31,
          36,
          22,
          27,
          20,
          31,
          30,
          29,
          29,
          23,
          25,
          29,
          29,
          32,
          31,
          43,
          42,
          27,
          26,
          23,
          20,
          18,
          17,
          23,
          18,
          19,
          27,
          35,
          27,
          29,
          38,
          24,
          26,
          19,
          24,
          33,
          36,
          37,
          36,
          39,
          38,
          30,
          53,
          37,
          22,
          26,
          31,
          26,
          26,
          14,
          18,
          21,
          32,
          59,
          91,
          87,
          100,
          95,
          69,
          87,
          53,
          62,
          96,
          94,
          99,
          120,
          66,
          59,
          47,
          71,
          73,
          42,
          33,
          32,
          38,
          33,
          39,
          40,
          36,
          33,
          41,
          31,
          36,
          36,
          34,
          27,
          28,
          27,
          27,
          27,
          52,
          32,
          28,
          20,
          28,
          37,
          41,
          39,
          48,
          34,
          31,
          34,
          41,
          36,
          35,
          39,
          40,
          43,
          43,
          35,
          40,
          28,
          39,
          30,
          23,
          30,
          40,
          43,
          33,
          67,
          61,
          49,
          50,
          35,
          45,
          49,
          39,
          37,
          33,
          31,
          31,
          41,
          37,
          26,
          28,
          35,
          43,
          73,
          45,
          23,
          30,
          29,
          29,
          25,
          26,
          38,
          49,
          36,
          39,
          39,
          39,
          25,
          30,
          26,
          30,
          37,
          40,
          33,
          19,
          26,
          26
         ],
         "yaxis": "y"
        }
       ],
       "layout": {
        "legend": {
         "title": {
          "text": "Month"
         },
         "tracegroupgap": 0
        },
        "template": {
         "data": {
          "bar": [
           {
            "error_x": {
             "color": "#2a3f5f"
            },
            "error_y": {
             "color": "#2a3f5f"
            },
            "marker": {
             "line": {
              "color": "#E5ECF6",
              "width": 0.5
             },
             "pattern": {
              "fillmode": "overlay",
              "size": 10,
              "solidity": 0.2
             }
            },
            "type": "bar"
           }
          ],
          "barpolar": [
           {
            "marker": {
             "line": {
              "color": "#E5ECF6",
              "width": 0.5
             },
             "pattern": {
              "fillmode": "overlay",
              "size": 10,
              "solidity": 0.2
             }
            },
            "type": "barpolar"
           }
          ],
          "carpet": [
           {
            "aaxis": {
             "endlinecolor": "#2a3f5f",
             "gridcolor": "white",
             "linecolor": "white",
             "minorgridcolor": "white",
             "startlinecolor": "#2a3f5f"
            },
            "baxis": {
             "endlinecolor": "#2a3f5f",
             "gridcolor": "white",
             "linecolor": "white",
             "minorgridcolor": "white",
             "startlinecolor": "#2a3f5f"
            },
            "type": "carpet"
           }
          ],
          "choropleth": [
           {
            "colorbar": {
             "outlinewidth": 0,
             "ticks": ""
            },
            "type": "choropleth"
           }
          ],
          "contour": [
           {
            "colorbar": {
             "outlinewidth": 0,
             "ticks": ""
            },
            "colorscale": [
             [
              0,
              "#0d0887"
             ],
             [
              0.1111111111111111,
              "#46039f"
             ],
             [
              0.2222222222222222,
              "#7201a8"
             ],
             [
              0.3333333333333333,
              "#9c179e"
             ],
             [
              0.4444444444444444,
              "#bd3786"
             ],
             [
              0.5555555555555556,
              "#d8576b"
             ],
             [
              0.6666666666666666,
              "#ed7953"
             ],
             [
              0.7777777777777778,
              "#fb9f3a"
             ],
             [
              0.8888888888888888,
              "#fdca26"
             ],
             [
              1,
              "#f0f921"
             ]
            ],
            "type": "contour"
           }
          ],
          "contourcarpet": [
           {
            "colorbar": {
             "outlinewidth": 0,
             "ticks": ""
            },
            "type": "contourcarpet"
           }
          ],
          "heatmap": [
           {
            "colorbar": {
             "outlinewidth": 0,
             "ticks": ""
            },
            "colorscale": [
             [
              0,
              "#0d0887"
             ],
             [
              0.1111111111111111,
              "#46039f"
             ],
             [
              0.2222222222222222,
              "#7201a8"
             ],
             [
              0.3333333333333333,
              "#9c179e"
             ],
             [
              0.4444444444444444,
              "#bd3786"
             ],
             [
              0.5555555555555556,
              "#d8576b"
             ],
             [
              0.6666666666666666,
              "#ed7953"
             ],
             [
              0.7777777777777778,
              "#fb9f3a"
             ],
             [
              0.8888888888888888,
              "#fdca26"
             ],
             [
              1,
              "#f0f921"
             ]
            ],
            "type": "heatmap"
           }
          ],
          "heatmapgl": [
           {
            "colorbar": {
             "outlinewidth": 0,
             "ticks": ""
            },
            "colorscale": [
             [
              0,
              "#0d0887"
             ],
             [
              0.1111111111111111,
              "#46039f"
             ],
             [
              0.2222222222222222,
              "#7201a8"
             ],
             [
              0.3333333333333333,
              "#9c179e"
             ],
             [
              0.4444444444444444,
              "#bd3786"
             ],
             [
              0.5555555555555556,
              "#d8576b"
             ],
             [
              0.6666666666666666,
              "#ed7953"
             ],
             [
              0.7777777777777778,
              "#fb9f3a"
             ],
             [
              0.8888888888888888,
              "#fdca26"
             ],
             [
              1,
              "#f0f921"
             ]
            ],
            "type": "heatmapgl"
           }
          ],
          "histogram": [
           {
            "marker": {
             "pattern": {
              "fillmode": "overlay",
              "size": 10,
              "solidity": 0.2
             }
            },
            "type": "histogram"
           }
          ],
          "histogram2d": [
           {
            "colorbar": {
             "outlinewidth": 0,
             "ticks": ""
            },
            "colorscale": [
             [
              0,
              "#0d0887"
             ],
             [
              0.1111111111111111,
              "#46039f"
             ],
             [
              0.2222222222222222,
              "#7201a8"
             ],
             [
              0.3333333333333333,
              "#9c179e"
             ],
             [
              0.4444444444444444,
              "#bd3786"
             ],
             [
              0.5555555555555556,
              "#d8576b"
             ],
             [
              0.6666666666666666,
              "#ed7953"
             ],
             [
              0.7777777777777778,
              "#fb9f3a"
             ],
             [
              0.8888888888888888,
              "#fdca26"
             ],
             [
              1,
              "#f0f921"
             ]
            ],
            "type": "histogram2d"
           }
          ],
          "histogram2dcontour": [
           {
            "colorbar": {
             "outlinewidth": 0,
             "ticks": ""
            },
            "colorscale": [
             [
              0,
              "#0d0887"
             ],
             [
              0.1111111111111111,
              "#46039f"
             ],
             [
              0.2222222222222222,
              "#7201a8"
             ],
             [
              0.3333333333333333,
              "#9c179e"
             ],
             [
              0.4444444444444444,
              "#bd3786"
             ],
             [
              0.5555555555555556,
              "#d8576b"
             ],
             [
              0.6666666666666666,
              "#ed7953"
             ],
             [
              0.7777777777777778,
              "#fb9f3a"
             ],
             [
              0.8888888888888888,
              "#fdca26"
             ],
             [
              1,
              "#f0f921"
             ]
            ],
            "type": "histogram2dcontour"
           }
          ],
          "mesh3d": [
           {
            "colorbar": {
             "outlinewidth": 0,
             "ticks": ""
            },
            "type": "mesh3d"
           }
          ],
          "parcoords": [
           {
            "line": {
             "colorbar": {
              "outlinewidth": 0,
              "ticks": ""
             }
            },
            "type": "parcoords"
           }
          ],
          "pie": [
           {
            "automargin": true,
            "type": "pie"
           }
          ],
          "scatter": [
           {
            "fillpattern": {
             "fillmode": "overlay",
             "size": 10,
             "solidity": 0.2
            },
            "type": "scatter"
           }
          ],
          "scatter3d": [
           {
            "line": {
             "colorbar": {
              "outlinewidth": 0,
              "ticks": ""
             }
            },
            "marker": {
             "colorbar": {
              "outlinewidth": 0,
              "ticks": ""
             }
            },
            "type": "scatter3d"
           }
          ],
          "scattercarpet": [
           {
            "marker": {
             "colorbar": {
              "outlinewidth": 0,
              "ticks": ""
             }
            },
            "type": "scattercarpet"
           }
          ],
          "scattergeo": [
           {
            "marker": {
             "colorbar": {
              "outlinewidth": 0,
              "ticks": ""
             }
            },
            "type": "scattergeo"
           }
          ],
          "scattergl": [
           {
            "marker": {
             "colorbar": {
              "outlinewidth": 0,
              "ticks": ""
             }
            },
            "type": "scattergl"
           }
          ],
          "scattermapbox": [
           {
            "marker": {
             "colorbar": {
              "outlinewidth": 0,
              "ticks": ""
             }
            },
            "type": "scattermapbox"
           }
          ],
          "scatterpolar": [
           {
            "marker": {
             "colorbar": {
              "outlinewidth": 0,
              "ticks": ""
             }
            },
            "type": "scatterpolar"
           }
          ],
          "scatterpolargl": [
           {
            "marker": {
             "colorbar": {
              "outlinewidth": 0,
              "ticks": ""
             }
            },
            "type": "scatterpolargl"
           }
          ],
          "scatterternary": [
           {
            "marker": {
             "colorbar": {
              "outlinewidth": 0,
              "ticks": ""
             }
            },
            "type": "scatterternary"
           }
          ],
          "surface": [
           {
            "colorbar": {
             "outlinewidth": 0,
             "ticks": ""
            },
            "colorscale": [
             [
              0,
              "#0d0887"
             ],
             [
              0.1111111111111111,
              "#46039f"
             ],
             [
              0.2222222222222222,
              "#7201a8"
             ],
             [
              0.3333333333333333,
              "#9c179e"
             ],
             [
              0.4444444444444444,
              "#bd3786"
             ],
             [
              0.5555555555555556,
              "#d8576b"
             ],
             [
              0.6666666666666666,
              "#ed7953"
             ],
             [
              0.7777777777777778,
              "#fb9f3a"
             ],
             [
              0.8888888888888888,
              "#fdca26"
             ],
             [
              1,
              "#f0f921"
             ]
            ],
            "type": "surface"
           }
          ],
          "table": [
           {
            "cells": {
             "fill": {
              "color": "#EBF0F8"
             },
             "line": {
              "color": "white"
             }
            },
            "header": {
             "fill": {
              "color": "#C8D4E3"
             },
             "line": {
              "color": "white"
             }
            },
            "type": "table"
           }
          ]
         },
         "layout": {
          "annotationdefaults": {
           "arrowcolor": "#2a3f5f",
           "arrowhead": 0,
           "arrowwidth": 1
          },
          "autotypenumbers": "strict",
          "coloraxis": {
           "colorbar": {
            "outlinewidth": 0,
            "ticks": ""
           }
          },
          "colorscale": {
           "diverging": [
            [
             0,
             "#8e0152"
            ],
            [
             0.1,
             "#c51b7d"
            ],
            [
             0.2,
             "#de77ae"
            ],
            [
             0.3,
             "#f1b6da"
            ],
            [
             0.4,
             "#fde0ef"
            ],
            [
             0.5,
             "#f7f7f7"
            ],
            [
             0.6,
             "#e6f5d0"
            ],
            [
             0.7,
             "#b8e186"
            ],
            [
             0.8,
             "#7fbc41"
            ],
            [
             0.9,
             "#4d9221"
            ],
            [
             1,
             "#276419"
            ]
           ],
           "sequential": [
            [
             0,
             "#0d0887"
            ],
            [
             0.1111111111111111,
             "#46039f"
            ],
            [
             0.2222222222222222,
             "#7201a8"
            ],
            [
             0.3333333333333333,
             "#9c179e"
            ],
            [
             0.4444444444444444,
             "#bd3786"
            ],
            [
             0.5555555555555556,
             "#d8576b"
            ],
            [
             0.6666666666666666,
             "#ed7953"
            ],
            [
             0.7777777777777778,
             "#fb9f3a"
            ],
            [
             0.8888888888888888,
             "#fdca26"
            ],
            [
             1,
             "#f0f921"
            ]
           ],
           "sequentialminus": [
            [
             0,
             "#0d0887"
            ],
            [
             0.1111111111111111,
             "#46039f"
            ],
            [
             0.2222222222222222,
             "#7201a8"
            ],
            [
             0.3333333333333333,
             "#9c179e"
            ],
            [
             0.4444444444444444,
             "#bd3786"
            ],
            [
             0.5555555555555556,
             "#d8576b"
            ],
            [
             0.6666666666666666,
             "#ed7953"
            ],
            [
             0.7777777777777778,
             "#fb9f3a"
            ],
            [
             0.8888888888888888,
             "#fdca26"
            ],
            [
             1,
             "#f0f921"
            ]
           ]
          },
          "colorway": [
           "#636efa",
           "#EF553B",
           "#00cc96",
           "#ab63fa",
           "#FFA15A",
           "#19d3f3",
           "#FF6692",
           "#B6E880",
           "#FF97FF",
           "#FECB52"
          ],
          "font": {
           "color": "#2a3f5f"
          },
          "geo": {
           "bgcolor": "white",
           "lakecolor": "white",
           "landcolor": "#E5ECF6",
           "showlakes": true,
           "showland": true,
           "subunitcolor": "white"
          },
          "hoverlabel": {
           "align": "left"
          },
          "hovermode": "closest",
          "mapbox": {
           "style": "light"
          },
          "paper_bgcolor": "white",
          "plot_bgcolor": "#E5ECF6",
          "polar": {
           "angularaxis": {
            "gridcolor": "white",
            "linecolor": "white",
            "ticks": ""
           },
           "bgcolor": "#E5ECF6",
           "radialaxis": {
            "gridcolor": "white",
            "linecolor": "white",
            "ticks": ""
           }
          },
          "scene": {
           "xaxis": {
            "backgroundcolor": "#E5ECF6",
            "gridcolor": "white",
            "gridwidth": 2,
            "linecolor": "white",
            "showbackground": true,
            "ticks": "",
            "zerolinecolor": "white"
           },
           "yaxis": {
            "backgroundcolor": "#E5ECF6",
            "gridcolor": "white",
            "gridwidth": 2,
            "linecolor": "white",
            "showbackground": true,
            "ticks": "",
            "zerolinecolor": "white"
           },
           "zaxis": {
            "backgroundcolor": "#E5ECF6",
            "gridcolor": "white",
            "gridwidth": 2,
            "linecolor": "white",
            "showbackground": true,
            "ticks": "",
            "zerolinecolor": "white"
           }
          },
          "shapedefaults": {
           "line": {
            "color": "#2a3f5f"
           }
          },
          "ternary": {
           "aaxis": {
            "gridcolor": "white",
            "linecolor": "white",
            "ticks": ""
           },
           "baxis": {
            "gridcolor": "white",
            "linecolor": "white",
            "ticks": ""
           },
           "bgcolor": "#E5ECF6",
           "caxis": {
            "gridcolor": "white",
            "linecolor": "white",
            "ticks": ""
           }
          },
          "title": {
           "x": 0.05
          },
          "xaxis": {
           "automargin": true,
           "gridcolor": "white",
           "linecolor": "white",
           "ticks": "",
           "title": {
            "standoff": 15
           },
           "zerolinecolor": "white",
           "zerolinewidth": 2
          },
          "yaxis": {
           "automargin": true,
           "gridcolor": "white",
           "linecolor": "white",
           "ticks": "",
           "title": {
            "standoff": 15
           },
           "zerolinecolor": "white",
           "zerolinewidth": 2
          }
         }
        },
        "title": {
         "text": "PM2.5 Time Series for Cairo: March, April, and May"
        },
        "xaxis": {
         "anchor": "y",
         "domain": [
          0,
          1
         ],
         "title": {
          "text": "Date"
         }
        },
        "yaxis": {
         "anchor": "x",
         "domain": [
          0,
          1
         ],
         "title": {
          "text": "PM2.5 Value"
         }
        }
       }
      }
     },
     "metadata": {},
     "output_type": "display_data"
    }
   ],
   "source": [
    "\n",
    "\n",
    "# Convert the datetime column to datetime objects\n",
    "cairomarch['datetimeLocal'] = pd.to_datetime(cairomarch['datetimeLocal'], utc=True)\n",
    "cairoapril['datetimeLocal'] = pd.to_datetime(cairoapril['datetimeLocal'], utc=True)\n",
    "cairomay['datetimeLocal'] = pd.to_datetime(cairomay['datetimeLocal'], utc=True)\n",
    "\n",
    "# Filter for PM2.5 measurements\n",
    "pm25_march = cairomarch[cairomarch['parameter'] == 'pm25']\n",
    "pm25_april = cairoapril[cairoapril['parameter'] == 'pm25']\n",
    "pm25_may = cairomay[cairomay['parameter'] == 'pm25']\n",
    "\n",
    "# Add a 'Month' column to each DataFrame for labeling\n",
    "pm25_march['Month'] = 'March'\n",
    "pm25_april['Month'] = 'April'\n",
    "pm25_may['Month'] = 'May'\n",
    "\n",
    "# Concatenate the DataFrames into a single DataFrame\n",
    "combined_df = pd.concat([pm25_march, pm25_april, pm25_may])\n",
    "\n",
    "# Create the time series plot\n",
    "fig = px.line(combined_df, x='datetimeLocal', y='value', color='Month',\n",
    "              title='PM2.5 Time Series for Cairo: March, April, and May',\n",
    "              labels={'datetimeLocal': 'Date', 'value': 'PM2.5 Value'})\n",
    "\n",
    "# Show the plot\n",
    "fig.show()\n"
   ]
  },
  {
   "cell_type": "markdown",
   "id": "6a65b8e8",
   "metadata": {},
   "source": [
    "### Parameter distribution"
   ]
  },
  {
   "cell_type": "code",
   "execution_count": 43,
   "id": "5ff78db5",
   "metadata": {},
   "outputs": [
    {
     "data": {
      "application/vnd.plotly.v1+json": {
       "config": {
        "plotlyServerURL": "https://plot.ly"
       },
       "data": [
        {
         "alignmentgroup": "True",
         "hovertemplate": "Month=%{x}<br>Mean PM2.5 Value=%{text}<extra></extra>",
         "legendgroup": "",
         "marker": {
          "color": "#636efa",
          "pattern": {
           "shape": ""
          }
         },
         "name": "",
         "offsetgroup": "",
         "orientation": "v",
         "showlegend": false,
         "text": [
          41.545968882602544,
          42.55890804597701,
          47.26462395543175
         ],
         "textposition": "outside",
         "texttemplate": "%{text:.2f}",
         "type": "bar",
         "x": [
          "March",
          "April",
          "May"
         ],
         "xaxis": "x",
         "y": [
          41.545968882602544,
          42.55890804597701,
          47.26462395543175
         ],
         "yaxis": "y"
        }
       ],
       "layout": {
        "barmode": "relative",
        "legend": {
         "tracegroupgap": 0
        },
        "template": {
         "data": {
          "bar": [
           {
            "error_x": {
             "color": "#2a3f5f"
            },
            "error_y": {
             "color": "#2a3f5f"
            },
            "marker": {
             "line": {
              "color": "#E5ECF6",
              "width": 0.5
             },
             "pattern": {
              "fillmode": "overlay",
              "size": 10,
              "solidity": 0.2
             }
            },
            "type": "bar"
           }
          ],
          "barpolar": [
           {
            "marker": {
             "line": {
              "color": "#E5ECF6",
              "width": 0.5
             },
             "pattern": {
              "fillmode": "overlay",
              "size": 10,
              "solidity": 0.2
             }
            },
            "type": "barpolar"
           }
          ],
          "carpet": [
           {
            "aaxis": {
             "endlinecolor": "#2a3f5f",
             "gridcolor": "white",
             "linecolor": "white",
             "minorgridcolor": "white",
             "startlinecolor": "#2a3f5f"
            },
            "baxis": {
             "endlinecolor": "#2a3f5f",
             "gridcolor": "white",
             "linecolor": "white",
             "minorgridcolor": "white",
             "startlinecolor": "#2a3f5f"
            },
            "type": "carpet"
           }
          ],
          "choropleth": [
           {
            "colorbar": {
             "outlinewidth": 0,
             "ticks": ""
            },
            "type": "choropleth"
           }
          ],
          "contour": [
           {
            "colorbar": {
             "outlinewidth": 0,
             "ticks": ""
            },
            "colorscale": [
             [
              0,
              "#0d0887"
             ],
             [
              0.1111111111111111,
              "#46039f"
             ],
             [
              0.2222222222222222,
              "#7201a8"
             ],
             [
              0.3333333333333333,
              "#9c179e"
             ],
             [
              0.4444444444444444,
              "#bd3786"
             ],
             [
              0.5555555555555556,
              "#d8576b"
             ],
             [
              0.6666666666666666,
              "#ed7953"
             ],
             [
              0.7777777777777778,
              "#fb9f3a"
             ],
             [
              0.8888888888888888,
              "#fdca26"
             ],
             [
              1,
              "#f0f921"
             ]
            ],
            "type": "contour"
           }
          ],
          "contourcarpet": [
           {
            "colorbar": {
             "outlinewidth": 0,
             "ticks": ""
            },
            "type": "contourcarpet"
           }
          ],
          "heatmap": [
           {
            "colorbar": {
             "outlinewidth": 0,
             "ticks": ""
            },
            "colorscale": [
             [
              0,
              "#0d0887"
             ],
             [
              0.1111111111111111,
              "#46039f"
             ],
             [
              0.2222222222222222,
              "#7201a8"
             ],
             [
              0.3333333333333333,
              "#9c179e"
             ],
             [
              0.4444444444444444,
              "#bd3786"
             ],
             [
              0.5555555555555556,
              "#d8576b"
             ],
             [
              0.6666666666666666,
              "#ed7953"
             ],
             [
              0.7777777777777778,
              "#fb9f3a"
             ],
             [
              0.8888888888888888,
              "#fdca26"
             ],
             [
              1,
              "#f0f921"
             ]
            ],
            "type": "heatmap"
           }
          ],
          "heatmapgl": [
           {
            "colorbar": {
             "outlinewidth": 0,
             "ticks": ""
            },
            "colorscale": [
             [
              0,
              "#0d0887"
             ],
             [
              0.1111111111111111,
              "#46039f"
             ],
             [
              0.2222222222222222,
              "#7201a8"
             ],
             [
              0.3333333333333333,
              "#9c179e"
             ],
             [
              0.4444444444444444,
              "#bd3786"
             ],
             [
              0.5555555555555556,
              "#d8576b"
             ],
             [
              0.6666666666666666,
              "#ed7953"
             ],
             [
              0.7777777777777778,
              "#fb9f3a"
             ],
             [
              0.8888888888888888,
              "#fdca26"
             ],
             [
              1,
              "#f0f921"
             ]
            ],
            "type": "heatmapgl"
           }
          ],
          "histogram": [
           {
            "marker": {
             "pattern": {
              "fillmode": "overlay",
              "size": 10,
              "solidity": 0.2
             }
            },
            "type": "histogram"
           }
          ],
          "histogram2d": [
           {
            "colorbar": {
             "outlinewidth": 0,
             "ticks": ""
            },
            "colorscale": [
             [
              0,
              "#0d0887"
             ],
             [
              0.1111111111111111,
              "#46039f"
             ],
             [
              0.2222222222222222,
              "#7201a8"
             ],
             [
              0.3333333333333333,
              "#9c179e"
             ],
             [
              0.4444444444444444,
              "#bd3786"
             ],
             [
              0.5555555555555556,
              "#d8576b"
             ],
             [
              0.6666666666666666,
              "#ed7953"
             ],
             [
              0.7777777777777778,
              "#fb9f3a"
             ],
             [
              0.8888888888888888,
              "#fdca26"
             ],
             [
              1,
              "#f0f921"
             ]
            ],
            "type": "histogram2d"
           }
          ],
          "histogram2dcontour": [
           {
            "colorbar": {
             "outlinewidth": 0,
             "ticks": ""
            },
            "colorscale": [
             [
              0,
              "#0d0887"
             ],
             [
              0.1111111111111111,
              "#46039f"
             ],
             [
              0.2222222222222222,
              "#7201a8"
             ],
             [
              0.3333333333333333,
              "#9c179e"
             ],
             [
              0.4444444444444444,
              "#bd3786"
             ],
             [
              0.5555555555555556,
              "#d8576b"
             ],
             [
              0.6666666666666666,
              "#ed7953"
             ],
             [
              0.7777777777777778,
              "#fb9f3a"
             ],
             [
              0.8888888888888888,
              "#fdca26"
             ],
             [
              1,
              "#f0f921"
             ]
            ],
            "type": "histogram2dcontour"
           }
          ],
          "mesh3d": [
           {
            "colorbar": {
             "outlinewidth": 0,
             "ticks": ""
            },
            "type": "mesh3d"
           }
          ],
          "parcoords": [
           {
            "line": {
             "colorbar": {
              "outlinewidth": 0,
              "ticks": ""
             }
            },
            "type": "parcoords"
           }
          ],
          "pie": [
           {
            "automargin": true,
            "type": "pie"
           }
          ],
          "scatter": [
           {
            "fillpattern": {
             "fillmode": "overlay",
             "size": 10,
             "solidity": 0.2
            },
            "type": "scatter"
           }
          ],
          "scatter3d": [
           {
            "line": {
             "colorbar": {
              "outlinewidth": 0,
              "ticks": ""
             }
            },
            "marker": {
             "colorbar": {
              "outlinewidth": 0,
              "ticks": ""
             }
            },
            "type": "scatter3d"
           }
          ],
          "scattercarpet": [
           {
            "marker": {
             "colorbar": {
              "outlinewidth": 0,
              "ticks": ""
             }
            },
            "type": "scattercarpet"
           }
          ],
          "scattergeo": [
           {
            "marker": {
             "colorbar": {
              "outlinewidth": 0,
              "ticks": ""
             }
            },
            "type": "scattergeo"
           }
          ],
          "scattergl": [
           {
            "marker": {
             "colorbar": {
              "outlinewidth": 0,
              "ticks": ""
             }
            },
            "type": "scattergl"
           }
          ],
          "scattermapbox": [
           {
            "marker": {
             "colorbar": {
              "outlinewidth": 0,
              "ticks": ""
             }
            },
            "type": "scattermapbox"
           }
          ],
          "scatterpolar": [
           {
            "marker": {
             "colorbar": {
              "outlinewidth": 0,
              "ticks": ""
             }
            },
            "type": "scatterpolar"
           }
          ],
          "scatterpolargl": [
           {
            "marker": {
             "colorbar": {
              "outlinewidth": 0,
              "ticks": ""
             }
            },
            "type": "scatterpolargl"
           }
          ],
          "scatterternary": [
           {
            "marker": {
             "colorbar": {
              "outlinewidth": 0,
              "ticks": ""
             }
            },
            "type": "scatterternary"
           }
          ],
          "surface": [
           {
            "colorbar": {
             "outlinewidth": 0,
             "ticks": ""
            },
            "colorscale": [
             [
              0,
              "#0d0887"
             ],
             [
              0.1111111111111111,
              "#46039f"
             ],
             [
              0.2222222222222222,
              "#7201a8"
             ],
             [
              0.3333333333333333,
              "#9c179e"
             ],
             [
              0.4444444444444444,
              "#bd3786"
             ],
             [
              0.5555555555555556,
              "#d8576b"
             ],
             [
              0.6666666666666666,
              "#ed7953"
             ],
             [
              0.7777777777777778,
              "#fb9f3a"
             ],
             [
              0.8888888888888888,
              "#fdca26"
             ],
             [
              1,
              "#f0f921"
             ]
            ],
            "type": "surface"
           }
          ],
          "table": [
           {
            "cells": {
             "fill": {
              "color": "#EBF0F8"
             },
             "line": {
              "color": "white"
             }
            },
            "header": {
             "fill": {
              "color": "#C8D4E3"
             },
             "line": {
              "color": "white"
             }
            },
            "type": "table"
           }
          ]
         },
         "layout": {
          "annotationdefaults": {
           "arrowcolor": "#2a3f5f",
           "arrowhead": 0,
           "arrowwidth": 1
          },
          "autotypenumbers": "strict",
          "coloraxis": {
           "colorbar": {
            "outlinewidth": 0,
            "ticks": ""
           }
          },
          "colorscale": {
           "diverging": [
            [
             0,
             "#8e0152"
            ],
            [
             0.1,
             "#c51b7d"
            ],
            [
             0.2,
             "#de77ae"
            ],
            [
             0.3,
             "#f1b6da"
            ],
            [
             0.4,
             "#fde0ef"
            ],
            [
             0.5,
             "#f7f7f7"
            ],
            [
             0.6,
             "#e6f5d0"
            ],
            [
             0.7,
             "#b8e186"
            ],
            [
             0.8,
             "#7fbc41"
            ],
            [
             0.9,
             "#4d9221"
            ],
            [
             1,
             "#276419"
            ]
           ],
           "sequential": [
            [
             0,
             "#0d0887"
            ],
            [
             0.1111111111111111,
             "#46039f"
            ],
            [
             0.2222222222222222,
             "#7201a8"
            ],
            [
             0.3333333333333333,
             "#9c179e"
            ],
            [
             0.4444444444444444,
             "#bd3786"
            ],
            [
             0.5555555555555556,
             "#d8576b"
            ],
            [
             0.6666666666666666,
             "#ed7953"
            ],
            [
             0.7777777777777778,
             "#fb9f3a"
            ],
            [
             0.8888888888888888,
             "#fdca26"
            ],
            [
             1,
             "#f0f921"
            ]
           ],
           "sequentialminus": [
            [
             0,
             "#0d0887"
            ],
            [
             0.1111111111111111,
             "#46039f"
            ],
            [
             0.2222222222222222,
             "#7201a8"
            ],
            [
             0.3333333333333333,
             "#9c179e"
            ],
            [
             0.4444444444444444,
             "#bd3786"
            ],
            [
             0.5555555555555556,
             "#d8576b"
            ],
            [
             0.6666666666666666,
             "#ed7953"
            ],
            [
             0.7777777777777778,
             "#fb9f3a"
            ],
            [
             0.8888888888888888,
             "#fdca26"
            ],
            [
             1,
             "#f0f921"
            ]
           ]
          },
          "colorway": [
           "#636efa",
           "#EF553B",
           "#00cc96",
           "#ab63fa",
           "#FFA15A",
           "#19d3f3",
           "#FF6692",
           "#B6E880",
           "#FF97FF",
           "#FECB52"
          ],
          "font": {
           "color": "#2a3f5f"
          },
          "geo": {
           "bgcolor": "white",
           "lakecolor": "white",
           "landcolor": "#E5ECF6",
           "showlakes": true,
           "showland": true,
           "subunitcolor": "white"
          },
          "hoverlabel": {
           "align": "left"
          },
          "hovermode": "closest",
          "mapbox": {
           "style": "light"
          },
          "paper_bgcolor": "white",
          "plot_bgcolor": "#E5ECF6",
          "polar": {
           "angularaxis": {
            "gridcolor": "white",
            "linecolor": "white",
            "ticks": ""
           },
           "bgcolor": "#E5ECF6",
           "radialaxis": {
            "gridcolor": "white",
            "linecolor": "white",
            "ticks": ""
           }
          },
          "scene": {
           "xaxis": {
            "backgroundcolor": "#E5ECF6",
            "gridcolor": "white",
            "gridwidth": 2,
            "linecolor": "white",
            "showbackground": true,
            "ticks": "",
            "zerolinecolor": "white"
           },
           "yaxis": {
            "backgroundcolor": "#E5ECF6",
            "gridcolor": "white",
            "gridwidth": 2,
            "linecolor": "white",
            "showbackground": true,
            "ticks": "",
            "zerolinecolor": "white"
           },
           "zaxis": {
            "backgroundcolor": "#E5ECF6",
            "gridcolor": "white",
            "gridwidth": 2,
            "linecolor": "white",
            "showbackground": true,
            "ticks": "",
            "zerolinecolor": "white"
           }
          },
          "shapedefaults": {
           "line": {
            "color": "#2a3f5f"
           }
          },
          "ternary": {
           "aaxis": {
            "gridcolor": "white",
            "linecolor": "white",
            "ticks": ""
           },
           "baxis": {
            "gridcolor": "white",
            "linecolor": "white",
            "ticks": ""
           },
           "bgcolor": "#E5ECF6",
           "caxis": {
            "gridcolor": "white",
            "linecolor": "white",
            "ticks": ""
           }
          },
          "title": {
           "x": 0.05
          },
          "xaxis": {
           "automargin": true,
           "gridcolor": "white",
           "linecolor": "white",
           "ticks": "",
           "title": {
            "standoff": 15
           },
           "zerolinecolor": "white",
           "zerolinewidth": 2
          },
          "yaxis": {
           "automargin": true,
           "gridcolor": "white",
           "linecolor": "white",
           "ticks": "",
           "title": {
            "standoff": 15
           },
           "zerolinecolor": "white",
           "zerolinewidth": 2
          }
         }
        },
        "title": {
         "text": "Comparison of Mean PM2.5 Levels in Cairo for March, April, and May"
        },
        "xaxis": {
         "anchor": "y",
         "domain": [
          0,
          1
         ],
         "title": {
          "text": "Month"
         }
        },
        "yaxis": {
         "anchor": "x",
         "domain": [
          0,
          1
         ],
         "title": {
          "text": "Mean PM2.5 Value"
         }
        }
       }
      }
     },
     "metadata": {},
     "output_type": "display_data"
    }
   ],
   "source": [
    "\n",
    "\n",
    "# Filter for PM2.5 measurements\n",
    "pm25_march = cairomarch[cairomarch['parameter'] == 'pm25']\n",
    "pm25_april = cairoapril[cairoapril['parameter'] == 'pm25']\n",
    "pm25_may = cairomay[cairomay['parameter'] == 'pm25']\n",
    "\n",
    "# Calculate the mean PM2.5 values\n",
    "mean_pm25_march = pm25_march['value'].mean()\n",
    "mean_pm25_april = pm25_april['value'].mean()\n",
    "mean_pm25_may = pm25_may['value'].mean()\n",
    "\n",
    "# Create a DataFrame for plotting\n",
    "mean_pm25_df = pd.DataFrame({\n",
    "    'Month': ['March', 'April', 'May'],\n",
    "    'Mean PM2.5': [mean_pm25_march, mean_pm25_april, mean_pm25_may]\n",
    "})\n",
    "\n",
    "# Create the bar chart\n",
    "fig = px.bar(mean_pm25_df, x='Month', y='Mean PM2.5',\n",
    "             title='Comparison of Mean PM2.5 Levels in Cairo for March, April, and May',\n",
    "             labels={'Mean PM2.5': 'Mean PM2.5 Value'},\n",
    "             text='Mean PM2.5')  # Show text labels on bars\n",
    "\n",
    "fig.update_traces(texttemplate='%{text:.2f}', textposition='outside')  # Format text labels\n",
    "fig.update_layout(yaxis_title='Mean PM2.5 Value')  # Label y-axis\n",
    "\n",
    "# Show the plot\n",
    "fig.show()\n"
   ]
  },
  {
   "cell_type": "code",
   "execution_count": 44,
   "id": "27543d3a",
   "metadata": {},
   "outputs": [
    {
     "data": {
      "application/vnd.plotly.v1+json": {
       "config": {
        "plotlyServerURL": "https://plot.ly"
       },
       "data": [
        {
         "domain": {
          "x": [
           0,
           1
          ],
          "y": [
           0,
           1
          ]
         },
         "hole": 0.3,
         "hovertemplate": "Month=%{label}<br>Mean PM2.5 Value=%{value}<extra></extra>",
         "labels": [
          "March",
          "April",
          "May"
         ],
         "legendgroup": "",
         "name": "",
         "showlegend": true,
         "type": "pie",
         "values": [
          41.545968882602544,
          42.55890804597701,
          47.26462395543175
         ]
        }
       ],
       "layout": {
        "legend": {
         "tracegroupgap": 0
        },
        "template": {
         "data": {
          "bar": [
           {
            "error_x": {
             "color": "#2a3f5f"
            },
            "error_y": {
             "color": "#2a3f5f"
            },
            "marker": {
             "line": {
              "color": "#E5ECF6",
              "width": 0.5
             },
             "pattern": {
              "fillmode": "overlay",
              "size": 10,
              "solidity": 0.2
             }
            },
            "type": "bar"
           }
          ],
          "barpolar": [
           {
            "marker": {
             "line": {
              "color": "#E5ECF6",
              "width": 0.5
             },
             "pattern": {
              "fillmode": "overlay",
              "size": 10,
              "solidity": 0.2
             }
            },
            "type": "barpolar"
           }
          ],
          "carpet": [
           {
            "aaxis": {
             "endlinecolor": "#2a3f5f",
             "gridcolor": "white",
             "linecolor": "white",
             "minorgridcolor": "white",
             "startlinecolor": "#2a3f5f"
            },
            "baxis": {
             "endlinecolor": "#2a3f5f",
             "gridcolor": "white",
             "linecolor": "white",
             "minorgridcolor": "white",
             "startlinecolor": "#2a3f5f"
            },
            "type": "carpet"
           }
          ],
          "choropleth": [
           {
            "colorbar": {
             "outlinewidth": 0,
             "ticks": ""
            },
            "type": "choropleth"
           }
          ],
          "contour": [
           {
            "colorbar": {
             "outlinewidth": 0,
             "ticks": ""
            },
            "colorscale": [
             [
              0,
              "#0d0887"
             ],
             [
              0.1111111111111111,
              "#46039f"
             ],
             [
              0.2222222222222222,
              "#7201a8"
             ],
             [
              0.3333333333333333,
              "#9c179e"
             ],
             [
              0.4444444444444444,
              "#bd3786"
             ],
             [
              0.5555555555555556,
              "#d8576b"
             ],
             [
              0.6666666666666666,
              "#ed7953"
             ],
             [
              0.7777777777777778,
              "#fb9f3a"
             ],
             [
              0.8888888888888888,
              "#fdca26"
             ],
             [
              1,
              "#f0f921"
             ]
            ],
            "type": "contour"
           }
          ],
          "contourcarpet": [
           {
            "colorbar": {
             "outlinewidth": 0,
             "ticks": ""
            },
            "type": "contourcarpet"
           }
          ],
          "heatmap": [
           {
            "colorbar": {
             "outlinewidth": 0,
             "ticks": ""
            },
            "colorscale": [
             [
              0,
              "#0d0887"
             ],
             [
              0.1111111111111111,
              "#46039f"
             ],
             [
              0.2222222222222222,
              "#7201a8"
             ],
             [
              0.3333333333333333,
              "#9c179e"
             ],
             [
              0.4444444444444444,
              "#bd3786"
             ],
             [
              0.5555555555555556,
              "#d8576b"
             ],
             [
              0.6666666666666666,
              "#ed7953"
             ],
             [
              0.7777777777777778,
              "#fb9f3a"
             ],
             [
              0.8888888888888888,
              "#fdca26"
             ],
             [
              1,
              "#f0f921"
             ]
            ],
            "type": "heatmap"
           }
          ],
          "heatmapgl": [
           {
            "colorbar": {
             "outlinewidth": 0,
             "ticks": ""
            },
            "colorscale": [
             [
              0,
              "#0d0887"
             ],
             [
              0.1111111111111111,
              "#46039f"
             ],
             [
              0.2222222222222222,
              "#7201a8"
             ],
             [
              0.3333333333333333,
              "#9c179e"
             ],
             [
              0.4444444444444444,
              "#bd3786"
             ],
             [
              0.5555555555555556,
              "#d8576b"
             ],
             [
              0.6666666666666666,
              "#ed7953"
             ],
             [
              0.7777777777777778,
              "#fb9f3a"
             ],
             [
              0.8888888888888888,
              "#fdca26"
             ],
             [
              1,
              "#f0f921"
             ]
            ],
            "type": "heatmapgl"
           }
          ],
          "histogram": [
           {
            "marker": {
             "pattern": {
              "fillmode": "overlay",
              "size": 10,
              "solidity": 0.2
             }
            },
            "type": "histogram"
           }
          ],
          "histogram2d": [
           {
            "colorbar": {
             "outlinewidth": 0,
             "ticks": ""
            },
            "colorscale": [
             [
              0,
              "#0d0887"
             ],
             [
              0.1111111111111111,
              "#46039f"
             ],
             [
              0.2222222222222222,
              "#7201a8"
             ],
             [
              0.3333333333333333,
              "#9c179e"
             ],
             [
              0.4444444444444444,
              "#bd3786"
             ],
             [
              0.5555555555555556,
              "#d8576b"
             ],
             [
              0.6666666666666666,
              "#ed7953"
             ],
             [
              0.7777777777777778,
              "#fb9f3a"
             ],
             [
              0.8888888888888888,
              "#fdca26"
             ],
             [
              1,
              "#f0f921"
             ]
            ],
            "type": "histogram2d"
           }
          ],
          "histogram2dcontour": [
           {
            "colorbar": {
             "outlinewidth": 0,
             "ticks": ""
            },
            "colorscale": [
             [
              0,
              "#0d0887"
             ],
             [
              0.1111111111111111,
              "#46039f"
             ],
             [
              0.2222222222222222,
              "#7201a8"
             ],
             [
              0.3333333333333333,
              "#9c179e"
             ],
             [
              0.4444444444444444,
              "#bd3786"
             ],
             [
              0.5555555555555556,
              "#d8576b"
             ],
             [
              0.6666666666666666,
              "#ed7953"
             ],
             [
              0.7777777777777778,
              "#fb9f3a"
             ],
             [
              0.8888888888888888,
              "#fdca26"
             ],
             [
              1,
              "#f0f921"
             ]
            ],
            "type": "histogram2dcontour"
           }
          ],
          "mesh3d": [
           {
            "colorbar": {
             "outlinewidth": 0,
             "ticks": ""
            },
            "type": "mesh3d"
           }
          ],
          "parcoords": [
           {
            "line": {
             "colorbar": {
              "outlinewidth": 0,
              "ticks": ""
             }
            },
            "type": "parcoords"
           }
          ],
          "pie": [
           {
            "automargin": true,
            "type": "pie"
           }
          ],
          "scatter": [
           {
            "fillpattern": {
             "fillmode": "overlay",
             "size": 10,
             "solidity": 0.2
            },
            "type": "scatter"
           }
          ],
          "scatter3d": [
           {
            "line": {
             "colorbar": {
              "outlinewidth": 0,
              "ticks": ""
             }
            },
            "marker": {
             "colorbar": {
              "outlinewidth": 0,
              "ticks": ""
             }
            },
            "type": "scatter3d"
           }
          ],
          "scattercarpet": [
           {
            "marker": {
             "colorbar": {
              "outlinewidth": 0,
              "ticks": ""
             }
            },
            "type": "scattercarpet"
           }
          ],
          "scattergeo": [
           {
            "marker": {
             "colorbar": {
              "outlinewidth": 0,
              "ticks": ""
             }
            },
            "type": "scattergeo"
           }
          ],
          "scattergl": [
           {
            "marker": {
             "colorbar": {
              "outlinewidth": 0,
              "ticks": ""
             }
            },
            "type": "scattergl"
           }
          ],
          "scattermapbox": [
           {
            "marker": {
             "colorbar": {
              "outlinewidth": 0,
              "ticks": ""
             }
            },
            "type": "scattermapbox"
           }
          ],
          "scatterpolar": [
           {
            "marker": {
             "colorbar": {
              "outlinewidth": 0,
              "ticks": ""
             }
            },
            "type": "scatterpolar"
           }
          ],
          "scatterpolargl": [
           {
            "marker": {
             "colorbar": {
              "outlinewidth": 0,
              "ticks": ""
             }
            },
            "type": "scatterpolargl"
           }
          ],
          "scatterternary": [
           {
            "marker": {
             "colorbar": {
              "outlinewidth": 0,
              "ticks": ""
             }
            },
            "type": "scatterternary"
           }
          ],
          "surface": [
           {
            "colorbar": {
             "outlinewidth": 0,
             "ticks": ""
            },
            "colorscale": [
             [
              0,
              "#0d0887"
             ],
             [
              0.1111111111111111,
              "#46039f"
             ],
             [
              0.2222222222222222,
              "#7201a8"
             ],
             [
              0.3333333333333333,
              "#9c179e"
             ],
             [
              0.4444444444444444,
              "#bd3786"
             ],
             [
              0.5555555555555556,
              "#d8576b"
             ],
             [
              0.6666666666666666,
              "#ed7953"
             ],
             [
              0.7777777777777778,
              "#fb9f3a"
             ],
             [
              0.8888888888888888,
              "#fdca26"
             ],
             [
              1,
              "#f0f921"
             ]
            ],
            "type": "surface"
           }
          ],
          "table": [
           {
            "cells": {
             "fill": {
              "color": "#EBF0F8"
             },
             "line": {
              "color": "white"
             }
            },
            "header": {
             "fill": {
              "color": "#C8D4E3"
             },
             "line": {
              "color": "white"
             }
            },
            "type": "table"
           }
          ]
         },
         "layout": {
          "annotationdefaults": {
           "arrowcolor": "#2a3f5f",
           "arrowhead": 0,
           "arrowwidth": 1
          },
          "autotypenumbers": "strict",
          "coloraxis": {
           "colorbar": {
            "outlinewidth": 0,
            "ticks": ""
           }
          },
          "colorscale": {
           "diverging": [
            [
             0,
             "#8e0152"
            ],
            [
             0.1,
             "#c51b7d"
            ],
            [
             0.2,
             "#de77ae"
            ],
            [
             0.3,
             "#f1b6da"
            ],
            [
             0.4,
             "#fde0ef"
            ],
            [
             0.5,
             "#f7f7f7"
            ],
            [
             0.6,
             "#e6f5d0"
            ],
            [
             0.7,
             "#b8e186"
            ],
            [
             0.8,
             "#7fbc41"
            ],
            [
             0.9,
             "#4d9221"
            ],
            [
             1,
             "#276419"
            ]
           ],
           "sequential": [
            [
             0,
             "#0d0887"
            ],
            [
             0.1111111111111111,
             "#46039f"
            ],
            [
             0.2222222222222222,
             "#7201a8"
            ],
            [
             0.3333333333333333,
             "#9c179e"
            ],
            [
             0.4444444444444444,
             "#bd3786"
            ],
            [
             0.5555555555555556,
             "#d8576b"
            ],
            [
             0.6666666666666666,
             "#ed7953"
            ],
            [
             0.7777777777777778,
             "#fb9f3a"
            ],
            [
             0.8888888888888888,
             "#fdca26"
            ],
            [
             1,
             "#f0f921"
            ]
           ],
           "sequentialminus": [
            [
             0,
             "#0d0887"
            ],
            [
             0.1111111111111111,
             "#46039f"
            ],
            [
             0.2222222222222222,
             "#7201a8"
            ],
            [
             0.3333333333333333,
             "#9c179e"
            ],
            [
             0.4444444444444444,
             "#bd3786"
            ],
            [
             0.5555555555555556,
             "#d8576b"
            ],
            [
             0.6666666666666666,
             "#ed7953"
            ],
            [
             0.7777777777777778,
             "#fb9f3a"
            ],
            [
             0.8888888888888888,
             "#fdca26"
            ],
            [
             1,
             "#f0f921"
            ]
           ]
          },
          "colorway": [
           "#636efa",
           "#EF553B",
           "#00cc96",
           "#ab63fa",
           "#FFA15A",
           "#19d3f3",
           "#FF6692",
           "#B6E880",
           "#FF97FF",
           "#FECB52"
          ],
          "font": {
           "color": "#2a3f5f"
          },
          "geo": {
           "bgcolor": "white",
           "lakecolor": "white",
           "landcolor": "#E5ECF6",
           "showlakes": true,
           "showland": true,
           "subunitcolor": "white"
          },
          "hoverlabel": {
           "align": "left"
          },
          "hovermode": "closest",
          "mapbox": {
           "style": "light"
          },
          "paper_bgcolor": "white",
          "plot_bgcolor": "#E5ECF6",
          "polar": {
           "angularaxis": {
            "gridcolor": "white",
            "linecolor": "white",
            "ticks": ""
           },
           "bgcolor": "#E5ECF6",
           "radialaxis": {
            "gridcolor": "white",
            "linecolor": "white",
            "ticks": ""
           }
          },
          "scene": {
           "xaxis": {
            "backgroundcolor": "#E5ECF6",
            "gridcolor": "white",
            "gridwidth": 2,
            "linecolor": "white",
            "showbackground": true,
            "ticks": "",
            "zerolinecolor": "white"
           },
           "yaxis": {
            "backgroundcolor": "#E5ECF6",
            "gridcolor": "white",
            "gridwidth": 2,
            "linecolor": "white",
            "showbackground": true,
            "ticks": "",
            "zerolinecolor": "white"
           },
           "zaxis": {
            "backgroundcolor": "#E5ECF6",
            "gridcolor": "white",
            "gridwidth": 2,
            "linecolor": "white",
            "showbackground": true,
            "ticks": "",
            "zerolinecolor": "white"
           }
          },
          "shapedefaults": {
           "line": {
            "color": "#2a3f5f"
           }
          },
          "ternary": {
           "aaxis": {
            "gridcolor": "white",
            "linecolor": "white",
            "ticks": ""
           },
           "baxis": {
            "gridcolor": "white",
            "linecolor": "white",
            "ticks": ""
           },
           "bgcolor": "#E5ECF6",
           "caxis": {
            "gridcolor": "white",
            "linecolor": "white",
            "ticks": ""
           }
          },
          "title": {
           "x": 0.05
          },
          "xaxis": {
           "automargin": true,
           "gridcolor": "white",
           "linecolor": "white",
           "ticks": "",
           "title": {
            "standoff": 15
           },
           "zerolinecolor": "white",
           "zerolinewidth": 2
          },
          "yaxis": {
           "automargin": true,
           "gridcolor": "white",
           "linecolor": "white",
           "ticks": "",
           "title": {
            "standoff": 15
           },
           "zerolinecolor": "white",
           "zerolinewidth": 2
          }
         }
        },
        "title": {
         "text": "Comparison of Mean PM2.5 Levels in Cairo for March, April, and May"
        }
       }
      }
     },
     "metadata": {},
     "output_type": "display_data"
    }
   ],
   "source": [
    "\n",
    "# Filter for PM2.5 measurements\n",
    "pm25_march = cairomarch[cairomarch['parameter'] == 'pm25']\n",
    "pm25_april = cairoapril[cairoapril['parameter'] == 'pm25']\n",
    "pm25_may = cairomay[cairomay['parameter'] == 'pm25']\n",
    "\n",
    "# Calculate the mean PM2.5 values\n",
    "mean_pm25_march = pm25_march['value'].mean()\n",
    "mean_pm25_april = pm25_april['value'].mean()\n",
    "mean_pm25_may = pm25_may['value'].mean()\n",
    "\n",
    "# Create a DataFrame for the pie chart\n",
    "mean_pm25_data = pd.DataFrame({\n",
    "    'Month': ['March', 'April', 'May'],\n",
    "    'Mean PM2.5': [mean_pm25_march, mean_pm25_april, mean_pm25_may]\n",
    "})\n",
    "\n",
    "# Create the pie chart\n",
    "fig = px.pie(mean_pm25_data, names='Month', values='Mean PM2.5', \n",
    "             title='Comparison of Mean PM2.5 Levels in Cairo for March, April, and May',\n",
    "             labels={'Mean PM2.5': 'Mean PM2.5 Value'},\n",
    "             hole=0.3)  # Creates a donut chart\n",
    "\n",
    "fig.show()\n"
   ]
  },
  {
   "cell_type": "code",
   "execution_count": 7,
   "id": "0427fc3c",
   "metadata": {},
   "outputs": [
    {
     "data": {
      "application/vnd.plotly.v1+json": {
       "config": {
        "plotlyServerURL": "https://plot.ly"
       },
       "data": [
        {
         "alignmentgroup": "True",
         "bingroup": "x",
         "histnorm": "percent",
         "hovertemplate": "Month=March<br>PM2.5 Value=%{x}<br>percent=%{y}<extra></extra>",
         "legendgroup": "March",
         "marker": {
          "color": "#636efa",
          "opacity": 0.7,
          "pattern": {
           "shape": ""
          }
         },
         "name": "March",
         "nbinsx": 30,
         "offsetgroup": "March",
         "orientation": "v",
         "showlegend": true,
         "type": "histogram",
         "x": [
          64,
          120,
          100,
          100,
          94,
          93,
          93,
          130,
          86,
          47,
          54,
          19,
          22,
          21,
          16,
          20,
          26,
          41,
          82,
          82,
          89,
          120,
          140,
          100,
          33,
          30,
          31,
          33,
          33,
          43,
          50,
          56,
          52,
          48,
          39,
          41,
          37,
          42,
          36,
          38,
          47,
          57,
          56,
          71,
          66,
          68,
          84,
          58,
          40,
          35,
          29,
          27,
          23,
          24,
          23,
          20,
          16,
          16,
          19,
          24,
          24,
          27,
          30,
          31,
          30,
          44,
          44,
          39,
          40,
          36,
          38,
          39,
          28,
          34,
          18,
          23,
          51,
          26,
          33,
          29,
          30,
          49,
          34,
          35,
          41,
          47,
          31,
          36,
          41,
          59,
          59,
          48,
          31,
          32,
          29,
          22,
          19,
          27,
          33,
          40,
          36,
          61,
          65,
          34,
          37,
          29,
          35,
          35,
          59,
          56,
          58,
          71,
          78,
          89,
          95,
          120,
          91,
          150,
          130,
          53,
          41,
          50,
          45,
          40,
          47,
          23,
          25,
          22,
          18,
          22,
          23,
          23,
          24,
          21,
          19,
          28,
          24,
          23,
          28,
          23,
          30,
          24,
          42,
          28,
          21,
          21,
          18,
          15,
          17,
          18,
          19,
          17,
          14,
          23,
          21,
          27,
          20,
          24,
          20,
          30,
          39,
          40,
          38,
          44,
          58,
          31,
          20,
          26,
          20,
          18,
          18,
          23,
          15,
          20,
          23,
          31,
          15,
          18,
          13,
          16,
          27,
          28,
          22,
          25,
          23,
          24,
          30,
          38,
          46,
          27,
          32,
          17,
          18,
          24,
          14,
          10,
          13,
          11,
          16,
          17,
          20,
          23,
          27,
          33,
          33,
          39,
          31,
          32,
          40,
          55,
          20,
          17,
          15,
          17,
          23,
          38,
          49,
          46,
          47,
          55,
          58,
          56,
          40,
          30,
          27,
          20,
          22,
          26,
          32,
          27,
          26,
          29,
          28,
          37,
          25,
          25,
          25,
          34,
          62,
          66,
          74,
          55,
          68,
          55,
          27,
          15,
          10,
          23,
          11,
          8,
          13,
          16,
          13,
          27,
          28,
          16,
          18,
          17,
          10,
          13,
          12,
          12,
          12,
          16,
          18,
          22,
          26,
          38,
          62,
          66,
          47,
          50,
          53,
          44,
          34,
          37,
          40,
          42,
          40,
          41,
          51,
          62,
          77,
          55,
          43,
          94,
          55,
          68,
          78,
          83,
          120,
          130,
          140,
          140,
          79,
          41,
          26,
          44,
          54,
          41,
          51,
          43,
          43,
          53,
          70,
          76,
          54,
          54,
          41,
          25,
          24,
          17,
          21,
          20,
          35,
          39,
          34,
          30,
          34,
          26,
          34,
          25,
          28,
          20,
          20,
          23,
          27,
          36,
          40,
          26,
          22,
          26,
          13,
          17,
          18,
          22,
          32,
          38,
          36,
          34,
          29,
          22,
          18,
          22,
          16,
          19,
          20,
          25,
          30,
          28,
          31,
          33,
          23,
          25,
          13,
          18,
          18,
          13,
          11,
          8,
          11,
          11,
          17,
          21,
          12,
          13,
          11,
          22,
          26,
          29,
          32,
          34,
          43,
          34,
          39,
          29,
          17,
          18,
          15,
          27,
          27,
          20,
          14,
          14,
          10,
          11,
          18,
          19,
          20,
          18,
          21,
          20,
          24,
          25,
          34,
          24,
          19,
          17,
          20,
          27,
          27,
          20,
          21,
          18,
          34,
          26,
          24,
          31,
          26,
          27,
          24,
          28,
          18,
          20,
          26,
          20,
          30,
          29,
          30,
          23,
          22,
          18,
          16,
          17,
          17,
          15,
          19,
          14,
          18,
          14,
          13,
          13,
          13,
          19,
          21,
          27,
          26,
          15,
          14,
          10,
          15,
          19,
          17,
          17,
          27,
          26,
          29,
          30,
          33,
          23,
          30,
          81,
          110,
          90,
          150,
          120,
          88,
          90,
          73,
          50,
          31,
          12,
          17,
          12,
          10,
          12,
          15,
          24,
          46,
          91,
          100,
          140,
          170,
          91,
          52,
          49,
          18,
          26,
          26,
          24,
          39,
          30,
          26,
          21,
          15,
          18,
          23,
          22,
          27,
          34,
          39,
          27,
          37,
          35,
          26,
          21,
          24,
          35,
          15,
          16,
          16,
          22,
          23,
          24,
          23,
          23,
          27,
          24,
          27,
          29,
          20,
          26,
          35,
          29,
          18,
          17,
          17,
          21,
          16,
          54,
          52,
          51,
          14,
          20,
          21,
          26,
          26,
          30,
          36,
          31,
          36,
          34,
          32,
          31,
          16,
          36,
          23,
          18,
          15,
          10,
          22,
          70,
          55,
          34,
          52,
          55,
          50,
          34,
          29,
          29,
          25,
          29,
          19,
          15,
          24,
          26,
          19,
          17,
          20,
          27,
          34,
          43,
          48,
          52,
          57,
          40,
          44,
          35,
          23,
          28,
          26,
          32,
          22,
          17,
          16,
          17,
          19,
          13,
          14,
          16,
          19,
          25,
          27,
          37,
          49,
          120,
          120,
          140,
          120,
          100,
          120,
          110,
          150,
          160,
          93,
          46,
          40,
          27,
          22,
          45,
          22,
          21,
          22,
          30,
          44,
          53,
          69,
          80,
          100,
          71,
          73,
          85,
          82,
          99,
          91,
          85,
          110,
          180,
          140,
          69,
          70,
          53,
          52,
          44,
          23,
          30,
          65,
          35,
          51,
          58,
          70,
          130,
          91,
          86,
          140,
          160,
          130,
          140,
          140,
          140,
          150,
          180,
          120,
          170,
          190,
          150,
          65,
          65,
          27,
          31,
          35,
          36,
          44,
          51,
          100,
          71,
          89,
          91,
          78,
          98,
          73,
          56,
          72,
          73,
          63,
          56,
          52,
          50,
          48,
          48,
          53,
          48,
          49,
          43,
          45,
          47,
          39,
          43,
          40,
          45,
          45,
          43,
          50,
          54,
          53,
          44,
          42,
          43,
          38,
          42,
          45,
          48,
          43,
          44,
          39,
          36,
          45,
          38,
          42,
          39,
          45,
          43,
          63,
          61,
          54,
          55,
          62
         ],
         "xaxis": "x",
         "yaxis": "y"
        },
        {
         "alignmentgroup": "True",
         "bingroup": "x",
         "histnorm": "percent",
         "hovertemplate": "Month=April<br>PM2.5 Value=%{x}<br>percent=%{y}<extra></extra>",
         "legendgroup": "April",
         "marker": {
          "color": "#EF553B",
          "opacity": 0.7,
          "pattern": {
           "shape": ""
          }
         },
         "name": "April",
         "nbinsx": 30,
         "offsetgroup": "April",
         "orientation": "v",
         "showlegend": true,
         "type": "histogram",
         "x": [
          55,
          48,
          56,
          40,
          59,
          78,
          76,
          81,
          49,
          45,
          59,
          51,
          46,
          38,
          37,
          38,
          40,
          48,
          48,
          52,
          50,
          57,
          61,
          51,
          57,
          52,
          50,
          49,
          62,
          65,
          54,
          65,
          54,
          49,
          48,
          38,
          43,
          37,
          38,
          38,
          42,
          37,
          38,
          40,
          56,
          64,
          59,
          53,
          71,
          67,
          56,
          62,
          70,
          74,
          80,
          79,
          64,
          71,
          58,
          46,
          51,
          45,
          46,
          37,
          42,
          46,
          59,
          69,
          51,
          57,
          64,
          37,
          35,
          79,
          71,
          56,
          56,
          64,
          75,
          86,
          110,
          120,
          97,
          66,
          52,
          50,
          47,
          43,
          53,
          62,
          80,
          74,
          78,
          91,
          81,
          100,
          75,
          65,
          57,
          63,
          58,
          62,
          76,
          72,
          80,
          62,
          38,
          34,
          51,
          46,
          36,
          24,
          26,
          31,
          30,
          25,
          26,
          20,
          22,
          31,
          22,
          25,
          43,
          21,
          25,
          29,
          32,
          22,
          36,
          38,
          35,
          32,
          30,
          23,
          21,
          24,
          27,
          28,
          27,
          22,
          23,
          22,
          24,
          24,
          25,
          25,
          20,
          28,
          20,
          18,
          25,
          21,
          21,
          26,
          24,
          30,
          27,
          26,
          26,
          26,
          27,
          27,
          23,
          28,
          30,
          24,
          18,
          14,
          15,
          24,
          20,
          15,
          17,
          19,
          22,
          26,
          26,
          18,
          16,
          15,
          21,
          50,
          46,
          48,
          38,
          29,
          22,
          32,
          23,
          25,
          22,
          17,
          17,
          19,
          21,
          27,
          23,
          21,
          18,
          18,
          20,
          19,
          16,
          11,
          16,
          17,
          20,
          25,
          25,
          27,
          26,
          22,
          26,
          30,
          35,
          35,
          52,
          46,
          66,
          58,
          71,
          63,
          36,
          23,
          25,
          21,
          13,
          15,
          16,
          20,
          15,
          15,
          24,
          26,
          26,
          29,
          26,
          27,
          24,
          24,
          17,
          18,
          30,
          45,
          39,
          36,
          43,
          34,
          25,
          29,
          30,
          24,
          27,
          22,
          22,
          31,
          26,
          29,
          40,
          32,
          26,
          28,
          28,
          20,
          19,
          19,
          16,
          22,
          48,
          40,
          40,
          44,
          43,
          44,
          32,
          24,
          25,
          23,
          32,
          21,
          24,
          31,
          27,
          28,
          26,
          22,
          29,
          39,
          37,
          24,
          23,
          17,
          20,
          34,
          26,
          28,
          30,
          32,
          29,
          30,
          31,
          29,
          30,
          27,
          27,
          37,
          29,
          40,
          36,
          32,
          29,
          27,
          34,
          36,
          30,
          27,
          26,
          29,
          28,
          25,
          33,
          32,
          42,
          30,
          32,
          32,
          34,
          29,
          42,
          36,
          31,
          38,
          39,
          31,
          37,
          25,
          44,
          39,
          44,
          35,
          29,
          33,
          32,
          42,
          47,
          55,
          35,
          26,
          33,
          34,
          23,
          25,
          22,
          31,
          31,
          29,
          20,
          23,
          25,
          33,
          47,
          49,
          62,
          57,
          31,
          30,
          38,
          33,
          23,
          25,
          25,
          25,
          25,
          34,
          26,
          32,
          31,
          34,
          37,
          29,
          35,
          28,
          37,
          64,
          65,
          57,
          56,
          52,
          58,
          35,
          45,
          86,
          42,
          30,
          21,
          21,
          19,
          17,
          32,
          30,
          36,
          37,
          55,
          66,
          81,
          94,
          110,
          210,
          240,
          160,
          140,
          140,
          100,
          89,
          99,
          89,
          96,
          110,
          90,
          96,
          82,
          78,
          78,
          69,
          64,
          66,
          80,
          67,
          56,
          52,
          48,
          43,
          38,
          31,
          40,
          44,
          39,
          47,
          50,
          53,
          50,
          46,
          38,
          39,
          37,
          32,
          30,
          33,
          34,
          33,
          36,
          32,
          24,
          24,
          25,
          24,
          20,
          18,
          20,
          23,
          23,
          21,
          35,
          46,
          85,
          75,
          62,
          55,
          43,
          42,
          37,
          39,
          46,
          46,
          38,
          36,
          33,
          27,
          27,
          16,
          16,
          8,
          25,
          21,
          22,
          36,
          25,
          18,
          21,
          21,
          28,
          31,
          44,
          43,
          36,
          32,
          31,
          31,
          42,
          30,
          28,
          19,
          20,
          21,
          7,
          9,
          10,
          13,
          19,
          18,
          16,
          16,
          14,
          9,
          13,
          13,
          10,
          8,
          22,
          17,
          23,
          31,
          31,
          25,
          27,
          21,
          20,
          17,
          17,
          18,
          21,
          27,
          47,
          66,
          76,
          96,
          98,
          83,
          53,
          48,
          50,
          53,
          56,
          62,
          52,
          44,
          34,
          42,
          40,
          38,
          43,
          55,
          93,
          100,
          88,
          79,
          75,
          120,
          120,
          130,
          110,
          87,
          94,
          40,
          70,
          92,
          56,
          52,
          71,
          67,
          110,
          110,
          140,
          150,
          170,
          180,
          120,
          130,
          110,
          110,
          100,
          100,
          100,
          89,
          79,
          80,
          91,
          100,
          100,
          94,
          80,
          98,
          94,
          80,
          61,
          59,
          52,
          46,
          57,
          46,
          66,
          39,
          53,
          16,
          21,
          21,
          33,
          27,
          37,
          41,
          49,
          41,
          39,
          38,
          37,
          37,
          28,
          31,
          38,
          48,
          30,
          35,
          29,
          29,
          27,
          18,
          18,
          18,
          29,
          31,
          35,
          33,
          34,
          46,
          27,
          40,
          44,
          34,
          29,
          30,
          25,
          25,
          32,
          29,
          31,
          25,
          27,
          26,
          22,
          17,
          16,
          19,
          22,
          29,
          21,
          31,
          34,
          41,
          26,
          28,
          30,
          33,
          28,
          29,
          30,
          36,
          33,
          36,
          35,
          37,
          30,
          27,
          27,
          29,
          36,
          19,
          18,
          20,
          33,
          42,
          46,
          49,
          42,
          38,
          45,
          44,
          38,
          34,
          30,
          30,
          43,
          38,
          37,
          45,
          35,
          29
         ],
         "xaxis": "x",
         "yaxis": "y"
        },
        {
         "alignmentgroup": "True",
         "bingroup": "x",
         "histnorm": "percent",
         "hovertemplate": "Month=May<br>PM2.5 Value=%{x}<br>percent=%{y}<extra></extra>",
         "legendgroup": "May",
         "marker": {
          "color": "#00cc96",
          "opacity": 0.7,
          "pattern": {
           "shape": ""
          }
         },
         "name": "May",
         "nbinsx": 30,
         "offsetgroup": "May",
         "orientation": "v",
         "showlegend": true,
         "type": "histogram",
         "x": [
          16,
          18,
          18,
          17,
          28,
          30,
          33,
          31,
          41,
          54,
          54,
          45,
          51,
          46,
          44,
          49,
          43,
          42,
          36,
          41,
          45,
          32,
          40,
          70,
          41,
          22,
          21,
          20,
          19,
          19,
          36,
          37,
          45,
          38,
          45,
          46,
          43,
          47,
          41,
          42,
          47,
          42,
          48,
          52,
          54,
          73,
          70,
          75,
          73,
          88,
          93,
          100,
          160,
          100,
          53,
          58,
          45,
          41,
          41,
          31,
          24,
          44,
          38,
          35,
          38,
          34,
          30,
          45,
          51,
          40,
          28,
          50,
          67,
          59,
          47,
          51,
          49,
          56,
          56,
          48,
          43,
          42,
          44,
          33,
          32,
          26,
          31,
          44,
          53,
          42,
          37,
          47,
          36,
          27,
          33,
          28,
          22,
          32,
          45,
          33,
          29,
          26,
          23,
          15,
          21,
          19,
          25,
          23,
          12,
          14,
          28,
          19,
          25,
          19,
          14,
          14,
          15,
          15,
          15,
          15,
          11,
          13,
          12,
          12,
          11,
          18,
          37,
          39,
          27,
          41,
          44,
          57,
          35,
          31,
          29,
          27,
          32,
          31,
          25,
          32,
          22,
          15,
          17,
          17,
          18,
          18,
          15,
          14,
          23,
          23,
          38,
          37,
          32,
          35,
          33,
          35,
          35,
          29,
          33,
          33,
          45,
          62,
          56,
          36,
          30,
          22,
          16,
          17,
          25,
          16,
          11,
          18,
          18,
          9,
          9,
          13,
          12,
          19,
          18,
          13,
          10,
          12,
          13,
          25,
          31,
          23,
          24,
          19,
          17,
          23,
          14,
          14,
          14,
          11,
          13,
          14,
          15,
          26,
          25,
          47,
          55,
          56,
          130,
          70,
          56,
          52,
          62,
          57,
          64,
          43,
          45,
          30,
          42,
          28,
          31,
          27,
          30,
          45,
          110,
          53,
          45,
          43,
          45,
          59,
          96,
          120,
          130,
          150,
          130,
          130,
          140,
          130,
          120,
          140,
          140,
          130,
          140,
          140,
          130,
          110,
          93,
          54,
          50,
          89,
          120,
          85,
          71,
          37,
          35,
          41,
          50,
          48,
          39,
          40,
          37,
          36,
          42,
          38,
          36,
          40,
          30,
          22,
          27,
          27,
          33,
          31,
          29,
          29,
          55,
          71,
          46,
          38,
          37,
          35,
          34,
          28,
          22,
          24,
          21,
          29,
          34,
          40,
          48,
          52,
          48,
          48,
          16,
          25,
          20,
          35,
          23,
          20,
          24,
          34,
          31,
          35,
          31,
          28,
          37,
          31,
          22,
          25,
          28,
          24,
          33,
          32,
          30,
          19,
          27,
          40,
          25,
          25,
          37,
          26,
          30,
          27,
          34,
          36,
          30,
          35,
          32,
          25,
          28,
          30,
          24,
          22,
          27,
          27,
          32,
          30,
          34,
          23,
          30,
          35,
          35,
          19,
          26,
          48,
          38,
          56,
          63,
          63,
          35,
          29,
          36,
          40,
          29,
          31,
          27,
          24,
          28,
          26,
          34,
          33,
          33,
          32,
          43,
          23,
          19,
          26,
          22,
          19,
          21,
          14,
          12,
          14,
          23,
          31,
          46,
          35,
          45,
          34,
          29,
          27,
          30,
          41,
          32,
          34,
          30,
          24,
          19,
          21,
          20,
          16,
          19,
          57,
          77,
          99,
          56,
          15,
          11,
          16,
          20,
          24,
          27,
          29,
          30,
          36,
          38,
          35,
          31,
          35,
          37,
          38,
          22,
          22,
          25,
          31,
          46,
          77,
          86,
          90,
          110,
          100,
          170,
          130,
          120,
          66,
          87,
          68,
          67,
          46,
          51,
          67,
          61,
          58,
          44,
          41,
          42,
          45,
          51,
          58,
          120,
          110,
          110,
          110,
          120,
          110,
          140,
          150,
          120,
          120,
          110,
          120,
          85,
          74,
          72,
          85,
          86,
          78,
          75,
          75,
          76,
          79,
          96,
          84,
          78,
          86,
          110,
          150,
          110,
          130,
          120,
          100,
          91,
          99,
          170,
          140,
          55,
          68,
          80,
          73,
          65,
          69,
          86,
          94,
          78,
          85,
          78,
          75,
          80,
          86,
          96,
          120,
          130,
          140,
          110,
          92,
          74,
          80,
          80,
          71,
          62,
          63,
          65,
          68,
          83,
          72,
          68,
          60,
          69,
          53,
          49,
          41,
          38,
          38,
          66,
          120,
          130,
          83,
          46,
          47,
          63,
          68,
          56,
          56,
          49,
          52,
          55,
          65,
          63,
          63,
          59,
          57,
          49,
          67,
          59,
          72,
          58,
          69,
          74,
          82,
          88,
          110,
          110,
          92,
          80,
          82,
          75,
          68,
          69,
          58,
          65,
          68,
          77,
          50,
          59,
          110,
          95,
          83,
          55,
          24,
          28,
          32,
          39,
          36,
          39,
          31,
          36,
          22,
          27,
          20,
          31,
          30,
          29,
          29,
          23,
          25,
          29,
          29,
          32,
          31,
          43,
          42,
          27,
          26,
          23,
          20,
          18,
          17,
          23,
          18,
          19,
          27,
          35,
          27,
          29,
          38,
          24,
          26,
          19,
          24,
          33,
          36,
          37,
          36,
          39,
          38,
          30,
          53,
          37,
          22,
          26,
          31,
          26,
          26,
          14,
          18,
          21,
          32,
          59,
          91,
          87,
          100,
          95,
          69,
          87,
          53,
          62,
          96,
          94,
          99,
          120,
          66,
          59,
          47,
          71,
          73,
          42,
          33,
          32,
          38,
          33,
          39,
          40,
          36,
          33,
          41,
          31,
          36,
          36,
          34,
          27,
          28,
          27,
          27,
          27,
          52,
          32,
          28,
          20,
          28,
          37,
          41,
          39,
          48,
          34,
          31,
          34,
          41,
          36,
          35,
          39,
          40,
          43,
          43,
          35,
          40,
          28,
          39,
          30,
          23,
          30,
          40,
          43,
          33,
          67,
          61,
          49,
          50,
          35,
          45,
          49,
          39,
          37,
          33,
          31,
          31,
          41,
          37,
          26,
          28,
          35,
          43,
          73,
          45,
          23,
          30,
          29,
          29,
          25,
          26,
          38,
          49,
          36,
          39,
          39,
          39,
          25,
          30,
          26,
          30,
          37,
          40,
          33,
          19,
          26,
          26
         ],
         "xaxis": "x",
         "yaxis": "y"
        }
       ],
       "layout": {
        "bargap": 0.1,
        "barmode": "overlay",
        "legend": {
         "title": {
          "text": "Month"
         },
         "tracegroupgap": 0
        },
        "template": {
         "data": {
          "bar": [
           {
            "error_x": {
             "color": "#2a3f5f"
            },
            "error_y": {
             "color": "#2a3f5f"
            },
            "marker": {
             "line": {
              "color": "#E5ECF6",
              "width": 0.5
             },
             "pattern": {
              "fillmode": "overlay",
              "size": 10,
              "solidity": 0.2
             }
            },
            "type": "bar"
           }
          ],
          "barpolar": [
           {
            "marker": {
             "line": {
              "color": "#E5ECF6",
              "width": 0.5
             },
             "pattern": {
              "fillmode": "overlay",
              "size": 10,
              "solidity": 0.2
             }
            },
            "type": "barpolar"
           }
          ],
          "carpet": [
           {
            "aaxis": {
             "endlinecolor": "#2a3f5f",
             "gridcolor": "white",
             "linecolor": "white",
             "minorgridcolor": "white",
             "startlinecolor": "#2a3f5f"
            },
            "baxis": {
             "endlinecolor": "#2a3f5f",
             "gridcolor": "white",
             "linecolor": "white",
             "minorgridcolor": "white",
             "startlinecolor": "#2a3f5f"
            },
            "type": "carpet"
           }
          ],
          "choropleth": [
           {
            "colorbar": {
             "outlinewidth": 0,
             "ticks": ""
            },
            "type": "choropleth"
           }
          ],
          "contour": [
           {
            "colorbar": {
             "outlinewidth": 0,
             "ticks": ""
            },
            "colorscale": [
             [
              0,
              "#0d0887"
             ],
             [
              0.1111111111111111,
              "#46039f"
             ],
             [
              0.2222222222222222,
              "#7201a8"
             ],
             [
              0.3333333333333333,
              "#9c179e"
             ],
             [
              0.4444444444444444,
              "#bd3786"
             ],
             [
              0.5555555555555556,
              "#d8576b"
             ],
             [
              0.6666666666666666,
              "#ed7953"
             ],
             [
              0.7777777777777778,
              "#fb9f3a"
             ],
             [
              0.8888888888888888,
              "#fdca26"
             ],
             [
              1,
              "#f0f921"
             ]
            ],
            "type": "contour"
           }
          ],
          "contourcarpet": [
           {
            "colorbar": {
             "outlinewidth": 0,
             "ticks": ""
            },
            "type": "contourcarpet"
           }
          ],
          "heatmap": [
           {
            "colorbar": {
             "outlinewidth": 0,
             "ticks": ""
            },
            "colorscale": [
             [
              0,
              "#0d0887"
             ],
             [
              0.1111111111111111,
              "#46039f"
             ],
             [
              0.2222222222222222,
              "#7201a8"
             ],
             [
              0.3333333333333333,
              "#9c179e"
             ],
             [
              0.4444444444444444,
              "#bd3786"
             ],
             [
              0.5555555555555556,
              "#d8576b"
             ],
             [
              0.6666666666666666,
              "#ed7953"
             ],
             [
              0.7777777777777778,
              "#fb9f3a"
             ],
             [
              0.8888888888888888,
              "#fdca26"
             ],
             [
              1,
              "#f0f921"
             ]
            ],
            "type": "heatmap"
           }
          ],
          "heatmapgl": [
           {
            "colorbar": {
             "outlinewidth": 0,
             "ticks": ""
            },
            "colorscale": [
             [
              0,
              "#0d0887"
             ],
             [
              0.1111111111111111,
              "#46039f"
             ],
             [
              0.2222222222222222,
              "#7201a8"
             ],
             [
              0.3333333333333333,
              "#9c179e"
             ],
             [
              0.4444444444444444,
              "#bd3786"
             ],
             [
              0.5555555555555556,
              "#d8576b"
             ],
             [
              0.6666666666666666,
              "#ed7953"
             ],
             [
              0.7777777777777778,
              "#fb9f3a"
             ],
             [
              0.8888888888888888,
              "#fdca26"
             ],
             [
              1,
              "#f0f921"
             ]
            ],
            "type": "heatmapgl"
           }
          ],
          "histogram": [
           {
            "marker": {
             "pattern": {
              "fillmode": "overlay",
              "size": 10,
              "solidity": 0.2
             }
            },
            "type": "histogram"
           }
          ],
          "histogram2d": [
           {
            "colorbar": {
             "outlinewidth": 0,
             "ticks": ""
            },
            "colorscale": [
             [
              0,
              "#0d0887"
             ],
             [
              0.1111111111111111,
              "#46039f"
             ],
             [
              0.2222222222222222,
              "#7201a8"
             ],
             [
              0.3333333333333333,
              "#9c179e"
             ],
             [
              0.4444444444444444,
              "#bd3786"
             ],
             [
              0.5555555555555556,
              "#d8576b"
             ],
             [
              0.6666666666666666,
              "#ed7953"
             ],
             [
              0.7777777777777778,
              "#fb9f3a"
             ],
             [
              0.8888888888888888,
              "#fdca26"
             ],
             [
              1,
              "#f0f921"
             ]
            ],
            "type": "histogram2d"
           }
          ],
          "histogram2dcontour": [
           {
            "colorbar": {
             "outlinewidth": 0,
             "ticks": ""
            },
            "colorscale": [
             [
              0,
              "#0d0887"
             ],
             [
              0.1111111111111111,
              "#46039f"
             ],
             [
              0.2222222222222222,
              "#7201a8"
             ],
             [
              0.3333333333333333,
              "#9c179e"
             ],
             [
              0.4444444444444444,
              "#bd3786"
             ],
             [
              0.5555555555555556,
              "#d8576b"
             ],
             [
              0.6666666666666666,
              "#ed7953"
             ],
             [
              0.7777777777777778,
              "#fb9f3a"
             ],
             [
              0.8888888888888888,
              "#fdca26"
             ],
             [
              1,
              "#f0f921"
             ]
            ],
            "type": "histogram2dcontour"
           }
          ],
          "mesh3d": [
           {
            "colorbar": {
             "outlinewidth": 0,
             "ticks": ""
            },
            "type": "mesh3d"
           }
          ],
          "parcoords": [
           {
            "line": {
             "colorbar": {
              "outlinewidth": 0,
              "ticks": ""
             }
            },
            "type": "parcoords"
           }
          ],
          "pie": [
           {
            "automargin": true,
            "type": "pie"
           }
          ],
          "scatter": [
           {
            "fillpattern": {
             "fillmode": "overlay",
             "size": 10,
             "solidity": 0.2
            },
            "type": "scatter"
           }
          ],
          "scatter3d": [
           {
            "line": {
             "colorbar": {
              "outlinewidth": 0,
              "ticks": ""
             }
            },
            "marker": {
             "colorbar": {
              "outlinewidth": 0,
              "ticks": ""
             }
            },
            "type": "scatter3d"
           }
          ],
          "scattercarpet": [
           {
            "marker": {
             "colorbar": {
              "outlinewidth": 0,
              "ticks": ""
             }
            },
            "type": "scattercarpet"
           }
          ],
          "scattergeo": [
           {
            "marker": {
             "colorbar": {
              "outlinewidth": 0,
              "ticks": ""
             }
            },
            "type": "scattergeo"
           }
          ],
          "scattergl": [
           {
            "marker": {
             "colorbar": {
              "outlinewidth": 0,
              "ticks": ""
             }
            },
            "type": "scattergl"
           }
          ],
          "scattermapbox": [
           {
            "marker": {
             "colorbar": {
              "outlinewidth": 0,
              "ticks": ""
             }
            },
            "type": "scattermapbox"
           }
          ],
          "scatterpolar": [
           {
            "marker": {
             "colorbar": {
              "outlinewidth": 0,
              "ticks": ""
             }
            },
            "type": "scatterpolar"
           }
          ],
          "scatterpolargl": [
           {
            "marker": {
             "colorbar": {
              "outlinewidth": 0,
              "ticks": ""
             }
            },
            "type": "scatterpolargl"
           }
          ],
          "scatterternary": [
           {
            "marker": {
             "colorbar": {
              "outlinewidth": 0,
              "ticks": ""
             }
            },
            "type": "scatterternary"
           }
          ],
          "surface": [
           {
            "colorbar": {
             "outlinewidth": 0,
             "ticks": ""
            },
            "colorscale": [
             [
              0,
              "#0d0887"
             ],
             [
              0.1111111111111111,
              "#46039f"
             ],
             [
              0.2222222222222222,
              "#7201a8"
             ],
             [
              0.3333333333333333,
              "#9c179e"
             ],
             [
              0.4444444444444444,
              "#bd3786"
             ],
             [
              0.5555555555555556,
              "#d8576b"
             ],
             [
              0.6666666666666666,
              "#ed7953"
             ],
             [
              0.7777777777777778,
              "#fb9f3a"
             ],
             [
              0.8888888888888888,
              "#fdca26"
             ],
             [
              1,
              "#f0f921"
             ]
            ],
            "type": "surface"
           }
          ],
          "table": [
           {
            "cells": {
             "fill": {
              "color": "#EBF0F8"
             },
             "line": {
              "color": "white"
             }
            },
            "header": {
             "fill": {
              "color": "#C8D4E3"
             },
             "line": {
              "color": "white"
             }
            },
            "type": "table"
           }
          ]
         },
         "layout": {
          "annotationdefaults": {
           "arrowcolor": "#2a3f5f",
           "arrowhead": 0,
           "arrowwidth": 1
          },
          "autotypenumbers": "strict",
          "coloraxis": {
           "colorbar": {
            "outlinewidth": 0,
            "ticks": ""
           }
          },
          "colorscale": {
           "diverging": [
            [
             0,
             "#8e0152"
            ],
            [
             0.1,
             "#c51b7d"
            ],
            [
             0.2,
             "#de77ae"
            ],
            [
             0.3,
             "#f1b6da"
            ],
            [
             0.4,
             "#fde0ef"
            ],
            [
             0.5,
             "#f7f7f7"
            ],
            [
             0.6,
             "#e6f5d0"
            ],
            [
             0.7,
             "#b8e186"
            ],
            [
             0.8,
             "#7fbc41"
            ],
            [
             0.9,
             "#4d9221"
            ],
            [
             1,
             "#276419"
            ]
           ],
           "sequential": [
            [
             0,
             "#0d0887"
            ],
            [
             0.1111111111111111,
             "#46039f"
            ],
            [
             0.2222222222222222,
             "#7201a8"
            ],
            [
             0.3333333333333333,
             "#9c179e"
            ],
            [
             0.4444444444444444,
             "#bd3786"
            ],
            [
             0.5555555555555556,
             "#d8576b"
            ],
            [
             0.6666666666666666,
             "#ed7953"
            ],
            [
             0.7777777777777778,
             "#fb9f3a"
            ],
            [
             0.8888888888888888,
             "#fdca26"
            ],
            [
             1,
             "#f0f921"
            ]
           ],
           "sequentialminus": [
            [
             0,
             "#0d0887"
            ],
            [
             0.1111111111111111,
             "#46039f"
            ],
            [
             0.2222222222222222,
             "#7201a8"
            ],
            [
             0.3333333333333333,
             "#9c179e"
            ],
            [
             0.4444444444444444,
             "#bd3786"
            ],
            [
             0.5555555555555556,
             "#d8576b"
            ],
            [
             0.6666666666666666,
             "#ed7953"
            ],
            [
             0.7777777777777778,
             "#fb9f3a"
            ],
            [
             0.8888888888888888,
             "#fdca26"
            ],
            [
             1,
             "#f0f921"
            ]
           ]
          },
          "colorway": [
           "#636efa",
           "#EF553B",
           "#00cc96",
           "#ab63fa",
           "#FFA15A",
           "#19d3f3",
           "#FF6692",
           "#B6E880",
           "#FF97FF",
           "#FECB52"
          ],
          "font": {
           "color": "#2a3f5f"
          },
          "geo": {
           "bgcolor": "white",
           "lakecolor": "white",
           "landcolor": "#E5ECF6",
           "showlakes": true,
           "showland": true,
           "subunitcolor": "white"
          },
          "hoverlabel": {
           "align": "left"
          },
          "hovermode": "closest",
          "mapbox": {
           "style": "light"
          },
          "paper_bgcolor": "white",
          "plot_bgcolor": "#E5ECF6",
          "polar": {
           "angularaxis": {
            "gridcolor": "white",
            "linecolor": "white",
            "ticks": ""
           },
           "bgcolor": "#E5ECF6",
           "radialaxis": {
            "gridcolor": "white",
            "linecolor": "white",
            "ticks": ""
           }
          },
          "scene": {
           "xaxis": {
            "backgroundcolor": "#E5ECF6",
            "gridcolor": "white",
            "gridwidth": 2,
            "linecolor": "white",
            "showbackground": true,
            "ticks": "",
            "zerolinecolor": "white"
           },
           "yaxis": {
            "backgroundcolor": "#E5ECF6",
            "gridcolor": "white",
            "gridwidth": 2,
            "linecolor": "white",
            "showbackground": true,
            "ticks": "",
            "zerolinecolor": "white"
           },
           "zaxis": {
            "backgroundcolor": "#E5ECF6",
            "gridcolor": "white",
            "gridwidth": 2,
            "linecolor": "white",
            "showbackground": true,
            "ticks": "",
            "zerolinecolor": "white"
           }
          },
          "shapedefaults": {
           "line": {
            "color": "#2a3f5f"
           }
          },
          "ternary": {
           "aaxis": {
            "gridcolor": "white",
            "linecolor": "white",
            "ticks": ""
           },
           "baxis": {
            "gridcolor": "white",
            "linecolor": "white",
            "ticks": ""
           },
           "bgcolor": "#E5ECF6",
           "caxis": {
            "gridcolor": "white",
            "linecolor": "white",
            "ticks": ""
           }
          },
          "title": {
           "x": 0.05
          },
          "xaxis": {
           "automargin": true,
           "gridcolor": "white",
           "linecolor": "white",
           "ticks": "",
           "title": {
            "standoff": 15
           },
           "zerolinecolor": "white",
           "zerolinewidth": 2
          },
          "yaxis": {
           "automargin": true,
           "gridcolor": "white",
           "linecolor": "white",
           "ticks": "",
           "title": {
            "standoff": 15
           },
           "zerolinecolor": "white",
           "zerolinewidth": 2
          }
         }
        },
        "title": {
         "text": "Distribution of PM2.5 Levels in Cairo for March, April, and May"
        },
        "xaxis": {
         "anchor": "y",
         "domain": [
          0,
          1
         ],
         "title": {
          "text": "PM2.5 Value"
         }
        },
        "yaxis": {
         "anchor": "x",
         "domain": [
          0,
          1
         ],
         "title": {
          "text": "Percentage"
         }
        }
       }
      }
     },
     "metadata": {},
     "output_type": "display_data"
    }
   ],
   "source": [
    "import pandas as pd\n",
    "import plotly.express as px\n",
    "\n",
    "# Load the datasets\n",
    "cairomarch = pd.read_csv(\"C:\\\\Users\\\\DAVY TANUI\\\\Desktop\\\\PRO\\\\AQIcairomarch.csv\")\n",
    "cairoapril = pd.read_csv(\"C:\\\\Users\\\\DAVY TANUI\\\\Desktop\\\\PRO\\\\AQIcairoapril.csv\")\n",
    "cairomay = pd.read_csv(\"C:\\\\Users\\\\DAVY TANUI\\\\Desktop\\\\PRO\\\\AQIcairomay.1721910996296.csv\")\n",
    "\n",
    "# Convert the datetime column to datetime objects\n",
    "cairomarch['datetimeLocal'] = pd.to_datetime(cairomarch['datetimeLocal'], utc=True)\n",
    "cairoapril['datetimeLocal'] = pd.to_datetime(cairoapril['datetimeLocal'], utc=True)\n",
    "cairomay['datetimeLocal'] = pd.to_datetime(cairomay['datetimeLocal'], utc=True)\n",
    "\n",
    "# Filter for PM2.5 measurements\n",
    "pm25_march = cairomarch[cairomarch['parameter'] == 'pm25']\n",
    "pm25_april = cairoapril[cairoapril['parameter'] == 'pm25']\n",
    "pm25_may = cairomay[cairomay['parameter'] == 'pm25']\n",
    "\n",
    "# Add a 'Month' column to each DataFrame for labeling\n",
    "pm25_march['Month'] = 'March'\n",
    "pm25_april['Month'] = 'April'\n",
    "pm25_may['Month'] = 'May'\n",
    "\n",
    "# Concatenate the DataFrames into a single DataFrame\n",
    "combined_df = pd.concat([pm25_march, pm25_april, pm25_may])\n",
    "\n",
    "# Create the histogram\n",
    "fig = px.histogram(combined_df, x='value', color='Month', \n",
    "                   title='Distribution of PM2.5 Levels in Cairo for March, April, and May',\n",
    "                   labels={'value': 'PM2.5 Value'},\n",
    "                   barmode='overlay',  # Overlay bars for comparison\n",
    "                   histnorm='percent',  # Show percentages\n",
    "                   opacity=0.7,  # Slightly transparent for better visibility\n",
    "                   nbins=30)  # Number of bins for the histogram\n",
    "\n",
    "# Update layout\n",
    "fig.update_layout(xaxis_title='PM2.5 Value', yaxis_title='Percentage',\n",
    "                  barmode='overlay',  # Overlay bars for comparison\n",
    "                  bargap=0.1)  # Gap between bars\n",
    "\n",
    "# Show the plot\n",
    "fig.show()\n"
   ]
  },
  {
   "cell_type": "markdown",
   "id": "5c714fc8",
   "metadata": {},
   "source": [
    "# GENERAL REPORT AND RECOMMENDATIONS"
   ]
  },
  {
   "attachments": {},
   "cell_type": "markdown",
   "id": "a69eb18a",
   "metadata": {},
   "source": [
    "#### Cairo\n",
    "Based on the analysis of air quality data in Cairo, it is evident that PM2.5 (particulate matter with a diameter of less than 2.5 micrometers) poses a significant health risk to its residents. PM2.5 levels in Cairo frequently exceed the World Health Organization's recommended limits, primarily due to vehicle emissions, industrial activities, and natural sources like dust storms. These fine particles can penetrate deep into the lungs and enter the bloodstream, leading to severe health issues such as respiratory and cardiovascular diseases. To mitigate the adverse effects of PM2.5 pollution, it is crucial to implement stricter emission regulations, promote the use of public transportation, transition to cleaner energy sources, and increase urban green spaces. Raising public awareness about the health impacts of PM2.5 and encouraging community participation in pollution reduction efforts are also essential steps towards improving air quality in Cairo."
   ]
  }
 ],
 "metadata": {
  "kernelspec": {
   "display_name": "Python 3 (ipykernel)",
   "language": "python",
   "name": "python3"
  },
  "language_info": {
   "codemirror_mode": {
    "name": "ipython",
    "version": 3
   },
   "file_extension": ".py",
   "mimetype": "text/x-python",
   "name": "python",
   "nbconvert_exporter": "python",
   "pygments_lexer": "ipython3",
   "version": "3.11.9"
  }
 },
 "nbformat": 4,
 "nbformat_minor": 5
}
